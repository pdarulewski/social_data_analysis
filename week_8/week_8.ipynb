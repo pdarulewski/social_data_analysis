{
 "cells": [
  {
   "cell_type": "markdown",
   "metadata": {},
   "source": [
    "# Part 1: More on narrative data visualization"
   ]
  },
  {
   "cell_type": "markdown",
   "metadata": {},
   "source": [
    "What's the point of Figure 7?\n",
    "> Present how the visualisations were created, which mechanism were used, how the interactiveness were achieved in order to present the data.\n",
    "\n",
    "Use Figure 7 to find the most common design choice within each category for the Visual narrative and Narrative structure (the categories within visual narrative are 'visual structuring', 'highlighting', etc).\n",
    "> Visual Narrative:\n",
    "> * Consistent Visual Platform\n",
    "> * Feature Distinction\n",
    "> Narrative Structure:\n",
    "> * User Directed Path\n",
    "> * Hover Highlighting / Details\n",
    "> * Filtering / Selection / Search\n",
    "> * Very Limited Interactivity\n",
    "> * Explicit Instruction\n",
    "> * Captions / Headlines\n",
    "\n",
    "Check out Figure 8 and section 4.3. What is your favorite genre of narrative visualization? Why? What is your least favorite genre? Why?\n",
    "> Partition poster – it looks like infographics containing a lot of information in a very comprehendable way.\n",
    "> Magazine style – to acquire the knowledge it is crucial to read the text which may take a lot of time for human being.\n",
    "\n",
    "Which genre is the \"How the virus got out\" NYT piece?\n",
    "> Combination of slide show and video. The video is interactive and split into sections."
   ]
  },
  {
   "cell_type": "code",
   "execution_count": 1,
   "metadata": {},
   "outputs": [],
   "source": [
    "import pandas as pd\n",
    "import numpy as np\n",
    "from datetime import datetime\n",
    "from bokeh.io import output_notebook, show\n",
    "from bokeh.models import ColumnDataSource, FactorRange, Legend\n",
    "from bokeh.plotting import figure\n",
    "from bokeh.transform import factor_cmap\n",
    "from bokeh.palettes import Spectral5\n",
    "import seaborn as sns"
   ]
  },
  {
   "cell_type": "code",
   "execution_count": 2,
   "metadata": {},
   "outputs": [
    {
     "data": {
      "text/html": [
       "\n",
       "    <div class=\"bk-root\">\n",
       "        <a href=\"https://bokeh.org\" target=\"_blank\" class=\"bk-logo bk-logo-small bk-logo-notebook\"></a>\n",
       "        <span id=\"1001\">Loading BokehJS ...</span>\n",
       "    </div>"
      ]
     },
     "metadata": {},
     "output_type": "display_data"
    },
    {
     "data": {
      "application/javascript": [
       "\n",
       "(function(root) {\n",
       "  function now() {\n",
       "    return new Date();\n",
       "  }\n",
       "\n",
       "  var force = true;\n",
       "\n",
       "  if (typeof root._bokeh_onload_callbacks === \"undefined\" || force === true) {\n",
       "    root._bokeh_onload_callbacks = [];\n",
       "    root._bokeh_is_loading = undefined;\n",
       "  }\n",
       "\n",
       "  var JS_MIME_TYPE = 'application/javascript';\n",
       "  var HTML_MIME_TYPE = 'text/html';\n",
       "  var EXEC_MIME_TYPE = 'application/vnd.bokehjs_exec.v0+json';\n",
       "  var CLASS_NAME = 'output_bokeh rendered_html';\n",
       "\n",
       "  /**\n",
       "   * Render data to the DOM node\n",
       "   */\n",
       "  function render(props, node) {\n",
       "    var script = document.createElement(\"script\");\n",
       "    node.appendChild(script);\n",
       "  }\n",
       "\n",
       "  /**\n",
       "   * Handle when an output is cleared or removed\n",
       "   */\n",
       "  function handleClearOutput(event, handle) {\n",
       "    var cell = handle.cell;\n",
       "\n",
       "    var id = cell.output_area._bokeh_element_id;\n",
       "    var server_id = cell.output_area._bokeh_server_id;\n",
       "    // Clean up Bokeh references\n",
       "    if (id != null && id in Bokeh.index) {\n",
       "      Bokeh.index[id].model.document.clear();\n",
       "      delete Bokeh.index[id];\n",
       "    }\n",
       "\n",
       "    if (server_id !== undefined) {\n",
       "      // Clean up Bokeh references\n",
       "      var cmd = \"from bokeh.io.state import curstate; print(curstate().uuid_to_server['\" + server_id + \"'].get_sessions()[0].document.roots[0]._id)\";\n",
       "      cell.notebook.kernel.execute(cmd, {\n",
       "        iopub: {\n",
       "          output: function(msg) {\n",
       "            var id = msg.content.text.trim();\n",
       "            if (id in Bokeh.index) {\n",
       "              Bokeh.index[id].model.document.clear();\n",
       "              delete Bokeh.index[id];\n",
       "            }\n",
       "          }\n",
       "        }\n",
       "      });\n",
       "      // Destroy server and session\n",
       "      var cmd = \"import bokeh.io.notebook as ion; ion.destroy_server('\" + server_id + \"')\";\n",
       "      cell.notebook.kernel.execute(cmd);\n",
       "    }\n",
       "  }\n",
       "\n",
       "  /**\n",
       "   * Handle when a new output is added\n",
       "   */\n",
       "  function handleAddOutput(event, handle) {\n",
       "    var output_area = handle.output_area;\n",
       "    var output = handle.output;\n",
       "\n",
       "    // limit handleAddOutput to display_data with EXEC_MIME_TYPE content only\n",
       "    if ((output.output_type != \"display_data\") || (!output.data.hasOwnProperty(EXEC_MIME_TYPE))) {\n",
       "      return\n",
       "    }\n",
       "\n",
       "    var toinsert = output_area.element.find(\".\" + CLASS_NAME.split(' ')[0]);\n",
       "\n",
       "    if (output.metadata[EXEC_MIME_TYPE][\"id\"] !== undefined) {\n",
       "      toinsert[toinsert.length - 1].firstChild.textContent = output.data[JS_MIME_TYPE];\n",
       "      // store reference to embed id on output_area\n",
       "      output_area._bokeh_element_id = output.metadata[EXEC_MIME_TYPE][\"id\"];\n",
       "    }\n",
       "    if (output.metadata[EXEC_MIME_TYPE][\"server_id\"] !== undefined) {\n",
       "      var bk_div = document.createElement(\"div\");\n",
       "      bk_div.innerHTML = output.data[HTML_MIME_TYPE];\n",
       "      var script_attrs = bk_div.children[0].attributes;\n",
       "      for (var i = 0; i < script_attrs.length; i++) {\n",
       "        toinsert[toinsert.length - 1].firstChild.setAttribute(script_attrs[i].name, script_attrs[i].value);\n",
       "        toinsert[toinsert.length - 1].firstChild.textContent = bk_div.children[0].textContent\n",
       "      }\n",
       "      // store reference to server id on output_area\n",
       "      output_area._bokeh_server_id = output.metadata[EXEC_MIME_TYPE][\"server_id\"];\n",
       "    }\n",
       "  }\n",
       "\n",
       "  function register_renderer(events, OutputArea) {\n",
       "\n",
       "    function append_mime(data, metadata, element) {\n",
       "      // create a DOM node to render to\n",
       "      var toinsert = this.create_output_subarea(\n",
       "        metadata,\n",
       "        CLASS_NAME,\n",
       "        EXEC_MIME_TYPE\n",
       "      );\n",
       "      this.keyboard_manager.register_events(toinsert);\n",
       "      // Render to node\n",
       "      var props = {data: data, metadata: metadata[EXEC_MIME_TYPE]};\n",
       "      render(props, toinsert[toinsert.length - 1]);\n",
       "      element.append(toinsert);\n",
       "      return toinsert\n",
       "    }\n",
       "\n",
       "    /* Handle when an output is cleared or removed */\n",
       "    events.on('clear_output.CodeCell', handleClearOutput);\n",
       "    events.on('delete.Cell', handleClearOutput);\n",
       "\n",
       "    /* Handle when a new output is added */\n",
       "    events.on('output_added.OutputArea', handleAddOutput);\n",
       "\n",
       "    /**\n",
       "     * Register the mime type and append_mime function with output_area\n",
       "     */\n",
       "    OutputArea.prototype.register_mime_type(EXEC_MIME_TYPE, append_mime, {\n",
       "      /* Is output safe? */\n",
       "      safe: true,\n",
       "      /* Index of renderer in `output_area.display_order` */\n",
       "      index: 0\n",
       "    });\n",
       "  }\n",
       "\n",
       "  // register the mime type if in Jupyter Notebook environment and previously unregistered\n",
       "  if (root.Jupyter !== undefined) {\n",
       "    var events = require('base/js/events');\n",
       "    var OutputArea = require('notebook/js/outputarea').OutputArea;\n",
       "\n",
       "    if (OutputArea.prototype.mime_types().indexOf(EXEC_MIME_TYPE) == -1) {\n",
       "      register_renderer(events, OutputArea);\n",
       "    }\n",
       "  }\n",
       "\n",
       "  \n",
       "  if (typeof (root._bokeh_timeout) === \"undefined\" || force === true) {\n",
       "    root._bokeh_timeout = Date.now() + 5000;\n",
       "    root._bokeh_failed_load = false;\n",
       "  }\n",
       "\n",
       "  var NB_LOAD_WARNING = {'data': {'text/html':\n",
       "     \"<div style='background-color: #fdd'>\\n\"+\n",
       "     \"<p>\\n\"+\n",
       "     \"BokehJS does not appear to have successfully loaded. If loading BokehJS from CDN, this \\n\"+\n",
       "     \"may be due to a slow or bad network connection. Possible fixes:\\n\"+\n",
       "     \"</p>\\n\"+\n",
       "     \"<ul>\\n\"+\n",
       "     \"<li>re-rerun `output_notebook()` to attempt to load from CDN again, or</li>\\n\"+\n",
       "     \"<li>use INLINE resources instead, as so:</li>\\n\"+\n",
       "     \"</ul>\\n\"+\n",
       "     \"<code>\\n\"+\n",
       "     \"from bokeh.resources import INLINE\\n\"+\n",
       "     \"output_notebook(resources=INLINE)\\n\"+\n",
       "     \"</code>\\n\"+\n",
       "     \"</div>\"}};\n",
       "\n",
       "  function display_loaded() {\n",
       "    var el = document.getElementById(\"1001\");\n",
       "    if (el != null) {\n",
       "      el.textContent = \"BokehJS is loading...\";\n",
       "    }\n",
       "    if (root.Bokeh !== undefined) {\n",
       "      if (el != null) {\n",
       "        el.textContent = \"BokehJS \" + root.Bokeh.version + \" successfully loaded.\";\n",
       "      }\n",
       "    } else if (Date.now() < root._bokeh_timeout) {\n",
       "      setTimeout(display_loaded, 100)\n",
       "    }\n",
       "  }\n",
       "\n",
       "\n",
       "  function run_callbacks() {\n",
       "    try {\n",
       "      root._bokeh_onload_callbacks.forEach(function(callback) {\n",
       "        if (callback != null)\n",
       "          callback();\n",
       "      });\n",
       "    } finally {\n",
       "      delete root._bokeh_onload_callbacks\n",
       "    }\n",
       "    console.debug(\"Bokeh: all callbacks have finished\");\n",
       "  }\n",
       "\n",
       "  function load_libs(css_urls, js_urls, callback) {\n",
       "    if (css_urls == null) css_urls = [];\n",
       "    if (js_urls == null) js_urls = [];\n",
       "\n",
       "    root._bokeh_onload_callbacks.push(callback);\n",
       "    if (root._bokeh_is_loading > 0) {\n",
       "      console.debug(\"Bokeh: BokehJS is being loaded, scheduling callback at\", now());\n",
       "      return null;\n",
       "    }\n",
       "    if (js_urls == null || js_urls.length === 0) {\n",
       "      run_callbacks();\n",
       "      return null;\n",
       "    }\n",
       "    console.debug(\"Bokeh: BokehJS not loaded, scheduling load and callback at\", now());\n",
       "    root._bokeh_is_loading = css_urls.length + js_urls.length;\n",
       "\n",
       "    function on_load() {\n",
       "      root._bokeh_is_loading--;\n",
       "      if (root._bokeh_is_loading === 0) {\n",
       "        console.debug(\"Bokeh: all BokehJS libraries/stylesheets loaded\");\n",
       "        run_callbacks()\n",
       "      }\n",
       "    }\n",
       "\n",
       "    function on_error() {\n",
       "      console.error(\"failed to load \" + url);\n",
       "    }\n",
       "\n",
       "    for (var i = 0; i < css_urls.length; i++) {\n",
       "      var url = css_urls[i];\n",
       "      const element = document.createElement(\"link\");\n",
       "      element.onload = on_load;\n",
       "      element.onerror = on_error;\n",
       "      element.rel = \"stylesheet\";\n",
       "      element.type = \"text/css\";\n",
       "      element.href = url;\n",
       "      console.debug(\"Bokeh: injecting link tag for BokehJS stylesheet: \", url);\n",
       "      document.body.appendChild(element);\n",
       "    }\n",
       "\n",
       "    for (var i = 0; i < js_urls.length; i++) {\n",
       "      var url = js_urls[i];\n",
       "      var element = document.createElement('script');\n",
       "      element.onload = on_load;\n",
       "      element.onerror = on_error;\n",
       "      element.async = false;\n",
       "      element.src = url;\n",
       "      \n",
       "      console.debug(\"Bokeh: injecting script tag for BokehJS library: \", url);\n",
       "      document.head.appendChild(element);\n",
       "    }\n",
       "  };var element = document.getElementById(\"1001\");\n",
       "  if (element == null) {\n",
       "    console.error(\"Bokeh: ERROR: autoload.js configured with elementid '1001' but no matching script tag was found. \")\n",
       "    return false;\n",
       "  }\n",
       "\n",
       "  function inject_raw_css(css) {\n",
       "    const element = document.createElement(\"style\");\n",
       "    element.appendChild(document.createTextNode(css));\n",
       "    document.body.appendChild(element);\n",
       "  }\n",
       "\n",
       "  \n",
       "  var js_urls = [\"https://cdn.bokeh.org/bokeh/release/bokeh-2.0.0.min.js\", \"https://cdn.bokeh.org/bokeh/release/bokeh-widgets-2.0.0.min.js\", \"https://cdn.bokeh.org/bokeh/release/bokeh-tables-2.0.0.min.js\", \"https://cdn.bokeh.org/bokeh/release/bokeh-gl-2.0.0.min.js\"];\n",
       "  var css_urls = [];\n",
       "  \n",
       "\n",
       "  var inline_js = [\n",
       "    function(Bokeh) {\n",
       "      Bokeh.set_log_level(\"info\");\n",
       "    },\n",
       "    function(Bokeh) {\n",
       "    \n",
       "    \n",
       "    }\n",
       "  ];\n",
       "\n",
       "  function run_inline_js() {\n",
       "    \n",
       "    if (root.Bokeh !== undefined || force === true) {\n",
       "      \n",
       "    for (var i = 0; i < inline_js.length; i++) {\n",
       "      inline_js[i].call(root, root.Bokeh);\n",
       "    }\n",
       "    if (force === true) {\n",
       "        display_loaded();\n",
       "      }} else if (Date.now() < root._bokeh_timeout) {\n",
       "      setTimeout(run_inline_js, 100);\n",
       "    } else if (!root._bokeh_failed_load) {\n",
       "      console.log(\"Bokeh: BokehJS failed to load within specified timeout.\");\n",
       "      root._bokeh_failed_load = true;\n",
       "    } else if (force !== true) {\n",
       "      var cell = $(document.getElementById(\"1001\")).parents('.cell').data().cell;\n",
       "      cell.output_area.append_execute_result(NB_LOAD_WARNING)\n",
       "    }\n",
       "\n",
       "  }\n",
       "\n",
       "  if (root._bokeh_is_loading === 0) {\n",
       "    console.debug(\"Bokeh: BokehJS loaded, going straight to plotting\");\n",
       "    run_inline_js();\n",
       "  } else {\n",
       "    load_libs(css_urls, js_urls, function() {\n",
       "      console.debug(\"Bokeh: BokehJS plotting callback run at\", now());\n",
       "      run_inline_js();\n",
       "    });\n",
       "  }\n",
       "}(window));"
      ],
      "application/vnd.bokehjs_load.v0+json": "\n(function(root) {\n  function now() {\n    return new Date();\n  }\n\n  var force = true;\n\n  if (typeof root._bokeh_onload_callbacks === \"undefined\" || force === true) {\n    root._bokeh_onload_callbacks = [];\n    root._bokeh_is_loading = undefined;\n  }\n\n  \n\n  \n  if (typeof (root._bokeh_timeout) === \"undefined\" || force === true) {\n    root._bokeh_timeout = Date.now() + 5000;\n    root._bokeh_failed_load = false;\n  }\n\n  var NB_LOAD_WARNING = {'data': {'text/html':\n     \"<div style='background-color: #fdd'>\\n\"+\n     \"<p>\\n\"+\n     \"BokehJS does not appear to have successfully loaded. If loading BokehJS from CDN, this \\n\"+\n     \"may be due to a slow or bad network connection. Possible fixes:\\n\"+\n     \"</p>\\n\"+\n     \"<ul>\\n\"+\n     \"<li>re-rerun `output_notebook()` to attempt to load from CDN again, or</li>\\n\"+\n     \"<li>use INLINE resources instead, as so:</li>\\n\"+\n     \"</ul>\\n\"+\n     \"<code>\\n\"+\n     \"from bokeh.resources import INLINE\\n\"+\n     \"output_notebook(resources=INLINE)\\n\"+\n     \"</code>\\n\"+\n     \"</div>\"}};\n\n  function display_loaded() {\n    var el = document.getElementById(\"1001\");\n    if (el != null) {\n      el.textContent = \"BokehJS is loading...\";\n    }\n    if (root.Bokeh !== undefined) {\n      if (el != null) {\n        el.textContent = \"BokehJS \" + root.Bokeh.version + \" successfully loaded.\";\n      }\n    } else if (Date.now() < root._bokeh_timeout) {\n      setTimeout(display_loaded, 100)\n    }\n  }\n\n\n  function run_callbacks() {\n    try {\n      root._bokeh_onload_callbacks.forEach(function(callback) {\n        if (callback != null)\n          callback();\n      });\n    } finally {\n      delete root._bokeh_onload_callbacks\n    }\n    console.debug(\"Bokeh: all callbacks have finished\");\n  }\n\n  function load_libs(css_urls, js_urls, callback) {\n    if (css_urls == null) css_urls = [];\n    if (js_urls == null) js_urls = [];\n\n    root._bokeh_onload_callbacks.push(callback);\n    if (root._bokeh_is_loading > 0) {\n      console.debug(\"Bokeh: BokehJS is being loaded, scheduling callback at\", now());\n      return null;\n    }\n    if (js_urls == null || js_urls.length === 0) {\n      run_callbacks();\n      return null;\n    }\n    console.debug(\"Bokeh: BokehJS not loaded, scheduling load and callback at\", now());\n    root._bokeh_is_loading = css_urls.length + js_urls.length;\n\n    function on_load() {\n      root._bokeh_is_loading--;\n      if (root._bokeh_is_loading === 0) {\n        console.debug(\"Bokeh: all BokehJS libraries/stylesheets loaded\");\n        run_callbacks()\n      }\n    }\n\n    function on_error() {\n      console.error(\"failed to load \" + url);\n    }\n\n    for (var i = 0; i < css_urls.length; i++) {\n      var url = css_urls[i];\n      const element = document.createElement(\"link\");\n      element.onload = on_load;\n      element.onerror = on_error;\n      element.rel = \"stylesheet\";\n      element.type = \"text/css\";\n      element.href = url;\n      console.debug(\"Bokeh: injecting link tag for BokehJS stylesheet: \", url);\n      document.body.appendChild(element);\n    }\n\n    for (var i = 0; i < js_urls.length; i++) {\n      var url = js_urls[i];\n      var element = document.createElement('script');\n      element.onload = on_load;\n      element.onerror = on_error;\n      element.async = false;\n      element.src = url;\n      \n      console.debug(\"Bokeh: injecting script tag for BokehJS library: \", url);\n      document.head.appendChild(element);\n    }\n  };var element = document.getElementById(\"1001\");\n  if (element == null) {\n    console.error(\"Bokeh: ERROR: autoload.js configured with elementid '1001' but no matching script tag was found. \")\n    return false;\n  }\n\n  function inject_raw_css(css) {\n    const element = document.createElement(\"style\");\n    element.appendChild(document.createTextNode(css));\n    document.body.appendChild(element);\n  }\n\n  \n  var js_urls = [\"https://cdn.bokeh.org/bokeh/release/bokeh-2.0.0.min.js\", \"https://cdn.bokeh.org/bokeh/release/bokeh-widgets-2.0.0.min.js\", \"https://cdn.bokeh.org/bokeh/release/bokeh-tables-2.0.0.min.js\", \"https://cdn.bokeh.org/bokeh/release/bokeh-gl-2.0.0.min.js\"];\n  var css_urls = [];\n  \n\n  var inline_js = [\n    function(Bokeh) {\n      Bokeh.set_log_level(\"info\");\n    },\n    function(Bokeh) {\n    \n    \n    }\n  ];\n\n  function run_inline_js() {\n    \n    if (root.Bokeh !== undefined || force === true) {\n      \n    for (var i = 0; i < inline_js.length; i++) {\n      inline_js[i].call(root, root.Bokeh);\n    }\n    if (force === true) {\n        display_loaded();\n      }} else if (Date.now() < root._bokeh_timeout) {\n      setTimeout(run_inline_js, 100);\n    } else if (!root._bokeh_failed_load) {\n      console.log(\"Bokeh: BokehJS failed to load within specified timeout.\");\n      root._bokeh_failed_load = true;\n    } else if (force !== true) {\n      var cell = $(document.getElementById(\"1001\")).parents('.cell').data().cell;\n      cell.output_area.append_execute_result(NB_LOAD_WARNING)\n    }\n\n  }\n\n  if (root._bokeh_is_loading === 0) {\n    console.debug(\"Bokeh: BokehJS loaded, going straight to plotting\");\n    run_inline_js();\n  } else {\n    load_libs(css_urls, js_urls, function() {\n      console.debug(\"Bokeh: BokehJS plotting callback run at\", now());\n      run_inline_js();\n    });\n  }\n}(window));"
     },
     "metadata": {},
     "output_type": "display_data"
    }
   ],
   "source": [
    "output_notebook()"
   ]
  },
  {
   "cell_type": "markdown",
   "metadata": {},
   "source": [
    "## DataFrame creation"
   ]
  },
  {
   "cell_type": "code",
   "execution_count": 3,
   "metadata": {},
   "outputs": [],
   "source": [
    "dataframe = pd.read_csv('../data/Police_Department_Incident_Reports__Historical_2003_to_May_2018.csv')"
   ]
  },
  {
   "cell_type": "code",
   "execution_count": 4,
   "metadata": {},
   "outputs": [],
   "source": [
    "start, end = datetime(2010, 1, 1), datetime(2018, 12, 31)\n",
    "dataframe['Date'] = dataframe['Date'].astype('datetime64[ns]')\n",
    "focuscrimes = set(['WEAPON LAWS', 'PROSTITUTION', 'DRIVING UNDER THE INFLUENCE', 'ROBBERY', 'BURGLARY', 'ASSAULT', 'DRUNKENNESS', 'DRUG/NARCOTIC', 'TRESPASS', 'LARCENY/THEFT', 'VANDALISM', 'VEHICLE THEFT', 'STOLEN PROPERTY', 'DISORDERLY CONDUCT'])\n",
    "\n",
    "dataframe = dataframe.loc[\n",
    "    (dataframe['Category'].isin(focuscrimes)) &\n",
    "    (dataframe['Date'] >= start) &\n",
    "    (dataframe['Date'] <= end)\n",
    "]"
   ]
  },
  {
   "cell_type": "code",
   "execution_count": 5,
   "metadata": {},
   "outputs": [],
   "source": [
    "dataframe['Hour'] = dataframe['Time'].apply(lambda x: int(x.split(':')[0]))"
   ]
  },
  {
   "cell_type": "markdown",
   "metadata": {},
   "source": [
    "## Data preprocessing"
   ]
  },
  {
   "cell_type": "markdown",
   "metadata": {},
   "source": [
    "In order to create a required dataframe, the aggregation should be used for calculating the number of crimes occurrences per hour. To do that, a group by method with count aggregate was used on _Hour, Category_ and any other column which was used for calulcuating the count, in this case _IncidntNum_."
   ]
  },
  {
   "cell_type": "code",
   "execution_count": 6,
   "metadata": {},
   "outputs": [],
   "source": [
    "crimes = dataframe[['Category', 'Hour', 'IncidntNum']]\n",
    "crimes = crimes.groupby(['Hour', 'Category']).count().reset_index()"
   ]
  },
  {
   "cell_type": "markdown",
   "metadata": {},
   "source": [
    "Afterward, the _Normalisation_ was calculated by dividing the number of occurrences of crimes per hour by the sum of the total sum of occurrences of a given crime. Then, the _IncidntNum_ column is not needed anymore."
   ]
  },
  {
   "cell_type": "code",
   "execution_count": 7,
   "metadata": {},
   "outputs": [],
   "source": [
    "crimes['Normalisation'] = crimes.reset_index().apply(\n",
    "    lambda x: x['IncidntNum'] / crimes.groupby('Category').sum().loc[x['Category'], 'IncidntNum'],\n",
    "    axis=1\n",
    ")\n",
    "crimes = crimes.drop(['IncidntNum'], axis=1)"
   ]
  },
  {
   "cell_type": "markdown",
   "metadata": {},
   "source": [
    "Each row of the dataframe should represent the hour of the day and columns showing the categories of crimes. To rearrange the frame, a _pivot_table_ method was used, where the _Hour_ column becomes an index and the columns stand for categories."
   ]
  },
  {
   "cell_type": "code",
   "execution_count": 8,
   "metadata": {},
   "outputs": [],
   "source": [
    "crimes_pivot = pd.pivot_table(crimes, index='Hour', columns='Category')"
   ]
  },
  {
   "cell_type": "markdown",
   "metadata": {},
   "source": [
    "After pivoting the table, the MultiIndex was created. It would be easier for later analysis to transform the frame to its simple form. To do that, _droplevel_ method was used to get rid of _Distribution_ index. And then, to remove the _Category_ level, the columns were reassigned. Moreover, for the sake of categorical variables, the hours were cast to the string type."
   ]
  },
  {
   "cell_type": "code",
   "execution_count": 9,
   "metadata": {},
   "outputs": [],
   "source": [
    "crimes_pivot.columns = crimes_pivot.columns.droplevel(0)\n",
    "crimes_pivot.columns = ['ASSAULT', 'BURGLARY', 'DISORDERLY CONDUCT',\n",
    "       'DRIVING UNDER THE INFLUENCE', 'DRUG/NARCOTIC', 'DRUNKENNESS',\n",
    "       'LARCENY/THEFT', 'PROSTITUTION', 'ROBBERY', 'STOLEN PROPERTY',\n",
    "       'TRESPASS', 'VANDALISM', 'VEHICLE THEFT', 'WEAPON LAWS']\n",
    "\n",
    "crimes_pivot.index = crimes_pivot.index.map(str)"
   ]
  },
  {
   "cell_type": "markdown",
   "metadata": {},
   "source": [
    "## Data visualisation"
   ]
  },
  {
   "cell_type": "markdown",
   "metadata": {},
   "source": [
    "To create a bar chart using _bokeh_ and _pandas_ libraries, the _ColumnDatatSource_ class was used with the preprocessed frame. Then, the _figure_ object was created, containing the hours in a form of categorical variables. The bokeh toolbar was turned off and the labelling of axes and title was generated."
   ]
  },
  {
   "cell_type": "code",
   "execution_count": 14,
   "metadata": {},
   "outputs": [],
   "source": [
    "source = ColumnDataSource(crimes_pivot)\n",
    "p = figure(\n",
    "    x_range=FactorRange(factors=crimes_pivot.index),\n",
    "    plot_width=1500, toolbar_location=None,\n",
    "    title='Crimes per hour', x_axis_label='Hour of the day', y_axis_label='Relative frequency')"
   ]
  },
  {
   "cell_type": "markdown",
   "metadata": {},
   "source": [
    "Lastly, categories are plotted iteratively in one figure, in order to layer the bars. For each focuscrime, a value per hour is taken. Additional parameters were provided:\n",
    "* _width_ — the width of the bar,\n",
    "* _color — colouring lines, bars and muted bars at the same time,\n",
    "* _fill_alpha — opacity of the bar filling,\n",
    "* _muted — mute (turn off visibility) of all features,\n",
    "* _muted_alpha — opacity of muted bars.\n",
    "\n",
    "Moreover, during the itetrations, additional object (_bar, items_) were used to create a better legend than the default one. The legend was created manually by passing _items_ object containing categories names and corresponding _vbar_ objects. The legend position was established and clicking policy to muting was established. "
   ]
  },
  {
   "cell_type": "code",
   "execution_count": 16,
   "metadata": {},
   "outputs": [
    {
     "data": {
      "text/html": [
       "\n",
       "\n",
       "\n",
       "\n",
       "\n",
       "\n",
       "  <div class=\"bk-root\" id=\"946a676b-8b6a-43bd-bf0a-c8357beb6819\" data-root-id=\"1758\"></div>\n"
      ]
     },
     "metadata": {},
     "output_type": "display_data"
    },
    {
     "data": {
      "application/javascript": [
       "(function(root) {\n",
       "  function embed_document(root) {\n",
       "    \n",
       "  var docs_json = {\"af3b46a5-43cc-48eb-af56-aa505e150d23\":{\"roots\":{\"references\":[{\"attributes\":{\"below\":[{\"id\":\"1768\"}],\"center\":[{\"id\":\"1770\"},{\"id\":\"1774\"}],\"left\":[{\"id\":\"1771\"},{\"id\":\"1872\"},{\"id\":\"2259\"}],\"plot_width\":1500,\"renderers\":[{\"id\":\"1792\"},{\"id\":\"1798\"},{\"id\":\"1804\"},{\"id\":\"1810\"},{\"id\":\"1816\"},{\"id\":\"1822\"},{\"id\":\"1828\"},{\"id\":\"1834\"},{\"id\":\"1840\"},{\"id\":\"1846\"},{\"id\":\"1852\"},{\"id\":\"1858\"},{\"id\":\"1864\"},{\"id\":\"1870\"},{\"id\":\"1955\"},{\"id\":\"1977\"},{\"id\":\"1999\"},{\"id\":\"2021\"},{\"id\":\"2043\"},{\"id\":\"2065\"},{\"id\":\"2087\"},{\"id\":\"2109\"},{\"id\":\"2131\"},{\"id\":\"2153\"},{\"id\":\"2175\"},{\"id\":\"2197\"},{\"id\":\"2219\"},{\"id\":\"2241\"}],\"title\":{\"id\":\"1759\"},\"toolbar\":{\"id\":\"1781\"},\"toolbar_location\":null,\"x_range\":{\"id\":\"1757\"},\"x_scale\":{\"id\":\"1764\"},\"y_range\":{\"id\":\"1762\"},\"y_scale\":{\"id\":\"1766\"}},\"id\":\"1758\",\"subtype\":\"Figure\",\"type\":\"Plot\"},{\"attributes\":{\"source\":{\"id\":\"1756\"}},\"id\":\"1841\",\"type\":\"CDSView\"},{\"attributes\":{\"label\":{\"value\":\"LARCENY/THEFT\"},\"renderers\":[{\"id\":\"1834\"}]},\"id\":\"1880\",\"type\":\"LegendItem\"},{\"attributes\":{\"label\":{\"value\":\"LARCENY/THEFT\"},\"renderers\":[{\"id\":\"2109\"}]},\"id\":\"2267\",\"type\":\"LegendItem\"},{\"attributes\":{\"data_source\":{\"id\":\"1756\"},\"glyph\":{\"id\":\"2216\"},\"hover_glyph\":null,\"muted\":true,\"muted_glyph\":{\"id\":\"2218\"},\"nonselection_glyph\":{\"id\":\"2217\"},\"selection_glyph\":null,\"view\":{\"id\":\"2220\"}},\"id\":\"2219\",\"type\":\"GlyphRenderer\"},{\"attributes\":{\"fill_alpha\":{\"value\":0.1},\"fill_color\":{\"value\":\"#37aabb\"},\"line_alpha\":{\"value\":0.1},\"line_color\":{\"value\":\"#37aabb\"},\"top\":{\"field\":\"VEHICLE THEFT\"},\"width\":{\"value\":0.6},\"x\":{\"field\":\"Hour\"}},\"id\":\"1838\",\"type\":\"VBar\"},{\"attributes\":{\"data_source\":{\"id\":\"1756\"},\"glyph\":{\"id\":\"1952\"},\"hover_glyph\":null,\"muted\":true,\"muted_glyph\":{\"id\":\"1954\"},\"nonselection_glyph\":{\"id\":\"1953\"},\"selection_glyph\":null,\"view\":{\"id\":\"1956\"}},\"id\":\"1955\",\"type\":\"GlyphRenderer\"},{\"attributes\":{\"fill_alpha\":{\"value\":0.5},\"fill_color\":{\"value\":\"#ef7d32\"},\"line_color\":{\"value\":\"#ef7d32\"},\"top\":{\"field\":\"STOLEN PROPERTY\"},\"width\":{\"value\":0.6},\"x\":{\"field\":\"Hour\"}},\"id\":\"1795\",\"type\":\"VBar\"},{\"attributes\":{\"fill_alpha\":{\"value\":0.5},\"fill_color\":{\"value\":\"#a79f31\"},\"line_color\":{\"value\":\"#a79f31\"},\"top\":{\"field\":\"WEAPON LAWS\"},\"width\":{\"value\":0.6},\"x\":{\"field\":\"Hour\"}},\"id\":\"1807\",\"type\":\"VBar\"},{\"attributes\":{\"fill_alpha\":{\"value\":0.1},\"fill_color\":{\"value\":\"#34af8a\"},\"line_alpha\":{\"value\":0.1},\"line_color\":{\"value\":\"#34af8a\"},\"top\":{\"field\":\"BURGLARY\"},\"width\":{\"value\":0.6},\"x\":{\"field\":\"Hour\"}},\"id\":\"1826\",\"type\":\"VBar\"},{\"attributes\":{\"source\":{\"id\":\"1756\"}},\"id\":\"1793\",\"type\":\"CDSView\"},{\"attributes\":{\"label\":{\"value\":\"TRESPASS\"},\"renderers\":[{\"id\":\"1852\"}]},\"id\":\"1883\",\"type\":\"LegendItem\"},{\"attributes\":{\"label\":{\"value\":\"VEHICLE THEFT\"},\"renderers\":[{\"id\":\"1840\"}]},\"id\":\"1881\",\"type\":\"LegendItem\"},{\"attributes\":{\"fill_alpha\":{\"value\":0.05},\"fill_color\":{\"value\":\"#8197f4\"},\"line_alpha\":{\"value\":0.05},\"line_color\":{\"value\":\"#8197f4\"},\"top\":{\"field\":\"TRESPASS\"},\"width\":{\"value\":0.6},\"x\":{\"field\":\"Hour\"}},\"id\":\"1851\",\"type\":\"VBar\"},{\"attributes\":{\"fill_alpha\":{\"value\":0.1},\"fill_color\":{\"value\":\"#f45deb\"},\"line_alpha\":{\"value\":0.1},\"line_color\":{\"value\":\"#f45deb\"},\"top\":{\"field\":\"DRIVING UNDER THE INFLUENCE\"},\"width\":{\"value\":0.6},\"x\":{\"field\":\"Hour\"}},\"id\":\"1862\",\"type\":\"VBar\"},{\"attributes\":{\"label\":{\"value\":\"DISORDERLY CONDUCT\"},\"renderers\":[{\"id\":\"1846\"}]},\"id\":\"1882\",\"type\":\"LegendItem\"},{\"attributes\":{\"label\":{\"value\":\"DISORDERLY CONDUCT\"},\"renderers\":[{\"id\":\"2153\"}]},\"id\":\"2269\",\"type\":\"LegendItem\"},{\"attributes\":{\"fill_alpha\":{\"value\":0.1},\"fill_color\":{\"value\":\"#c69432\"},\"line_alpha\":{\"value\":0.1},\"line_color\":{\"value\":\"#c69432\"},\"top\":{\"field\":\"ROBBERY\"},\"width\":{\"value\":0.6},\"x\":{\"field\":\"Hour\"}},\"id\":\"1802\",\"type\":\"VBar\"},{\"attributes\":{\"fill_alpha\":{\"value\":0.05},\"fill_color\":{\"value\":\"#37aabb\"},\"line_alpha\":{\"value\":0.05},\"line_color\":{\"value\":\"#37aabb\"},\"top\":{\"field\":\"VEHICLE THEFT\"},\"width\":{\"value\":0.6},\"x\":{\"field\":\"Hour\"}},\"id\":\"1839\",\"type\":\"VBar\"},{\"attributes\":{\"axis_label\":\"Relative frequency\",\"formatter\":{\"id\":\"1898\"},\"ticker\":{\"id\":\"1772\"}},\"id\":\"1771\",\"type\":\"LinearAxis\"},{\"attributes\":{\"fill_alpha\":{\"value\":0.05},\"fill_color\":{\"value\":\"#f77189\"},\"line_alpha\":{\"value\":0.05},\"line_color\":{\"value\":\"#f77189\"},\"top\":{\"field\":\"PROSTITUTION\"},\"width\":{\"value\":0.6},\"x\":{\"field\":\"Hour\"}},\"id\":\"1954\",\"type\":\"VBar\"},{\"attributes\":{},\"id\":\"1776\",\"type\":\"WheelZoomTool\"},{\"attributes\":{\"data_source\":{\"id\":\"1756\"},\"glyph\":{\"id\":\"2084\"},\"hover_glyph\":null,\"muted\":true,\"muted_glyph\":{\"id\":\"2086\"},\"nonselection_glyph\":{\"id\":\"2085\"},\"selection_glyph\":null,\"view\":{\"id\":\"2088\"}},\"id\":\"2087\",\"type\":\"GlyphRenderer\"},{\"attributes\":{\"fill_alpha\":{\"value\":0.5},\"fill_color\":{\"value\":\"#82a931\"},\"line_color\":{\"value\":\"#82a931\"},\"top\":{\"field\":\"ASSAULT\"},\"width\":{\"value\":0.6},\"x\":{\"field\":\"Hour\"}},\"id\":\"2040\",\"type\":\"VBar\"},{\"attributes\":{\"fill_alpha\":{\"value\":0.5},\"fill_color\":{\"value\":\"#36ada4\"},\"line_color\":{\"value\":\"#36ada4\"},\"top\":{\"field\":\"LARCENY/THEFT\"},\"width\":{\"value\":0.6},\"x\":{\"field\":\"Hour\"}},\"id\":\"1831\",\"type\":\"VBar\"},{\"attributes\":{\"fill_alpha\":{\"value\":0.5},\"fill_color\":{\"value\":\"#34af8a\"},\"line_color\":{\"value\":\"#34af8a\"},\"top\":{\"field\":\"BURGLARY\"},\"width\":{\"value\":0.6},\"x\":{\"field\":\"Hour\"}},\"id\":\"1825\",\"type\":\"VBar\"},{\"attributes\":{\"data_source\":{\"id\":\"1756\"},\"glyph\":{\"id\":\"1861\"},\"hover_glyph\":null,\"muted\":true,\"muted_glyph\":{\"id\":\"1863\"},\"nonselection_glyph\":{\"id\":\"1862\"},\"selection_glyph\":null,\"view\":{\"id\":\"1865\"}},\"id\":\"1864\",\"type\":\"GlyphRenderer\"},{\"attributes\":{},\"id\":\"1772\",\"type\":\"BasicTicker\"},{\"attributes\":{\"data_source\":{\"id\":\"1756\"},\"glyph\":{\"id\":\"2194\"},\"hover_glyph\":null,\"muted\":true,\"muted_glyph\":{\"id\":\"2196\"},\"nonselection_glyph\":{\"id\":\"2195\"},\"selection_glyph\":null,\"view\":{\"id\":\"2198\"}},\"id\":\"2197\",\"type\":\"GlyphRenderer\"},{\"attributes\":{\"axis_label\":\"Hour of the day\",\"formatter\":{\"id\":\"1896\"},\"ticker\":{\"id\":\"1769\"}},\"id\":\"1768\",\"type\":\"CategoricalAxis\"},{\"attributes\":{\"fill_alpha\":{\"value\":0.05},\"fill_color\":{\"value\":\"#32b24e\"},\"line_alpha\":{\"value\":0.05},\"line_color\":{\"value\":\"#32b24e\"},\"top\":{\"field\":\"DRUNKENNESS\"},\"width\":{\"value\":0.6},\"x\":{\"field\":\"Hour\"}},\"id\":\"1821\",\"type\":\"VBar\"},{\"attributes\":{\"data_source\":{\"id\":\"1756\"},\"glyph\":{\"id\":\"1974\"},\"hover_glyph\":null,\"muted\":true,\"muted_glyph\":{\"id\":\"1976\"},\"nonselection_glyph\":{\"id\":\"1975\"},\"selection_glyph\":null,\"view\":{\"id\":\"1978\"}},\"id\":\"1977\",\"type\":\"GlyphRenderer\"},{\"attributes\":{\"fill_alpha\":{\"value\":0.05},\"fill_color\":{\"value\":\"#c69432\"},\"line_alpha\":{\"value\":0.05},\"line_color\":{\"value\":\"#c69432\"},\"top\":{\"field\":\"ROBBERY\"},\"width\":{\"value\":0.6},\"x\":{\"field\":\"Hour\"}},\"id\":\"1803\",\"type\":\"VBar\"},{\"attributes\":{\"fill_alpha\":{\"value\":0.05},\"fill_color\":{\"value\":\"#f77189\"},\"line_alpha\":{\"value\":0.05},\"line_color\":{\"value\":\"#f77189\"},\"top\":{\"field\":\"PROSTITUTION\"},\"width\":{\"value\":0.6},\"x\":{\"field\":\"Hour\"}},\"id\":\"1791\",\"type\":\"VBar\"},{\"attributes\":{\"source\":{\"id\":\"1756\"}},\"id\":\"2044\",\"type\":\"CDSView\"},{\"attributes\":{\"source\":{\"id\":\"1756\"}},\"id\":\"2220\",\"type\":\"CDSView\"},{\"attributes\":{},\"id\":\"1766\",\"type\":\"LinearScale\"},{\"attributes\":{\"fill_alpha\":{\"value\":0.05},\"fill_color\":{\"value\":\"#f45deb\"},\"line_alpha\":{\"value\":0.05},\"line_color\":{\"value\":\"#f45deb\"},\"top\":{\"field\":\"DRIVING UNDER THE INFLUENCE\"},\"width\":{\"value\":0.6},\"x\":{\"field\":\"Hour\"}},\"id\":\"1863\",\"type\":\"VBar\"},{\"attributes\":{\"fill_alpha\":{\"value\":0.1},\"fill_color\":{\"value\":\"#32b24e\"},\"line_alpha\":{\"value\":0.1},\"line_color\":{\"value\":\"#32b24e\"},\"top\":{\"field\":\"DRUNKENNESS\"},\"width\":{\"value\":0.6},\"x\":{\"field\":\"Hour\"}},\"id\":\"2063\",\"type\":\"VBar\"},{\"attributes\":{\"fill_alpha\":{\"value\":0.05},\"fill_color\":{\"value\":\"#82a931\"},\"line_alpha\":{\"value\":0.05},\"line_color\":{\"value\":\"#82a931\"},\"top\":{\"field\":\"ASSAULT\"},\"width\":{\"value\":0.6},\"x\":{\"field\":\"Hour\"}},\"id\":\"1815\",\"type\":\"VBar\"},{\"attributes\":{\"fill_alpha\":{\"value\":0.05},\"fill_color\":{\"value\":\"#ef7d32\"},\"line_alpha\":{\"value\":0.05},\"line_color\":{\"value\":\"#ef7d32\"},\"top\":{\"field\":\"STOLEN PROPERTY\"},\"width\":{\"value\":0.6},\"x\":{\"field\":\"Hour\"}},\"id\":\"1797\",\"type\":\"VBar\"},{\"attributes\":{\"label\":{\"value\":\"VEHICLE THEFT\"},\"renderers\":[{\"id\":\"2131\"}]},\"id\":\"2268\",\"type\":\"LegendItem\"},{\"attributes\":{\"label\":{\"value\":\"TRESPASS\"},\"renderers\":[{\"id\":\"2175\"}]},\"id\":\"2270\",\"type\":\"LegendItem\"},{\"attributes\":{\"factors\":[\"0\",\"1\",\"2\",\"3\",\"4\",\"5\",\"6\",\"7\",\"8\",\"9\",\"10\",\"11\",\"12\",\"13\",\"14\",\"15\",\"16\",\"17\",\"18\",\"19\",\"20\",\"21\",\"22\",\"23\"]},\"id\":\"1757\",\"type\":\"FactorRange\"},{\"attributes\":{\"data_source\":{\"id\":\"1756\"},\"glyph\":{\"id\":\"1849\"},\"hover_glyph\":null,\"muted\":true,\"muted_glyph\":{\"id\":\"1851\"},\"nonselection_glyph\":{\"id\":\"1850\"},\"selection_glyph\":null,\"view\":{\"id\":\"1853\"}},\"id\":\"1852\",\"type\":\"GlyphRenderer\"},{\"attributes\":{\"fill_alpha\":{\"value\":0.05},\"fill_color\":{\"value\":\"#34af8a\"},\"line_alpha\":{\"value\":0.05},\"line_color\":{\"value\":\"#34af8a\"},\"top\":{\"field\":\"BURGLARY\"},\"width\":{\"value\":0.6},\"x\":{\"field\":\"Hour\"}},\"id\":\"2086\",\"type\":\"VBar\"},{\"attributes\":{\"fill_alpha\":{\"value\":0.5},\"fill_color\":{\"value\":\"#c69432\"},\"line_color\":{\"value\":\"#c69432\"},\"top\":{\"field\":\"ROBBERY\"},\"width\":{\"value\":0.6},\"x\":{\"field\":\"Hour\"}},\"id\":\"1996\",\"type\":\"VBar\"},{\"attributes\":{\"bottom_units\":\"screen\",\"fill_alpha\":0.5,\"fill_color\":\"lightgrey\",\"left_units\":\"screen\",\"level\":\"overlay\",\"line_alpha\":1.0,\"line_color\":\"black\",\"line_dash\":[4,4],\"line_width\":2,\"render_mode\":\"css\",\"right_units\":\"screen\",\"top_units\":\"screen\"},\"id\":\"1902\",\"type\":\"BoxAnnotation\"},{\"attributes\":{\"fill_alpha\":{\"value\":0.05},\"fill_color\":{\"value\":\"#f669ba\"},\"line_alpha\":{\"value\":0.05},\"line_color\":{\"value\":\"#f669ba\"},\"top\":{\"field\":\"VANDALISM\"},\"width\":{\"value\":0.6},\"x\":{\"field\":\"Hour\"}},\"id\":\"1869\",\"type\":\"VBar\"},{\"attributes\":{\"label\":{\"value\":\"DRUNKENNESS\"},\"renderers\":[{\"id\":\"2065\"}]},\"id\":\"2265\",\"type\":\"LegendItem\"},{\"attributes\":{\"fill_alpha\":{\"value\":0.1},\"fill_color\":{\"value\":\"#f45deb\"},\"line_alpha\":{\"value\":0.1},\"line_color\":{\"value\":\"#f45deb\"},\"top\":{\"field\":\"DRIVING UNDER THE INFLUENCE\"},\"width\":{\"value\":0.6},\"x\":{\"field\":\"Hour\"}},\"id\":\"2217\",\"type\":\"VBar\"},{\"attributes\":{\"overlay\":{\"id\":\"1902\"}},\"id\":\"1777\",\"type\":\"BoxZoomTool\"},{\"attributes\":{\"data_source\":{\"id\":\"1756\"},\"glyph\":{\"id\":\"1819\"},\"hover_glyph\":null,\"muted\":true,\"muted_glyph\":{\"id\":\"1821\"},\"nonselection_glyph\":{\"id\":\"1820\"},\"selection_glyph\":null,\"view\":{\"id\":\"1823\"}},\"id\":\"1822\",\"type\":\"GlyphRenderer\"},{\"attributes\":{\"fill_alpha\":{\"value\":0.1},\"fill_color\":{\"value\":\"#a79f31\"},\"line_alpha\":{\"value\":0.1},\"line_color\":{\"value\":\"#a79f31\"},\"top\":{\"field\":\"WEAPON LAWS\"},\"width\":{\"value\":0.6},\"x\":{\"field\":\"Hour\"}},\"id\":\"1808\",\"type\":\"VBar\"},{\"attributes\":{\"source\":{\"id\":\"1756\"}},\"id\":\"1865\",\"type\":\"CDSView\"},{\"attributes\":{\"fill_alpha\":{\"value\":0.1},\"fill_color\":{\"value\":\"#f77189\"},\"line_alpha\":{\"value\":0.1},\"line_color\":{\"value\":\"#f77189\"},\"top\":{\"field\":\"PROSTITUTION\"},\"width\":{\"value\":0.6},\"x\":{\"field\":\"Hour\"}},\"id\":\"1953\",\"type\":\"VBar\"},{\"attributes\":{},\"id\":\"1769\",\"type\":\"CategoricalTicker\"},{\"attributes\":{\"data_source\":{\"id\":\"1756\"},\"glyph\":{\"id\":\"1801\"},\"hover_glyph\":null,\"muted\":true,\"muted_glyph\":{\"id\":\"1803\"},\"nonselection_glyph\":{\"id\":\"1802\"},\"selection_glyph\":null,\"view\":{\"id\":\"1805\"}},\"id\":\"1804\",\"type\":\"GlyphRenderer\"},{\"attributes\":{\"label\":{\"value\":\"DRUG/NARCOTIC\"},\"renderers\":[{\"id\":\"1858\"}]},\"id\":\"1884\",\"type\":\"LegendItem\"},{\"attributes\":{\"fill_alpha\":{\"value\":0.1},\"fill_color\":{\"value\":\"#c69432\"},\"line_alpha\":{\"value\":0.1},\"line_color\":{\"value\":\"#c69432\"},\"top\":{\"field\":\"ROBBERY\"},\"width\":{\"value\":0.6},\"x\":{\"field\":\"Hour\"}},\"id\":\"1997\",\"type\":\"VBar\"},{\"attributes\":{\"fill_alpha\":{\"value\":0.1},\"fill_color\":{\"value\":\"#3aa6da\"},\"line_alpha\":{\"value\":0.1},\"line_color\":{\"value\":\"#3aa6da\"},\"top\":{\"field\":\"DISORDERLY CONDUCT\"},\"width\":{\"value\":0.6},\"x\":{\"field\":\"Hour\"}},\"id\":\"1844\",\"type\":\"VBar\"},{\"attributes\":{\"fill_alpha\":{\"value\":0.05},\"fill_color\":{\"value\":\"#c69432\"},\"line_alpha\":{\"value\":0.05},\"line_color\":{\"value\":\"#c69432\"},\"top\":{\"field\":\"ROBBERY\"},\"width\":{\"value\":0.6},\"x\":{\"field\":\"Hour\"}},\"id\":\"1998\",\"type\":\"VBar\"},{\"attributes\":{\"fill_alpha\":{\"value\":0.5},\"fill_color\":{\"value\":\"#c69432\"},\"line_color\":{\"value\":\"#c69432\"},\"top\":{\"field\":\"ROBBERY\"},\"width\":{\"value\":0.6},\"x\":{\"field\":\"Hour\"}},\"id\":\"1801\",\"type\":\"VBar\"},{\"attributes\":{\"fill_alpha\":{\"value\":0.05},\"fill_color\":{\"value\":\"#c180f4\"},\"line_alpha\":{\"value\":0.05},\"line_color\":{\"value\":\"#c180f4\"},\"top\":{\"field\":\"DRUG/NARCOTIC\"},\"width\":{\"value\":0.6},\"x\":{\"field\":\"Hour\"}},\"id\":\"2196\",\"type\":\"VBar\"},{\"attributes\":{\"source\":{\"id\":\"1756\"}},\"id\":\"1823\",\"type\":\"CDSView\"},{\"attributes\":{},\"id\":\"1896\",\"type\":\"CategoricalTickFormatter\"},{\"attributes\":{\"data_source\":{\"id\":\"1756\"},\"glyph\":{\"id\":\"1837\"},\"hover_glyph\":null,\"muted\":true,\"muted_glyph\":{\"id\":\"1839\"},\"nonselection_glyph\":{\"id\":\"1838\"},\"selection_glyph\":null,\"view\":{\"id\":\"1841\"}},\"id\":\"1840\",\"type\":\"GlyphRenderer\"},{\"attributes\":{\"fill_alpha\":{\"value\":0.5},\"fill_color\":{\"value\":\"#f669ba\"},\"line_color\":{\"value\":\"#f669ba\"},\"top\":{\"field\":\"VANDALISM\"},\"width\":{\"value\":0.6},\"x\":{\"field\":\"Hour\"}},\"id\":\"1867\",\"type\":\"VBar\"},{\"attributes\":{\"fill_alpha\":{\"value\":0.5},\"fill_color\":{\"value\":\"#32b24e\"},\"line_color\":{\"value\":\"#32b24e\"},\"top\":{\"field\":\"DRUNKENNESS\"},\"width\":{\"value\":0.6},\"x\":{\"field\":\"Hour\"}},\"id\":\"2062\",\"type\":\"VBar\"},{\"attributes\":{\"fill_alpha\":{\"value\":0.5},\"fill_color\":{\"value\":\"#37aabb\"},\"line_color\":{\"value\":\"#37aabb\"},\"top\":{\"field\":\"VEHICLE THEFT\"},\"width\":{\"value\":0.6},\"x\":{\"field\":\"Hour\"}},\"id\":\"1837\",\"type\":\"VBar\"},{\"attributes\":{},\"id\":\"1778\",\"type\":\"SaveTool\"},{\"attributes\":{\"data_source\":{\"id\":\"1756\"},\"glyph\":{\"id\":\"1867\"},\"hover_glyph\":null,\"muted\":true,\"muted_glyph\":{\"id\":\"1869\"},\"nonselection_glyph\":{\"id\":\"1868\"},\"selection_glyph\":null,\"view\":{\"id\":\"1871\"}},\"id\":\"1870\",\"type\":\"GlyphRenderer\"},{\"attributes\":{\"axis\":{\"id\":\"1771\"},\"dimension\":1,\"ticker\":null},\"id\":\"1774\",\"type\":\"Grid\"},{\"attributes\":{\"data_source\":{\"id\":\"1756\"},\"glyph\":{\"id\":\"1813\"},\"hover_glyph\":null,\"muted\":true,\"muted_glyph\":{\"id\":\"1815\"},\"nonselection_glyph\":{\"id\":\"1814\"},\"selection_glyph\":null,\"view\":{\"id\":\"1817\"}},\"id\":\"1816\",\"type\":\"GlyphRenderer\"},{\"attributes\":{\"text\":\"Crimes per hour\"},\"id\":\"1759\",\"type\":\"Title\"},{\"attributes\":{\"axis\":{\"id\":\"1768\"},\"ticker\":null},\"id\":\"1770\",\"type\":\"Grid\"},{\"attributes\":{\"fill_alpha\":{\"value\":0.5},\"fill_color\":{\"value\":\"#34af8a\"},\"line_color\":{\"value\":\"#34af8a\"},\"top\":{\"field\":\"BURGLARY\"},\"width\":{\"value\":0.6},\"x\":{\"field\":\"Hour\"}},\"id\":\"2084\",\"type\":\"VBar\"},{\"attributes\":{\"fill_alpha\":{\"value\":0.05},\"fill_color\":{\"value\":\"#f45deb\"},\"line_alpha\":{\"value\":0.05},\"line_color\":{\"value\":\"#f45deb\"},\"top\":{\"field\":\"DRIVING UNDER THE INFLUENCE\"},\"width\":{\"value\":0.6},\"x\":{\"field\":\"Hour\"}},\"id\":\"2218\",\"type\":\"VBar\"},{\"attributes\":{\"label\":{\"value\":\"VANDALISM\"},\"renderers\":[{\"id\":\"1870\"}]},\"id\":\"1886\",\"type\":\"LegendItem\"},{\"attributes\":{\"data_source\":{\"id\":\"1756\"},\"glyph\":{\"id\":\"1795\"},\"hover_glyph\":null,\"muted\":true,\"muted_glyph\":{\"id\":\"1797\"},\"nonselection_glyph\":{\"id\":\"1796\"},\"selection_glyph\":null,\"view\":{\"id\":\"1799\"}},\"id\":\"1798\",\"type\":\"GlyphRenderer\"},{\"attributes\":{\"fill_alpha\":{\"value\":0.5},\"fill_color\":{\"value\":\"#f45deb\"},\"line_color\":{\"value\":\"#f45deb\"},\"top\":{\"field\":\"DRIVING UNDER THE INFLUENCE\"},\"width\":{\"value\":0.6},\"x\":{\"field\":\"Hour\"}},\"id\":\"1861\",\"type\":\"VBar\"},{\"attributes\":{\"label\":{\"value\":\"PROSTITUTION\"},\"renderers\":[{\"id\":\"1792\"}]},\"id\":\"1873\",\"type\":\"LegendItem\"},{\"attributes\":{\"data_source\":{\"id\":\"1756\"},\"glyph\":{\"id\":\"1996\"},\"hover_glyph\":null,\"muted\":true,\"muted_glyph\":{\"id\":\"1998\"},\"nonselection_glyph\":{\"id\":\"1997\"},\"selection_glyph\":null,\"view\":{\"id\":\"2000\"}},\"id\":\"1999\",\"type\":\"GlyphRenderer\"},{\"attributes\":{\"label\":{\"value\":\"BURGLARY\"},\"renderers\":[{\"id\":\"2087\"}]},\"id\":\"2266\",\"type\":\"LegendItem\"},{\"attributes\":{\"source\":{\"id\":\"1756\"}},\"id\":\"1805\",\"type\":\"CDSView\"},{\"attributes\":{\"fill_alpha\":{\"value\":0.5},\"fill_color\":{\"value\":\"#f77189\"},\"line_color\":{\"value\":\"#f77189\"},\"top\":{\"field\":\"PROSTITUTION\"},\"width\":{\"value\":0.6},\"x\":{\"field\":\"Hour\"}},\"id\":\"1952\",\"type\":\"VBar\"},{\"attributes\":{\"fill_alpha\":{\"value\":0.1},\"fill_color\":{\"value\":\"#ef7d32\"},\"line_alpha\":{\"value\":0.1},\"line_color\":{\"value\":\"#ef7d32\"},\"top\":{\"field\":\"STOLEN PROPERTY\"},\"width\":{\"value\":0.6},\"x\":{\"field\":\"Hour\"}},\"id\":\"1796\",\"type\":\"VBar\"},{\"attributes\":{\"fill_alpha\":{\"value\":0.1},\"fill_color\":{\"value\":\"#f77189\"},\"line_alpha\":{\"value\":0.1},\"line_color\":{\"value\":\"#f77189\"},\"top\":{\"field\":\"PROSTITUTION\"},\"width\":{\"value\":0.6},\"x\":{\"field\":\"Hour\"}},\"id\":\"1790\",\"type\":\"VBar\"},{\"attributes\":{\"fill_alpha\":{\"value\":0.1},\"fill_color\":{\"value\":\"#34af8a\"},\"line_alpha\":{\"value\":0.1},\"line_color\":{\"value\":\"#34af8a\"},\"top\":{\"field\":\"BURGLARY\"},\"width\":{\"value\":0.6},\"x\":{\"field\":\"Hour\"}},\"id\":\"2085\",\"type\":\"VBar\"},{\"attributes\":{\"fill_alpha\":{\"value\":0.5},\"fill_color\":{\"value\":\"#f45deb\"},\"line_color\":{\"value\":\"#f45deb\"},\"top\":{\"field\":\"DRIVING UNDER THE INFLUENCE\"},\"width\":{\"value\":0.6},\"x\":{\"field\":\"Hour\"}},\"id\":\"2216\",\"type\":\"VBar\"},{\"attributes\":{\"start\":0},\"id\":\"1762\",\"type\":\"DataRange1d\"},{\"attributes\":{\"fill_alpha\":{\"value\":0.05},\"fill_color\":{\"value\":\"#3aa6da\"},\"line_alpha\":{\"value\":0.05},\"line_color\":{\"value\":\"#3aa6da\"},\"top\":{\"field\":\"DISORDERLY CONDUCT\"},\"width\":{\"value\":0.6},\"x\":{\"field\":\"Hour\"}},\"id\":\"1845\",\"type\":\"VBar\"},{\"attributes\":{\"source\":{\"id\":\"1756\"}},\"id\":\"1835\",\"type\":\"CDSView\"},{\"attributes\":{\"fill_alpha\":{\"value\":0.1},\"fill_color\":{\"value\":\"#82a931\"},\"line_alpha\":{\"value\":0.1},\"line_color\":{\"value\":\"#82a931\"},\"top\":{\"field\":\"ASSAULT\"},\"width\":{\"value\":0.6},\"x\":{\"field\":\"Hour\"}},\"id\":\"2041\",\"type\":\"VBar\"},{\"attributes\":{\"data_source\":{\"id\":\"1756\"},\"glyph\":{\"id\":\"1789\"},\"hover_glyph\":null,\"muted\":true,\"muted_glyph\":{\"id\":\"1791\"},\"nonselection_glyph\":{\"id\":\"1790\"},\"selection_glyph\":null,\"view\":{\"id\":\"1793\"}},\"id\":\"1792\",\"type\":\"GlyphRenderer\"},{\"attributes\":{},\"id\":\"1764\",\"type\":\"CategoricalScale\"},{\"attributes\":{\"fill_alpha\":{\"value\":0.1},\"fill_color\":{\"value\":\"#f669ba\"},\"line_alpha\":{\"value\":0.1},\"line_color\":{\"value\":\"#f669ba\"},\"top\":{\"field\":\"VANDALISM\"},\"width\":{\"value\":0.6},\"x\":{\"field\":\"Hour\"}},\"id\":\"1868\",\"type\":\"VBar\"},{\"attributes\":{\"source\":{\"id\":\"1756\"}},\"id\":\"2066\",\"type\":\"CDSView\"},{\"attributes\":{\"label\":{\"value\":\"ROBBERY\"},\"renderers\":[{\"id\":\"1999\"}]},\"id\":\"2262\",\"type\":\"LegendItem\"},{\"attributes\":{\"fill_alpha\":{\"value\":0.5},\"fill_color\":{\"value\":\"#3aa6da\"},\"line_color\":{\"value\":\"#3aa6da\"},\"top\":{\"field\":\"DISORDERLY CONDUCT\"},\"width\":{\"value\":0.6},\"x\":{\"field\":\"Hour\"}},\"id\":\"1843\",\"type\":\"VBar\"},{\"attributes\":{\"data\":{\"ASSAULT\":{\"__ndarray__\":\"jYaryamurD+jd4iLXF+oP19yLfAYHKY/Rx4oz+i6lz9+dsYDKXmNPzj8Sc5yaIk//uwZwMERkD8DKIwYL0CXP6Bvx41jM6E/2yFD6W2Coj97X0YhpoSkP9xycg32FaY/UdQvbp9fqz8MjWSTXVGnP2HnToqL6ac/2EtGQaCHqj9PgMbzq3eqP+w2r1Z8j6s/WhhQyU6Lqj8AE1mHzs6qP93kWVH9jqo/UKF+Eytdqz+Y7r2aQxSqP1sJkeTEwqg/\",\"dtype\":\"float64\",\"shape\":[24]},\"BURGLARY\":{\"__ndarray__\":\"EmOLMzirpD8WAYsRQZScP84s0+MqKaA/1oRf7MwNoT9ZrZhsS3OeP+vSd9sZwJo/SRVxdlLWlz+rhX6u/lGgP6YQR/7mp6g/lWAu7aLepj8vDcxcbCilP1ixNJ6QWaQ/qWu/+pAyqj+xx+c0eP2gPwf126htjaM/5dcxaERZpj/A05adSwSqPxzTCFclvLA/daKY2mgbsT+dcZfioH6rP2jV1CGvjKg/bLzFq36tpz+TSgtreqWmP1zdeqLhy6Q/\",\"dtype\":\"float64\",\"shape\":[24]},\"DISORDERLY CONDUCT\":{\"__ndarray__\":\"/ibGFN+Gqj/j21Cj4X6jP7Vrz5eFnqA/0wt7n22Jkj/rAbp6gK6OPztnHSSvXK4/4xnPeMYzvj8sLciDmdW5P8B872htH7M/eNN1+jsPqz9R4V9U+BelP2gvob2E9qI/Or8fsigWoD9R4V9U+BelP/aoWq/GnZ0/IEipeW4xoD9tLNXF9R+cP67BYmuw2Jo/tWvPl4WeoD/uVvAQa5GZP9td5T3JlZY/cIELXOAClz8+6FSBVhyiP7mUBGezpKI/\",\"dtype\":\"float64\",\"shape\":[24]},\"DRIVING UNDER THE INFLUENCE\":{\"__ndarray__\":\"EwAv1OHtvj9i8C1CR5S8P1GhsMYzZbk/g7PAsupoqD8VCms8U5aRP6CRrzSZC4c/QzK5hdwTij8VCms8U5aBP6GWzejRX4A/cV8lg57liz+4qnSNlp50P4l9CJDUzII/cmRDN9c5hT8UBU2IGkKIP3FfJYOe5Ys//fCl41UDlD+rFuXSwtafP2EVxrvDCqI/QzfXORVooz/DNMjf+L2mPw47Basw3q0/W1CckhL7sD+RIrjzQbq3P+XSwtYfHL0/\",\"dtype\":\"float64\",\"shape\":[24]},\"DRUG/NARCOTIC\":{\"__ndarray__\":\"GQcSbHO9oT8BokHQ0gKVPyttDgJt65A/aHB+f2YEiT+iOtNd7pSCPznVvN+7DXU/N2/OQ6wIhj+qcLZnDqiZP9cG2oPLGaE/R25W8Jmwoz9hOyHDQnKkP4YJJoou0Kc/iqQXj75Zqz+dDCDAsImvP6k/yzR/J68//NNY/br2sT96bi2IKTK0P9pu1LrTILU/hDpkE+xJsj9yDFAllhyvP8ai6YjK7aY/q9SYaCWroz9sPFu3hQ6nP/fUhPcTaqQ/\",\"dtype\":\"float64\",\"shape\":[24]},\"DRUNKENNESS\":{\"__ndarray__\":\"9Umf9EmftD8kPMIjPMKzP+Ie7uEe7rE/27Zt27Ztmz+dzdmczdmMPxRFURRFUXQ/EyuxEiuxgj8URVEURVGUP9IardEarZE/Fl/xFV/xlT8XbMEWbMGWP1AHdVAHdaA/3t3d3d3dnT9e5EVe5EWeP3EP93AP96A/9Umf9EmfpD8XbMEWbMGmPxiGYRiGYag/vLu7u7u7qz8aoAEaoAGqP7/v+77v+64/oAEaoAEasD9DN3RDN3SzP3M2Z3M2Z7M/\",\"dtype\":\"float64\",\"shape\":[24]},\"Hour\":[\"0\",\"1\",\"2\",\"3\",\"4\",\"5\",\"6\",\"7\",\"8\",\"9\",\"10\",\"11\",\"12\",\"13\",\"14\",\"15\",\"16\",\"17\",\"18\",\"19\",\"20\",\"21\",\"22\",\"23\"],\"LARCENY/THEFT\":{\"__ndarray__\":\"htlwuw4gpD8y1F2UJceZPzTJ68kph48/IYs+mJlQhD/bp3ikqsV6P/1bHX+iEns/At1a5JVzhD8f5neiv7iOP4aW+TaRh5o/swUw7XRaoD+3mIS41BWlP08UhpCcv6c/kyBB+yPKrD/un5EnguepP/SUNWQ+oqo/Ht59xgx3rD8EWbuXEQ+uPy26NktOMLE/JHhd9UZMtT/QG4MutS60P5/0dKBWxLE//F1WNGHkrD92WUaBNfaqP4Lu/w/EeKc/\",\"dtype\":\"float64\",\"shape\":[24]},\"PROSTITUTION\":{\"__ndarray__\":\"0BOyZdbWwD91g1rIj7K4PyIxfN1vha8/MGoMSgKUoj/Az/cVW22UP/SZYWGEx4Q/uenVI77ngD8oZMusrSF1Pyhky6ytIXU/x7UZCPjyZz9fIUZxpT53P2IUV+pzAYk/l/7f4FRIoz9p+njcEIeMP8e1GQj48pc/eQb7Frprlz/gms6tDCCYP/5ylMzvD5o/9JlhYYTHpD/LyEksfqKzP2w6tzKAYLA/vq/YaqOAqj/6f4NTIU24P2/1j5Z8nsA/\",\"dtype\":\"float64\",\"shape\":[24]},\"ROBBERY\":{\"__ndarray__\":\"UVhb5+n2qz8bfmje10CuPxt+aN7XQK4/CtmZ05K9oj/+Fj42tIqXP0SYxGgCe5M/C+qIrWEjkj/grxOOkNSQPx9lZYks/5M/OQk2WZB5lj+UhDbYLeqaP1x3dkGvAp8/eFDZvXZloj8YPHGVk2CjP4WR0svZPKQ/OholM1/fpT/1uny0rrqoP+6AmeZGtqg/m74ZppXuqj/OQ2FtnaerP7x674/Doa4/BMGUuciEsT/9l6DFL+awP64qzMaIG7A/\",\"dtype\":\"float64\",\"shape\":[24]},\"STOLEN PROPERTY\":{\"__ndarray__\":\"YWMx4BU2pj+jD1F4KfqgP47aoUzmqJ0/yHfhIHp8lz/zP6HbMf+TP0QKgftEpJA/2xIBkLItkT9BjSEUDNSYPzvHgb6vc5w/mwBxtKkJoD+NK/GazbiiP2FjMeAVNqY/8qURHydfqj9OyBFx3YSsP0PWYYIvZK0/tNzBsUHLrT8Q/8ED+PCvP7sJOSKum7A/ARUh9Q1QsT/wwkH0+C6sP/2XwQ3Vf6k/qoShf55KqD/teQGG1Z6nPz9E4aXoQ6Q/\",\"dtype\":\"float64\",\"shape\":[24]},\"TRESPASS\":{\"__ndarray__\":\"o1FOfogKnT96itiPle2UPwlPaW1HF5o/IMsR1GWqlT993vntGWmQP0Ex7Q+Pi6M/pYT3z4vasj92asc8caWyP3gU2GszY7A/o1FOfogKrT+1rkxL37ipP++xSPqn2Kg/AzC/038yqz9Xeuwkqk6pPwyjisvLkqU/9dDyk2+9pz9p1+rxAP2lP7Ljww+cT6Y/zSr1sf1LpT+6rH7YJfKiP8DLKHLt1qE/OEe6OoQ9oT9Ec90okeKeP7JaK+1aPZ4/\",\"dtype\":\"float64\",\"shape\":[24]},\"VANDALISM\":{\"__ndarray__\":\"OCpqWU3Eqz94+ne7MnKjP53ZGoAhGKI/0IcBnWlKmj8hQce3Lw6SP2/yvXmGtY0/BqijATtTkT/s4lgpegyWPzShpQ/uIqA/B2870hS4nj8kA/QwtUqgP84vwRL+x54/Mf5eq9pipD9vdiyDVI6gPypbJgH0N6I/f52wZRmdpT8rL//eJ6ynP7bCtsSoA68/vLTngFCqsj+LWlYT8YaxP9twzmwNwLA/CFRAmCWvsD9O78LrOqCwP1ABYZa8Qq4/\",\"dtype\":\"float64\",\"shape\":[24]},\"VEHICLE THEFT\":{\"__ndarray__\":\"TCtNeI1voj/2U1M6NMeYP9OAe5gzrpI/EaKNp6iiiD9TO0uf1a2EP48QNI+CjoQ/aeDkIfJnjz8kr9TrNDWXP0vYgnCb6qA/jebfdQz1oD+A8DdB8hGgPzfXT03p0Jw/8vgJHx4jpj+2kR9Ui9CeP5Un0570PaI/vhFKUGcGpj/BjmhxzySrPzIOCA25nrE/6zvW/8dptT8o7+npItCyP7QOdyK2dbQ/HX0Bv5p8sj/YStqwIBW0PzwtJjBPbbA/\",\"dtype\":\"float64\",\"shape\":[24]},\"WEAPON LAWS\":{\"__ndarray__\":\"ePLT8urwqj9srsFdTGGjP22WvN28tqA/ctBKqBsplz+oGykXeoSPPyCSqPR8PIA/3cxkuzvDhj+Nww7tW7qVP6rrHhdbL5o/ppmLzGwSoT9tlrzdvLagP46rCW3MD6M/ZtmJeMsnqD9H4YNO6wepP77UXpFbo6c/yPspwcr5qz/1Hz0Auv6vP3MdnA1qt68/eBmAzVQNsT+HFYPiRJ2wP67wYPz6vao/rvBg/Pq9qj/tFbk1euGuP67wYPz6vao/\",\"dtype\":\"float64\",\"shape\":[24]}},\"selected\":{\"id\":\"1900\"},\"selection_policy\":{\"id\":\"1901\"}},\"id\":\"1756\",\"type\":\"ColumnDataSource\"},{\"attributes\":{\"source\":{\"id\":\"1756\"}},\"id\":\"1978\",\"type\":\"CDSView\"},{\"attributes\":{\"source\":{\"id\":\"1756\"}},\"id\":\"2242\",\"type\":\"CDSView\"},{\"attributes\":{\"data_source\":{\"id\":\"1756\"},\"glyph\":{\"id\":\"1825\"},\"hover_glyph\":null,\"muted\":true,\"muted_glyph\":{\"id\":\"1827\"},\"nonselection_glyph\":{\"id\":\"1826\"},\"selection_glyph\":null,\"view\":{\"id\":\"1829\"}},\"id\":\"1828\",\"type\":\"GlyphRenderer\"},{\"attributes\":{\"source\":{\"id\":\"1756\"}},\"id\":\"1859\",\"type\":\"CDSView\"},{\"attributes\":{\"fill_alpha\":{\"value\":0.5},\"fill_color\":{\"value\":\"#36ada4\"},\"line_color\":{\"value\":\"#36ada4\"},\"top\":{\"field\":\"LARCENY/THEFT\"},\"width\":{\"value\":0.6},\"x\":{\"field\":\"Hour\"}},\"id\":\"2106\",\"type\":\"VBar\"},{\"attributes\":{\"fill_alpha\":{\"value\":0.1},\"fill_color\":{\"value\":\"#ef7d32\"},\"line_alpha\":{\"value\":0.1},\"line_color\":{\"value\":\"#ef7d32\"},\"top\":{\"field\":\"STOLEN PROPERTY\"},\"width\":{\"value\":0.6},\"x\":{\"field\":\"Hour\"}},\"id\":\"1975\",\"type\":\"VBar\"},{\"attributes\":{\"source\":{\"id\":\"1756\"}},\"id\":\"1817\",\"type\":\"CDSView\"},{\"attributes\":{\"fill_alpha\":{\"value\":0.1},\"fill_color\":{\"value\":\"#c180f4\"},\"line_alpha\":{\"value\":0.1},\"line_color\":{\"value\":\"#c180f4\"},\"top\":{\"field\":\"DRUG/NARCOTIC\"},\"width\":{\"value\":0.6},\"x\":{\"field\":\"Hour\"}},\"id\":\"1856\",\"type\":\"VBar\"},{\"attributes\":{\"fill_alpha\":{\"value\":0.1},\"fill_color\":{\"value\":\"#36ada4\"},\"line_alpha\":{\"value\":0.1},\"line_color\":{\"value\":\"#36ada4\"},\"top\":{\"field\":\"LARCENY/THEFT\"},\"width\":{\"value\":0.6},\"x\":{\"field\":\"Hour\"}},\"id\":\"2107\",\"type\":\"VBar\"},{\"attributes\":{\"fill_alpha\":{\"value\":0.1},\"fill_color\":{\"value\":\"#8197f4\"},\"line_alpha\":{\"value\":0.1},\"line_color\":{\"value\":\"#8197f4\"},\"top\":{\"field\":\"TRESPASS\"},\"width\":{\"value\":0.6},\"x\":{\"field\":\"Hour\"}},\"id\":\"2173\",\"type\":\"VBar\"},{\"attributes\":{},\"id\":\"1780\",\"type\":\"HelpTool\"},{\"attributes\":{},\"id\":\"1779\",\"type\":\"ResetTool\"},{\"attributes\":{\"source\":{\"id\":\"1756\"}},\"id\":\"2176\",\"type\":\"CDSView\"},{\"attributes\":{\"label\":{\"value\":\"WEAPON LAWS\"},\"renderers\":[{\"id\":\"2021\"}]},\"id\":\"2263\",\"type\":\"LegendItem\"},{\"attributes\":{\"data_source\":{\"id\":\"1756\"},\"glyph\":{\"id\":\"2150\"},\"hover_glyph\":null,\"muted\":true,\"muted_glyph\":{\"id\":\"2152\"},\"nonselection_glyph\":{\"id\":\"2151\"},\"selection_glyph\":null,\"view\":{\"id\":\"2154\"}},\"id\":\"2153\",\"type\":\"GlyphRenderer\"},{\"attributes\":{\"fill_alpha\":{\"value\":0.05},\"fill_color\":{\"value\":\"#36ada4\"},\"line_alpha\":{\"value\":0.05},\"line_color\":{\"value\":\"#36ada4\"},\"top\":{\"field\":\"LARCENY/THEFT\"},\"width\":{\"value\":0.6},\"x\":{\"field\":\"Hour\"}},\"id\":\"2108\",\"type\":\"VBar\"},{\"attributes\":{\"data_source\":{\"id\":\"1756\"},\"glyph\":{\"id\":\"2062\"},\"hover_glyph\":null,\"muted\":true,\"muted_glyph\":{\"id\":\"2064\"},\"nonselection_glyph\":{\"id\":\"2063\"},\"selection_glyph\":null,\"view\":{\"id\":\"2066\"}},\"id\":\"2065\",\"type\":\"GlyphRenderer\"},{\"attributes\":{\"fill_alpha\":{\"value\":0.5},\"fill_color\":{\"value\":\"#ef7d32\"},\"line_color\":{\"value\":\"#ef7d32\"},\"top\":{\"field\":\"STOLEN PROPERTY\"},\"width\":{\"value\":0.6},\"x\":{\"field\":\"Hour\"}},\"id\":\"1974\",\"type\":\"VBar\"},{\"attributes\":{\"fill_alpha\":{\"value\":0.1},\"fill_color\":{\"value\":\"#a79f31\"},\"line_alpha\":{\"value\":0.1},\"line_color\":{\"value\":\"#a79f31\"},\"top\":{\"field\":\"WEAPON LAWS\"},\"width\":{\"value\":0.6},\"x\":{\"field\":\"Hour\"}},\"id\":\"2019\",\"type\":\"VBar\"},{\"attributes\":{\"fill_alpha\":{\"value\":0.05},\"fill_color\":{\"value\":\"#34af8a\"},\"line_alpha\":{\"value\":0.05},\"line_color\":{\"value\":\"#34af8a\"},\"top\":{\"field\":\"BURGLARY\"},\"width\":{\"value\":0.6},\"x\":{\"field\":\"Hour\"}},\"id\":\"1827\",\"type\":\"VBar\"},{\"attributes\":{\"fill_alpha\":{\"value\":0.1},\"fill_color\":{\"value\":\"#8197f4\"},\"line_alpha\":{\"value\":0.1},\"line_color\":{\"value\":\"#8197f4\"},\"top\":{\"field\":\"TRESPASS\"},\"width\":{\"value\":0.6},\"x\":{\"field\":\"Hour\"}},\"id\":\"1850\",\"type\":\"VBar\"},{\"attributes\":{\"label\":{\"value\":\"PROSTITUTION\"},\"renderers\":[{\"id\":\"1955\"}]},\"id\":\"2260\",\"type\":\"LegendItem\"},{\"attributes\":{\"source\":{\"id\":\"1756\"}},\"id\":\"1871\",\"type\":\"CDSView\"},{\"attributes\":{\"fill_alpha\":{\"value\":0.5},\"fill_color\":{\"value\":\"#3aa6da\"},\"line_color\":{\"value\":\"#3aa6da\"},\"top\":{\"field\":\"DISORDERLY CONDUCT\"},\"width\":{\"value\":0.6},\"x\":{\"field\":\"Hour\"}},\"id\":\"2150\",\"type\":\"VBar\"},{\"attributes\":{\"label\":{\"value\":\"ASSAULT\"},\"renderers\":[{\"id\":\"1816\"}]},\"id\":\"1877\",\"type\":\"LegendItem\"},{\"attributes\":{\"data_source\":{\"id\":\"1756\"},\"glyph\":{\"id\":\"2040\"},\"hover_glyph\":null,\"muted\":true,\"muted_glyph\":{\"id\":\"2042\"},\"nonselection_glyph\":{\"id\":\"2041\"},\"selection_glyph\":null,\"view\":{\"id\":\"2044\"}},\"id\":\"2043\",\"type\":\"GlyphRenderer\"},{\"attributes\":{},\"id\":\"1898\",\"type\":\"BasicTickFormatter\"},{\"attributes\":{\"source\":{\"id\":\"1756\"}},\"id\":\"1847\",\"type\":\"CDSView\"},{\"attributes\":{\"fill_alpha\":{\"value\":0.5},\"fill_color\":{\"value\":\"#37aabb\"},\"line_color\":{\"value\":\"#37aabb\"},\"top\":{\"field\":\"VEHICLE THEFT\"},\"width\":{\"value\":0.6},\"x\":{\"field\":\"Hour\"}},\"id\":\"2128\",\"type\":\"VBar\"},{\"attributes\":{\"source\":{\"id\":\"1756\"}},\"id\":\"2154\",\"type\":\"CDSView\"},{\"attributes\":{\"fill_alpha\":{\"value\":0.05},\"fill_color\":{\"value\":\"#a79f31\"},\"line_alpha\":{\"value\":0.05},\"line_color\":{\"value\":\"#a79f31\"},\"top\":{\"field\":\"WEAPON LAWS\"},\"width\":{\"value\":0.6},\"x\":{\"field\":\"Hour\"}},\"id\":\"2020\",\"type\":\"VBar\"},{\"attributes\":{\"label\":{\"value\":\"DRIVING UNDER THE INFLUENCE\"},\"renderers\":[{\"id\":\"1864\"}]},\"id\":\"1885\",\"type\":\"LegendItem\"},{\"attributes\":{\"fill_alpha\":{\"value\":0.5},\"fill_color\":{\"value\":\"#82a931\"},\"line_color\":{\"value\":\"#82a931\"},\"top\":{\"field\":\"ASSAULT\"},\"width\":{\"value\":0.6},\"x\":{\"field\":\"Hour\"}},\"id\":\"1813\",\"type\":\"VBar\"},{\"attributes\":{\"click_policy\":\"mute\",\"items\":[{\"id\":\"1873\"},{\"id\":\"1874\"},{\"id\":\"1875\"},{\"id\":\"1876\"},{\"id\":\"1877\"},{\"id\":\"1878\"},{\"id\":\"1879\"},{\"id\":\"1880\"},{\"id\":\"1881\"},{\"id\":\"1882\"},{\"id\":\"1883\"},{\"id\":\"1884\"},{\"id\":\"1885\"},{\"id\":\"1886\"}]},\"id\":\"1872\",\"type\":\"Legend\"},{\"attributes\":{\"fill_alpha\":{\"value\":0.05},\"fill_color\":{\"value\":\"#3aa6da\"},\"line_alpha\":{\"value\":0.05},\"line_color\":{\"value\":\"#3aa6da\"},\"top\":{\"field\":\"DISORDERLY CONDUCT\"},\"width\":{\"value\":0.6},\"x\":{\"field\":\"Hour\"}},\"id\":\"2152\",\"type\":\"VBar\"},{\"attributes\":{\"data_source\":{\"id\":\"1756\"},\"glyph\":{\"id\":\"2238\"},\"hover_glyph\":null,\"muted\":true,\"muted_glyph\":{\"id\":\"2240\"},\"nonselection_glyph\":{\"id\":\"2239\"},\"selection_glyph\":null,\"view\":{\"id\":\"2242\"}},\"id\":\"2241\",\"type\":\"GlyphRenderer\"},{\"attributes\":{\"source\":{\"id\":\"1756\"}},\"id\":\"2110\",\"type\":\"CDSView\"},{\"attributes\":{\"data_source\":{\"id\":\"1756\"},\"glyph\":{\"id\":\"2172\"},\"hover_glyph\":null,\"muted\":true,\"muted_glyph\":{\"id\":\"2174\"},\"nonselection_glyph\":{\"id\":\"2173\"},\"selection_glyph\":null,\"view\":{\"id\":\"2176\"}},\"id\":\"2175\",\"type\":\"GlyphRenderer\"},{\"attributes\":{\"fill_alpha\":{\"value\":0.05},\"fill_color\":{\"value\":\"#36ada4\"},\"line_alpha\":{\"value\":0.05},\"line_color\":{\"value\":\"#36ada4\"},\"top\":{\"field\":\"LARCENY/THEFT\"},\"width\":{\"value\":0.6},\"x\":{\"field\":\"Hour\"}},\"id\":\"1833\",\"type\":\"VBar\"},{\"attributes\":{\"fill_alpha\":{\"value\":0.5},\"fill_color\":{\"value\":\"#8197f4\"},\"line_color\":{\"value\":\"#8197f4\"},\"top\":{\"field\":\"TRESPASS\"},\"width\":{\"value\":0.6},\"x\":{\"field\":\"Hour\"}},\"id\":\"2172\",\"type\":\"VBar\"},{\"attributes\":{\"source\":{\"id\":\"1756\"}},\"id\":\"1853\",\"type\":\"CDSView\"},{\"attributes\":{\"active_drag\":\"auto\",\"active_inspect\":\"auto\",\"active_multi\":null,\"active_scroll\":\"auto\",\"active_tap\":\"auto\",\"tools\":[{\"id\":\"1775\"},{\"id\":\"1776\"},{\"id\":\"1777\"},{\"id\":\"1778\"},{\"id\":\"1779\"},{\"id\":\"1780\"}]},\"id\":\"1781\",\"type\":\"Toolbar\"},{\"attributes\":{\"fill_alpha\":{\"value\":0.05},\"fill_color\":{\"value\":\"#f669ba\"},\"line_alpha\":{\"value\":0.05},\"line_color\":{\"value\":\"#f669ba\"},\"top\":{\"field\":\"VANDALISM\"},\"width\":{\"value\":0.6},\"x\":{\"field\":\"Hour\"}},\"id\":\"2240\",\"type\":\"VBar\"},{\"attributes\":{\"label\":{\"value\":\"DRIVING UNDER THE INFLUENCE\"},\"renderers\":[{\"id\":\"2219\"}]},\"id\":\"2272\",\"type\":\"LegendItem\"},{\"attributes\":{\"click_policy\":\"mute\",\"items\":[{\"id\":\"2260\"},{\"id\":\"2261\"},{\"id\":\"2262\"},{\"id\":\"2263\"},{\"id\":\"2264\"},{\"id\":\"2265\"},{\"id\":\"2266\"},{\"id\":\"2267\"},{\"id\":\"2268\"},{\"id\":\"2269\"},{\"id\":\"2270\"},{\"id\":\"2271\"},{\"id\":\"2272\"},{\"id\":\"2273\"}]},\"id\":\"2259\",\"type\":\"Legend\"},{\"attributes\":{\"fill_alpha\":{\"value\":0.05},\"fill_color\":{\"value\":\"#ef7d32\"},\"line_alpha\":{\"value\":0.05},\"line_color\":{\"value\":\"#ef7d32\"},\"top\":{\"field\":\"STOLEN PROPERTY\"},\"width\":{\"value\":0.6},\"x\":{\"field\":\"Hour\"}},\"id\":\"1976\",\"type\":\"VBar\"},{\"attributes\":{\"source\":{\"id\":\"1756\"}},\"id\":\"1829\",\"type\":\"CDSView\"},{\"attributes\":{\"fill_alpha\":{\"value\":0.5},\"fill_color\":{\"value\":\"#c180f4\"},\"line_color\":{\"value\":\"#c180f4\"},\"top\":{\"field\":\"DRUG/NARCOTIC\"},\"width\":{\"value\":0.6},\"x\":{\"field\":\"Hour\"}},\"id\":\"1855\",\"type\":\"VBar\"},{\"attributes\":{\"label\":{\"value\":\"DRUG/NARCOTIC\"},\"renderers\":[{\"id\":\"2197\"}]},\"id\":\"2271\",\"type\":\"LegendItem\"},{\"attributes\":{\"fill_alpha\":{\"value\":0.1},\"fill_color\":{\"value\":\"#c180f4\"},\"line_alpha\":{\"value\":0.1},\"line_color\":{\"value\":\"#c180f4\"},\"top\":{\"field\":\"DRUG/NARCOTIC\"},\"width\":{\"value\":0.6},\"x\":{\"field\":\"Hour\"}},\"id\":\"2195\",\"type\":\"VBar\"},{\"attributes\":{\"data_source\":{\"id\":\"1756\"},\"glyph\":{\"id\":\"2106\"},\"hover_glyph\":null,\"muted\":true,\"muted_glyph\":{\"id\":\"2108\"},\"nonselection_glyph\":{\"id\":\"2107\"},\"selection_glyph\":null,\"view\":{\"id\":\"2110\"}},\"id\":\"2109\",\"type\":\"GlyphRenderer\"},{\"attributes\":{\"fill_alpha\":{\"value\":0.05},\"fill_color\":{\"value\":\"#37aabb\"},\"line_alpha\":{\"value\":0.05},\"line_color\":{\"value\":\"#37aabb\"},\"top\":{\"field\":\"VEHICLE THEFT\"},\"width\":{\"value\":0.6},\"x\":{\"field\":\"Hour\"}},\"id\":\"2130\",\"type\":\"VBar\"},{\"attributes\":{\"label\":{\"value\":\"BURGLARY\"},\"renderers\":[{\"id\":\"1828\"}]},\"id\":\"1879\",\"type\":\"LegendItem\"},{\"attributes\":{\"source\":{\"id\":\"1756\"}},\"id\":\"2000\",\"type\":\"CDSView\"},{\"attributes\":{\"fill_alpha\":{\"value\":0.05},\"fill_color\":{\"value\":\"#8197f4\"},\"line_alpha\":{\"value\":0.05},\"line_color\":{\"value\":\"#8197f4\"},\"top\":{\"field\":\"TRESPASS\"},\"width\":{\"value\":0.6},\"x\":{\"field\":\"Hour\"}},\"id\":\"2174\",\"type\":\"VBar\"},{\"attributes\":{\"label\":{\"value\":\"STOLEN PROPERTY\"},\"renderers\":[{\"id\":\"1977\"}]},\"id\":\"2261\",\"type\":\"LegendItem\"},{\"attributes\":{\"fill_alpha\":{\"value\":0.05},\"fill_color\":{\"value\":\"#a79f31\"},\"line_alpha\":{\"value\":0.05},\"line_color\":{\"value\":\"#a79f31\"},\"top\":{\"field\":\"WEAPON LAWS\"},\"width\":{\"value\":0.6},\"x\":{\"field\":\"Hour\"}},\"id\":\"1809\",\"type\":\"VBar\"},{\"attributes\":{\"source\":{\"id\":\"1756\"}},\"id\":\"2198\",\"type\":\"CDSView\"},{\"attributes\":{\"label\":{\"value\":\"DRUNKENNESS\"},\"renderers\":[{\"id\":\"1822\"}]},\"id\":\"1878\",\"type\":\"LegendItem\"},{\"attributes\":{},\"id\":\"1900\",\"type\":\"Selection\"},{\"attributes\":{\"source\":{\"id\":\"1756\"}},\"id\":\"1811\",\"type\":\"CDSView\"},{\"attributes\":{\"source\":{\"id\":\"1756\"}},\"id\":\"2022\",\"type\":\"CDSView\"},{\"attributes\":{},\"id\":\"1775\",\"type\":\"PanTool\"},{\"attributes\":{\"data_source\":{\"id\":\"1756\"},\"glyph\":{\"id\":\"1807\"},\"hover_glyph\":null,\"muted\":true,\"muted_glyph\":{\"id\":\"1809\"},\"nonselection_glyph\":{\"id\":\"1808\"},\"selection_glyph\":null,\"view\":{\"id\":\"1811\"}},\"id\":\"1810\",\"type\":\"GlyphRenderer\"},{\"attributes\":{\"source\":{\"id\":\"1756\"}},\"id\":\"1799\",\"type\":\"CDSView\"},{\"attributes\":{\"data_source\":{\"id\":\"1756\"},\"glyph\":{\"id\":\"1855\"},\"hover_glyph\":null,\"muted\":true,\"muted_glyph\":{\"id\":\"1857\"},\"nonselection_glyph\":{\"id\":\"1856\"},\"selection_glyph\":null,\"view\":{\"id\":\"1859\"}},\"id\":\"1858\",\"type\":\"GlyphRenderer\"},{\"attributes\":{\"data_source\":{\"id\":\"1756\"},\"glyph\":{\"id\":\"2128\"},\"hover_glyph\":null,\"muted\":true,\"muted_glyph\":{\"id\":\"2130\"},\"nonselection_glyph\":{\"id\":\"2129\"},\"selection_glyph\":null,\"view\":{\"id\":\"2132\"}},\"id\":\"2131\",\"type\":\"GlyphRenderer\"},{\"attributes\":{\"data_source\":{\"id\":\"1756\"},\"glyph\":{\"id\":\"1831\"},\"hover_glyph\":null,\"muted\":true,\"muted_glyph\":{\"id\":\"1833\"},\"nonselection_glyph\":{\"id\":\"1832\"},\"selection_glyph\":null,\"view\":{\"id\":\"1835\"}},\"id\":\"1834\",\"type\":\"GlyphRenderer\"},{\"attributes\":{\"fill_alpha\":{\"value\":0.5},\"fill_color\":{\"value\":\"#c180f4\"},\"line_color\":{\"value\":\"#c180f4\"},\"top\":{\"field\":\"DRUG/NARCOTIC\"},\"width\":{\"value\":0.6},\"x\":{\"field\":\"Hour\"}},\"id\":\"2194\",\"type\":\"VBar\"},{\"attributes\":{\"data_source\":{\"id\":\"1756\"},\"glyph\":{\"id\":\"2018\"},\"hover_glyph\":null,\"muted\":true,\"muted_glyph\":{\"id\":\"2020\"},\"nonselection_glyph\":{\"id\":\"2019\"},\"selection_glyph\":null,\"view\":{\"id\":\"2022\"}},\"id\":\"2021\",\"type\":\"GlyphRenderer\"},{\"attributes\":{\"fill_alpha\":{\"value\":0.05},\"fill_color\":{\"value\":\"#c180f4\"},\"line_alpha\":{\"value\":0.05},\"line_color\":{\"value\":\"#c180f4\"},\"top\":{\"field\":\"DRUG/NARCOTIC\"},\"width\":{\"value\":0.6},\"x\":{\"field\":\"Hour\"}},\"id\":\"1857\",\"type\":\"VBar\"},{\"attributes\":{\"label\":{\"value\":\"WEAPON LAWS\"},\"renderers\":[{\"id\":\"1810\"}]},\"id\":\"1876\",\"type\":\"LegendItem\"},{\"attributes\":{\"fill_alpha\":{\"value\":0.5},\"fill_color\":{\"value\":\"#32b24e\"},\"line_color\":{\"value\":\"#32b24e\"},\"top\":{\"field\":\"DRUNKENNESS\"},\"width\":{\"value\":0.6},\"x\":{\"field\":\"Hour\"}},\"id\":\"1819\",\"type\":\"VBar\"},{\"attributes\":{\"fill_alpha\":{\"value\":0.1},\"fill_color\":{\"value\":\"#f669ba\"},\"line_alpha\":{\"value\":0.1},\"line_color\":{\"value\":\"#f669ba\"},\"top\":{\"field\":\"VANDALISM\"},\"width\":{\"value\":0.6},\"x\":{\"field\":\"Hour\"}},\"id\":\"2239\",\"type\":\"VBar\"},{\"attributes\":{\"fill_alpha\":{\"value\":0.5},\"fill_color\":{\"value\":\"#f77189\"},\"line_color\":{\"value\":\"#f77189\"},\"top\":{\"field\":\"PROSTITUTION\"},\"width\":{\"value\":0.6},\"x\":{\"field\":\"Hour\"}},\"id\":\"1789\",\"type\":\"VBar\"},{\"attributes\":{\"fill_alpha\":{\"value\":0.1},\"fill_color\":{\"value\":\"#82a931\"},\"line_alpha\":{\"value\":0.1},\"line_color\":{\"value\":\"#82a931\"},\"top\":{\"field\":\"ASSAULT\"},\"width\":{\"value\":0.6},\"x\":{\"field\":\"Hour\"}},\"id\":\"1814\",\"type\":\"VBar\"},{\"attributes\":{\"fill_alpha\":{\"value\":0.05},\"fill_color\":{\"value\":\"#82a931\"},\"line_alpha\":{\"value\":0.05},\"line_color\":{\"value\":\"#82a931\"},\"top\":{\"field\":\"ASSAULT\"},\"width\":{\"value\":0.6},\"x\":{\"field\":\"Hour\"}},\"id\":\"2042\",\"type\":\"VBar\"},{\"attributes\":{\"fill_alpha\":{\"value\":0.1},\"fill_color\":{\"value\":\"#37aabb\"},\"line_alpha\":{\"value\":0.1},\"line_color\":{\"value\":\"#37aabb\"},\"top\":{\"field\":\"VEHICLE THEFT\"},\"width\":{\"value\":0.6},\"x\":{\"field\":\"Hour\"}},\"id\":\"2129\",\"type\":\"VBar\"},{\"attributes\":{\"label\":{\"value\":\"VANDALISM\"},\"renderers\":[{\"id\":\"2241\"}]},\"id\":\"2273\",\"type\":\"LegendItem\"},{\"attributes\":{\"fill_alpha\":{\"value\":0.5},\"fill_color\":{\"value\":\"#8197f4\"},\"line_color\":{\"value\":\"#8197f4\"},\"top\":{\"field\":\"TRESPASS\"},\"width\":{\"value\":0.6},\"x\":{\"field\":\"Hour\"}},\"id\":\"1849\",\"type\":\"VBar\"},{\"attributes\":{\"source\":{\"id\":\"1756\"}},\"id\":\"1956\",\"type\":\"CDSView\"},{\"attributes\":{\"fill_alpha\":{\"value\":0.5},\"fill_color\":{\"value\":\"#a79f31\"},\"line_color\":{\"value\":\"#a79f31\"},\"top\":{\"field\":\"WEAPON LAWS\"},\"width\":{\"value\":0.6},\"x\":{\"field\":\"Hour\"}},\"id\":\"2018\",\"type\":\"VBar\"},{\"attributes\":{\"fill_alpha\":{\"value\":0.1},\"fill_color\":{\"value\":\"#3aa6da\"},\"line_alpha\":{\"value\":0.1},\"line_color\":{\"value\":\"#3aa6da\"},\"top\":{\"field\":\"DISORDERLY CONDUCT\"},\"width\":{\"value\":0.6},\"x\":{\"field\":\"Hour\"}},\"id\":\"2151\",\"type\":\"VBar\"},{\"attributes\":{\"label\":{\"value\":\"STOLEN PROPERTY\"},\"renderers\":[{\"id\":\"1798\"}]},\"id\":\"1874\",\"type\":\"LegendItem\"},{\"attributes\":{\"fill_alpha\":{\"value\":0.1},\"fill_color\":{\"value\":\"#36ada4\"},\"line_alpha\":{\"value\":0.1},\"line_color\":{\"value\":\"#36ada4\"},\"top\":{\"field\":\"LARCENY/THEFT\"},\"width\":{\"value\":0.6},\"x\":{\"field\":\"Hour\"}},\"id\":\"1832\",\"type\":\"VBar\"},{\"attributes\":{\"label\":{\"value\":\"ASSAULT\"},\"renderers\":[{\"id\":\"2043\"}]},\"id\":\"2264\",\"type\":\"LegendItem\"},{\"attributes\":{\"fill_alpha\":{\"value\":0.1},\"fill_color\":{\"value\":\"#32b24e\"},\"line_alpha\":{\"value\":0.1},\"line_color\":{\"value\":\"#32b24e\"},\"top\":{\"field\":\"DRUNKENNESS\"},\"width\":{\"value\":0.6},\"x\":{\"field\":\"Hour\"}},\"id\":\"1820\",\"type\":\"VBar\"},{\"attributes\":{\"source\":{\"id\":\"1756\"}},\"id\":\"2132\",\"type\":\"CDSView\"},{\"attributes\":{},\"id\":\"1901\",\"type\":\"UnionRenderers\"},{\"attributes\":{\"fill_alpha\":{\"value\":0.05},\"fill_color\":{\"value\":\"#32b24e\"},\"line_alpha\":{\"value\":0.05},\"line_color\":{\"value\":\"#32b24e\"},\"top\":{\"field\":\"DRUNKENNESS\"},\"width\":{\"value\":0.6},\"x\":{\"field\":\"Hour\"}},\"id\":\"2064\",\"type\":\"VBar\"},{\"attributes\":{\"fill_alpha\":{\"value\":0.5},\"fill_color\":{\"value\":\"#f669ba\"},\"line_color\":{\"value\":\"#f669ba\"},\"top\":{\"field\":\"VANDALISM\"},\"width\":{\"value\":0.6},\"x\":{\"field\":\"Hour\"}},\"id\":\"2238\",\"type\":\"VBar\"},{\"attributes\":{\"label\":{\"value\":\"ROBBERY\"},\"renderers\":[{\"id\":\"1804\"}]},\"id\":\"1875\",\"type\":\"LegendItem\"},{\"attributes\":{\"source\":{\"id\":\"1756\"}},\"id\":\"2088\",\"type\":\"CDSView\"},{\"attributes\":{\"data_source\":{\"id\":\"1756\"},\"glyph\":{\"id\":\"1843\"},\"hover_glyph\":null,\"muted\":true,\"muted_glyph\":{\"id\":\"1845\"},\"nonselection_glyph\":{\"id\":\"1844\"},\"selection_glyph\":null,\"view\":{\"id\":\"1847\"}},\"id\":\"1846\",\"type\":\"GlyphRenderer\"}],\"root_ids\":[\"1758\"]},\"title\":\"Bokeh Application\",\"version\":\"2.0.0\"}};\n",
       "  var render_items = [{\"docid\":\"af3b46a5-43cc-48eb-af56-aa505e150d23\",\"root_ids\":[\"1758\"],\"roots\":{\"1758\":\"946a676b-8b6a-43bd-bf0a-c8357beb6819\"}}];\n",
       "  root.Bokeh.embed.embed_items_notebook(docs_json, render_items);\n",
       "\n",
       "  }\n",
       "  if (root.Bokeh !== undefined) {\n",
       "    embed_document(root);\n",
       "  } else {\n",
       "    var attempts = 0;\n",
       "    var timer = setInterval(function(root) {\n",
       "      if (root.Bokeh !== undefined) {\n",
       "        clearInterval(timer);\n",
       "        embed_document(root);\n",
       "      } else {\n",
       "        attempts++;\n",
       "        if (attempts > 100) {\n",
       "          clearInterval(timer);\n",
       "          console.log(\"Bokeh: ERROR: Unable to run BokehJS code because BokehJS library is missing\");\n",
       "        }\n",
       "      }\n",
       "    }, 10, root)\n",
       "  }\n",
       "})(window);"
      ],
      "application/vnd.bokehjs_exec.v0+json": ""
     },
     "metadata": {
      "application/vnd.bokehjs_exec.v0+json": {
       "id": "1758"
      }
     },
     "output_type": "display_data"
    }
   ],
   "source": [
    "# Using seaborn colour palette in the Hex format for colouring each category of the crime in each iteration.\n",
    "cmap = sns.color_palette('husl', len(crimes_pivot.columns)).as_hex()\n",
    "\n",
    "bar = {}\n",
    "items = list()\n",
    "\n",
    "for index, crime in enumerate(focuscrimes):\n",
    "    bar[crime] = p.vbar(\n",
    "        x='Hour', top=crime, source=source,\n",
    "        width=0.6,\n",
    "        color=cmap[index], fill_alpha=0.5,\n",
    "        muted=True, muted_alpha=0.05)\n",
    "    items.append((crime, [bar[crime]]))\n",
    "    \n",
    "# \"Sticking\" the bars to the x-axis\n",
    "p.y_range.start = 0\n",
    "\n",
    "legend = Legend(items=items)\n",
    "p.add_layout(legend, 'left')\n",
    "p.legend.click_policy = 'mute'\n",
    "show(p)"
   ]
  },
  {
   "cell_type": "code",
   "execution_count": null,
   "metadata": {},
   "outputs": [],
   "source": []
  }
 ],
 "metadata": {
  "kernelspec": {
   "display_name": "Python 3.7.1 64-bit ('venv': virtualenv)",
   "language": "python",
   "name": "python37164bitvenvvirtualenv84dc0c145867431db14750c6d0cbc978"
  },
  "language_info": {
   "codemirror_mode": {
    "name": "ipython",
    "version": 3
   },
   "file_extension": ".py",
   "mimetype": "text/x-python",
   "name": "python",
   "nbconvert_exporter": "python",
   "pygments_lexer": "ipython3",
   "version": "3.7.1"
  }
 },
 "nbformat": 4,
 "nbformat_minor": 4
}
