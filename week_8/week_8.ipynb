{
 "cells": [
  {
   "cell_type": "markdown",
   "metadata": {},
   "source": [
    "# Part 1: More on narrative data visualization"
   ]
  },
  {
   "cell_type": "markdown",
   "metadata": {},
   "source": [
    "What's the point of Figure 7?\n",
    "> Present how the visualisations were created, which mechanism were used, how the interactiveness were achieved in order to present the data.\n",
    "\n",
    "Use Figure 7 to find the most common design choice within each category for the Visual narrative and Narrative structure (the categories within visual narrative are 'visual structuring', 'highlighting', etc).\n",
    "> Visual Narrative:\n",
    "> * Consistent Visual Platform\n",
    "> * Feature Distinction\n",
    "> Narrative Structure:\n",
    "> * User Directed Path\n",
    "> * Hover Highlighting / Details\n",
    "> * Filtering / Selection / Search\n",
    "> * Very Limited Interactivity\n",
    "> * Explicit Instruction\n",
    "> * Captions / Headlines\n",
    "\n",
    "Check out Figure 8 and section 4.3. What is your favorite genre of narrative visualization? Why? What is your least favorite genre? Why?\n",
    "> Partition poster – it looks like infographics containing a lot of information in a very comprehendable way.\n",
    "> Magazine style – to acquire the knowledge it is crucial to read the text which may take a lot of time for human being.\n",
    "\n",
    "Which genre is the \"How the virus got out\" NYT piece?\n",
    "> Combination of slide show and video. The video is interactive and split into sections."
   ]
  },
  {
   "cell_type": "code",
   "execution_count": 1,
   "metadata": {},
   "outputs": [],
   "source": [
    "import pandas as pd\n",
    "import numpy as np\n",
    "from datetime import datetime\n",
    "from bokeh.io import output_notebook, show\n",
    "from bokeh.models import ColumnDataSource, FactorRange, Legend\n",
    "from bokeh.plotting import figure\n",
    "from bokeh.transform import factor_cmap\n",
    "from bokeh.palettes import Spectral5\n",
    "import seaborn as sns"
   ]
  },
  {
   "cell_type": "code",
   "execution_count": 2,
   "metadata": {},
   "outputs": [
    {
     "data": {
      "text/html": [
       "\n",
       "    <div class=\"bk-root\">\n",
       "        <a href=\"https://bokeh.org\" target=\"_blank\" class=\"bk-logo bk-logo-small bk-logo-notebook\"></a>\n",
       "        <span id=\"1001\">Loading BokehJS ...</span>\n",
       "    </div>"
      ]
     },
     "metadata": {},
     "output_type": "display_data"
    },
    {
     "data": {
      "application/javascript": [
       "\n",
       "(function(root) {\n",
       "  function now() {\n",
       "    return new Date();\n",
       "  }\n",
       "\n",
       "  var force = true;\n",
       "\n",
       "  if (typeof root._bokeh_onload_callbacks === \"undefined\" || force === true) {\n",
       "    root._bokeh_onload_callbacks = [];\n",
       "    root._bokeh_is_loading = undefined;\n",
       "  }\n",
       "\n",
       "  var JS_MIME_TYPE = 'application/javascript';\n",
       "  var HTML_MIME_TYPE = 'text/html';\n",
       "  var EXEC_MIME_TYPE = 'application/vnd.bokehjs_exec.v0+json';\n",
       "  var CLASS_NAME = 'output_bokeh rendered_html';\n",
       "\n",
       "  /**\n",
       "   * Render data to the DOM node\n",
       "   */\n",
       "  function render(props, node) {\n",
       "    var script = document.createElement(\"script\");\n",
       "    node.appendChild(script);\n",
       "  }\n",
       "\n",
       "  /**\n",
       "   * Handle when an output is cleared or removed\n",
       "   */\n",
       "  function handleClearOutput(event, handle) {\n",
       "    var cell = handle.cell;\n",
       "\n",
       "    var id = cell.output_area._bokeh_element_id;\n",
       "    var server_id = cell.output_area._bokeh_server_id;\n",
       "    // Clean up Bokeh references\n",
       "    if (id != null && id in Bokeh.index) {\n",
       "      Bokeh.index[id].model.document.clear();\n",
       "      delete Bokeh.index[id];\n",
       "    }\n",
       "\n",
       "    if (server_id !== undefined) {\n",
       "      // Clean up Bokeh references\n",
       "      var cmd = \"from bokeh.io.state import curstate; print(curstate().uuid_to_server['\" + server_id + \"'].get_sessions()[0].document.roots[0]._id)\";\n",
       "      cell.notebook.kernel.execute(cmd, {\n",
       "        iopub: {\n",
       "          output: function(msg) {\n",
       "            var id = msg.content.text.trim();\n",
       "            if (id in Bokeh.index) {\n",
       "              Bokeh.index[id].model.document.clear();\n",
       "              delete Bokeh.index[id];\n",
       "            }\n",
       "          }\n",
       "        }\n",
       "      });\n",
       "      // Destroy server and session\n",
       "      var cmd = \"import bokeh.io.notebook as ion; ion.destroy_server('\" + server_id + \"')\";\n",
       "      cell.notebook.kernel.execute(cmd);\n",
       "    }\n",
       "  }\n",
       "\n",
       "  /**\n",
       "   * Handle when a new output is added\n",
       "   */\n",
       "  function handleAddOutput(event, handle) {\n",
       "    var output_area = handle.output_area;\n",
       "    var output = handle.output;\n",
       "\n",
       "    // limit handleAddOutput to display_data with EXEC_MIME_TYPE content only\n",
       "    if ((output.output_type != \"display_data\") || (!output.data.hasOwnProperty(EXEC_MIME_TYPE))) {\n",
       "      return\n",
       "    }\n",
       "\n",
       "    var toinsert = output_area.element.find(\".\" + CLASS_NAME.split(' ')[0]);\n",
       "\n",
       "    if (output.metadata[EXEC_MIME_TYPE][\"id\"] !== undefined) {\n",
       "      toinsert[toinsert.length - 1].firstChild.textContent = output.data[JS_MIME_TYPE];\n",
       "      // store reference to embed id on output_area\n",
       "      output_area._bokeh_element_id = output.metadata[EXEC_MIME_TYPE][\"id\"];\n",
       "    }\n",
       "    if (output.metadata[EXEC_MIME_TYPE][\"server_id\"] !== undefined) {\n",
       "      var bk_div = document.createElement(\"div\");\n",
       "      bk_div.innerHTML = output.data[HTML_MIME_TYPE];\n",
       "      var script_attrs = bk_div.children[0].attributes;\n",
       "      for (var i = 0; i < script_attrs.length; i++) {\n",
       "        toinsert[toinsert.length - 1].firstChild.setAttribute(script_attrs[i].name, script_attrs[i].value);\n",
       "        toinsert[toinsert.length - 1].firstChild.textContent = bk_div.children[0].textContent\n",
       "      }\n",
       "      // store reference to server id on output_area\n",
       "      output_area._bokeh_server_id = output.metadata[EXEC_MIME_TYPE][\"server_id\"];\n",
       "    }\n",
       "  }\n",
       "\n",
       "  function register_renderer(events, OutputArea) {\n",
       "\n",
       "    function append_mime(data, metadata, element) {\n",
       "      // create a DOM node to render to\n",
       "      var toinsert = this.create_output_subarea(\n",
       "        metadata,\n",
       "        CLASS_NAME,\n",
       "        EXEC_MIME_TYPE\n",
       "      );\n",
       "      this.keyboard_manager.register_events(toinsert);\n",
       "      // Render to node\n",
       "      var props = {data: data, metadata: metadata[EXEC_MIME_TYPE]};\n",
       "      render(props, toinsert[toinsert.length - 1]);\n",
       "      element.append(toinsert);\n",
       "      return toinsert\n",
       "    }\n",
       "\n",
       "    /* Handle when an output is cleared or removed */\n",
       "    events.on('clear_output.CodeCell', handleClearOutput);\n",
       "    events.on('delete.Cell', handleClearOutput);\n",
       "\n",
       "    /* Handle when a new output is added */\n",
       "    events.on('output_added.OutputArea', handleAddOutput);\n",
       "\n",
       "    /**\n",
       "     * Register the mime type and append_mime function with output_area\n",
       "     */\n",
       "    OutputArea.prototype.register_mime_type(EXEC_MIME_TYPE, append_mime, {\n",
       "      /* Is output safe? */\n",
       "      safe: true,\n",
       "      /* Index of renderer in `output_area.display_order` */\n",
       "      index: 0\n",
       "    });\n",
       "  }\n",
       "\n",
       "  // register the mime type if in Jupyter Notebook environment and previously unregistered\n",
       "  if (root.Jupyter !== undefined) {\n",
       "    var events = require('base/js/events');\n",
       "    var OutputArea = require('notebook/js/outputarea').OutputArea;\n",
       "\n",
       "    if (OutputArea.prototype.mime_types().indexOf(EXEC_MIME_TYPE) == -1) {\n",
       "      register_renderer(events, OutputArea);\n",
       "    }\n",
       "  }\n",
       "\n",
       "  \n",
       "  if (typeof (root._bokeh_timeout) === \"undefined\" || force === true) {\n",
       "    root._bokeh_timeout = Date.now() + 5000;\n",
       "    root._bokeh_failed_load = false;\n",
       "  }\n",
       "\n",
       "  var NB_LOAD_WARNING = {'data': {'text/html':\n",
       "     \"<div style='background-color: #fdd'>\\n\"+\n",
       "     \"<p>\\n\"+\n",
       "     \"BokehJS does not appear to have successfully loaded. If loading BokehJS from CDN, this \\n\"+\n",
       "     \"may be due to a slow or bad network connection. Possible fixes:\\n\"+\n",
       "     \"</p>\\n\"+\n",
       "     \"<ul>\\n\"+\n",
       "     \"<li>re-rerun `output_notebook()` to attempt to load from CDN again, or</li>\\n\"+\n",
       "     \"<li>use INLINE resources instead, as so:</li>\\n\"+\n",
       "     \"</ul>\\n\"+\n",
       "     \"<code>\\n\"+\n",
       "     \"from bokeh.resources import INLINE\\n\"+\n",
       "     \"output_notebook(resources=INLINE)\\n\"+\n",
       "     \"</code>\\n\"+\n",
       "     \"</div>\"}};\n",
       "\n",
       "  function display_loaded() {\n",
       "    var el = document.getElementById(\"1001\");\n",
       "    if (el != null) {\n",
       "      el.textContent = \"BokehJS is loading...\";\n",
       "    }\n",
       "    if (root.Bokeh !== undefined) {\n",
       "      if (el != null) {\n",
       "        el.textContent = \"BokehJS \" + root.Bokeh.version + \" successfully loaded.\";\n",
       "      }\n",
       "    } else if (Date.now() < root._bokeh_timeout) {\n",
       "      setTimeout(display_loaded, 100)\n",
       "    }\n",
       "  }\n",
       "\n",
       "\n",
       "  function run_callbacks() {\n",
       "    try {\n",
       "      root._bokeh_onload_callbacks.forEach(function(callback) {\n",
       "        if (callback != null)\n",
       "          callback();\n",
       "      });\n",
       "    } finally {\n",
       "      delete root._bokeh_onload_callbacks\n",
       "    }\n",
       "    console.debug(\"Bokeh: all callbacks have finished\");\n",
       "  }\n",
       "\n",
       "  function load_libs(css_urls, js_urls, callback) {\n",
       "    if (css_urls == null) css_urls = [];\n",
       "    if (js_urls == null) js_urls = [];\n",
       "\n",
       "    root._bokeh_onload_callbacks.push(callback);\n",
       "    if (root._bokeh_is_loading > 0) {\n",
       "      console.debug(\"Bokeh: BokehJS is being loaded, scheduling callback at\", now());\n",
       "      return null;\n",
       "    }\n",
       "    if (js_urls == null || js_urls.length === 0) {\n",
       "      run_callbacks();\n",
       "      return null;\n",
       "    }\n",
       "    console.debug(\"Bokeh: BokehJS not loaded, scheduling load and callback at\", now());\n",
       "    root._bokeh_is_loading = css_urls.length + js_urls.length;\n",
       "\n",
       "    function on_load() {\n",
       "      root._bokeh_is_loading--;\n",
       "      if (root._bokeh_is_loading === 0) {\n",
       "        console.debug(\"Bokeh: all BokehJS libraries/stylesheets loaded\");\n",
       "        run_callbacks()\n",
       "      }\n",
       "    }\n",
       "\n",
       "    function on_error() {\n",
       "      console.error(\"failed to load \" + url);\n",
       "    }\n",
       "\n",
       "    for (var i = 0; i < css_urls.length; i++) {\n",
       "      var url = css_urls[i];\n",
       "      const element = document.createElement(\"link\");\n",
       "      element.onload = on_load;\n",
       "      element.onerror = on_error;\n",
       "      element.rel = \"stylesheet\";\n",
       "      element.type = \"text/css\";\n",
       "      element.href = url;\n",
       "      console.debug(\"Bokeh: injecting link tag for BokehJS stylesheet: \", url);\n",
       "      document.body.appendChild(element);\n",
       "    }\n",
       "\n",
       "    for (var i = 0; i < js_urls.length; i++) {\n",
       "      var url = js_urls[i];\n",
       "      var element = document.createElement('script');\n",
       "      element.onload = on_load;\n",
       "      element.onerror = on_error;\n",
       "      element.async = false;\n",
       "      element.src = url;\n",
       "      \n",
       "      console.debug(\"Bokeh: injecting script tag for BokehJS library: \", url);\n",
       "      document.head.appendChild(element);\n",
       "    }\n",
       "  };var element = document.getElementById(\"1001\");\n",
       "  if (element == null) {\n",
       "    console.error(\"Bokeh: ERROR: autoload.js configured with elementid '1001' but no matching script tag was found. \")\n",
       "    return false;\n",
       "  }\n",
       "\n",
       "  function inject_raw_css(css) {\n",
       "    const element = document.createElement(\"style\");\n",
       "    element.appendChild(document.createTextNode(css));\n",
       "    document.body.appendChild(element);\n",
       "  }\n",
       "\n",
       "  \n",
       "  var js_urls = [\"https://cdn.bokeh.org/bokeh/release/bokeh-2.0.0.min.js\", \"https://cdn.bokeh.org/bokeh/release/bokeh-widgets-2.0.0.min.js\", \"https://cdn.bokeh.org/bokeh/release/bokeh-tables-2.0.0.min.js\", \"https://cdn.bokeh.org/bokeh/release/bokeh-gl-2.0.0.min.js\"];\n",
       "  var css_urls = [];\n",
       "  \n",
       "\n",
       "  var inline_js = [\n",
       "    function(Bokeh) {\n",
       "      Bokeh.set_log_level(\"info\");\n",
       "    },\n",
       "    function(Bokeh) {\n",
       "    \n",
       "    \n",
       "    }\n",
       "  ];\n",
       "\n",
       "  function run_inline_js() {\n",
       "    \n",
       "    if (root.Bokeh !== undefined || force === true) {\n",
       "      \n",
       "    for (var i = 0; i < inline_js.length; i++) {\n",
       "      inline_js[i].call(root, root.Bokeh);\n",
       "    }\n",
       "    if (force === true) {\n",
       "        display_loaded();\n",
       "      }} else if (Date.now() < root._bokeh_timeout) {\n",
       "      setTimeout(run_inline_js, 100);\n",
       "    } else if (!root._bokeh_failed_load) {\n",
       "      console.log(\"Bokeh: BokehJS failed to load within specified timeout.\");\n",
       "      root._bokeh_failed_load = true;\n",
       "    } else if (force !== true) {\n",
       "      var cell = $(document.getElementById(\"1001\")).parents('.cell').data().cell;\n",
       "      cell.output_area.append_execute_result(NB_LOAD_WARNING)\n",
       "    }\n",
       "\n",
       "  }\n",
       "\n",
       "  if (root._bokeh_is_loading === 0) {\n",
       "    console.debug(\"Bokeh: BokehJS loaded, going straight to plotting\");\n",
       "    run_inline_js();\n",
       "  } else {\n",
       "    load_libs(css_urls, js_urls, function() {\n",
       "      console.debug(\"Bokeh: BokehJS plotting callback run at\", now());\n",
       "      run_inline_js();\n",
       "    });\n",
       "  }\n",
       "}(window));"
      ],
      "application/vnd.bokehjs_load.v0+json": "\n(function(root) {\n  function now() {\n    return new Date();\n  }\n\n  var force = true;\n\n  if (typeof root._bokeh_onload_callbacks === \"undefined\" || force === true) {\n    root._bokeh_onload_callbacks = [];\n    root._bokeh_is_loading = undefined;\n  }\n\n  \n\n  \n  if (typeof (root._bokeh_timeout) === \"undefined\" || force === true) {\n    root._bokeh_timeout = Date.now() + 5000;\n    root._bokeh_failed_load = false;\n  }\n\n  var NB_LOAD_WARNING = {'data': {'text/html':\n     \"<div style='background-color: #fdd'>\\n\"+\n     \"<p>\\n\"+\n     \"BokehJS does not appear to have successfully loaded. If loading BokehJS from CDN, this \\n\"+\n     \"may be due to a slow or bad network connection. Possible fixes:\\n\"+\n     \"</p>\\n\"+\n     \"<ul>\\n\"+\n     \"<li>re-rerun `output_notebook()` to attempt to load from CDN again, or</li>\\n\"+\n     \"<li>use INLINE resources instead, as so:</li>\\n\"+\n     \"</ul>\\n\"+\n     \"<code>\\n\"+\n     \"from bokeh.resources import INLINE\\n\"+\n     \"output_notebook(resources=INLINE)\\n\"+\n     \"</code>\\n\"+\n     \"</div>\"}};\n\n  function display_loaded() {\n    var el = document.getElementById(\"1001\");\n    if (el != null) {\n      el.textContent = \"BokehJS is loading...\";\n    }\n    if (root.Bokeh !== undefined) {\n      if (el != null) {\n        el.textContent = \"BokehJS \" + root.Bokeh.version + \" successfully loaded.\";\n      }\n    } else if (Date.now() < root._bokeh_timeout) {\n      setTimeout(display_loaded, 100)\n    }\n  }\n\n\n  function run_callbacks() {\n    try {\n      root._bokeh_onload_callbacks.forEach(function(callback) {\n        if (callback != null)\n          callback();\n      });\n    } finally {\n      delete root._bokeh_onload_callbacks\n    }\n    console.debug(\"Bokeh: all callbacks have finished\");\n  }\n\n  function load_libs(css_urls, js_urls, callback) {\n    if (css_urls == null) css_urls = [];\n    if (js_urls == null) js_urls = [];\n\n    root._bokeh_onload_callbacks.push(callback);\n    if (root._bokeh_is_loading > 0) {\n      console.debug(\"Bokeh: BokehJS is being loaded, scheduling callback at\", now());\n      return null;\n    }\n    if (js_urls == null || js_urls.length === 0) {\n      run_callbacks();\n      return null;\n    }\n    console.debug(\"Bokeh: BokehJS not loaded, scheduling load and callback at\", now());\n    root._bokeh_is_loading = css_urls.length + js_urls.length;\n\n    function on_load() {\n      root._bokeh_is_loading--;\n      if (root._bokeh_is_loading === 0) {\n        console.debug(\"Bokeh: all BokehJS libraries/stylesheets loaded\");\n        run_callbacks()\n      }\n    }\n\n    function on_error() {\n      console.error(\"failed to load \" + url);\n    }\n\n    for (var i = 0; i < css_urls.length; i++) {\n      var url = css_urls[i];\n      const element = document.createElement(\"link\");\n      element.onload = on_load;\n      element.onerror = on_error;\n      element.rel = \"stylesheet\";\n      element.type = \"text/css\";\n      element.href = url;\n      console.debug(\"Bokeh: injecting link tag for BokehJS stylesheet: \", url);\n      document.body.appendChild(element);\n    }\n\n    for (var i = 0; i < js_urls.length; i++) {\n      var url = js_urls[i];\n      var element = document.createElement('script');\n      element.onload = on_load;\n      element.onerror = on_error;\n      element.async = false;\n      element.src = url;\n      \n      console.debug(\"Bokeh: injecting script tag for BokehJS library: \", url);\n      document.head.appendChild(element);\n    }\n  };var element = document.getElementById(\"1001\");\n  if (element == null) {\n    console.error(\"Bokeh: ERROR: autoload.js configured with elementid '1001' but no matching script tag was found. \")\n    return false;\n  }\n\n  function inject_raw_css(css) {\n    const element = document.createElement(\"style\");\n    element.appendChild(document.createTextNode(css));\n    document.body.appendChild(element);\n  }\n\n  \n  var js_urls = [\"https://cdn.bokeh.org/bokeh/release/bokeh-2.0.0.min.js\", \"https://cdn.bokeh.org/bokeh/release/bokeh-widgets-2.0.0.min.js\", \"https://cdn.bokeh.org/bokeh/release/bokeh-tables-2.0.0.min.js\", \"https://cdn.bokeh.org/bokeh/release/bokeh-gl-2.0.0.min.js\"];\n  var css_urls = [];\n  \n\n  var inline_js = [\n    function(Bokeh) {\n      Bokeh.set_log_level(\"info\");\n    },\n    function(Bokeh) {\n    \n    \n    }\n  ];\n\n  function run_inline_js() {\n    \n    if (root.Bokeh !== undefined || force === true) {\n      \n    for (var i = 0; i < inline_js.length; i++) {\n      inline_js[i].call(root, root.Bokeh);\n    }\n    if (force === true) {\n        display_loaded();\n      }} else if (Date.now() < root._bokeh_timeout) {\n      setTimeout(run_inline_js, 100);\n    } else if (!root._bokeh_failed_load) {\n      console.log(\"Bokeh: BokehJS failed to load within specified timeout.\");\n      root._bokeh_failed_load = true;\n    } else if (force !== true) {\n      var cell = $(document.getElementById(\"1001\")).parents('.cell').data().cell;\n      cell.output_area.append_execute_result(NB_LOAD_WARNING)\n    }\n\n  }\n\n  if (root._bokeh_is_loading === 0) {\n    console.debug(\"Bokeh: BokehJS loaded, going straight to plotting\");\n    run_inline_js();\n  } else {\n    load_libs(css_urls, js_urls, function() {\n      console.debug(\"Bokeh: BokehJS plotting callback run at\", now());\n      run_inline_js();\n    });\n  }\n}(window));"
     },
     "metadata": {},
     "output_type": "display_data"
    }
   ],
   "source": [
    "output_notebook()"
   ]
  },
  {
   "cell_type": "markdown",
   "metadata": {},
   "source": [
    "## DataFrame creation"
   ]
  },
  {
   "cell_type": "code",
   "execution_count": 3,
   "metadata": {},
   "outputs": [],
   "source": [
    "dataframe = pd.read_csv('../data/Police_Department_Incident_Reports__Historical_2003_to_May_2018.csv')"
   ]
  },
  {
   "cell_type": "code",
   "execution_count": 4,
   "metadata": {},
   "outputs": [],
   "source": [
    "start, end = datetime(2010, 1, 1), datetime(2018, 12, 31)\n",
    "dataframe['Date'] = dataframe['Date'].astype('datetime64[ns]')\n",
    "focuscrimes = set(['WEAPON LAWS', 'PROSTITUTION', 'DRIVING UNDER THE INFLUENCE', 'ROBBERY', 'BURGLARY', 'ASSAULT', 'DRUNKENNESS', 'DRUG/NARCOTIC', 'TRESPASS', 'LARCENY/THEFT', 'VANDALISM', 'VEHICLE THEFT', 'STOLEN PROPERTY', 'DISORDERLY CONDUCT'])\n",
    "\n",
    "dataframe = dataframe.loc[\n",
    "    (dataframe['Category'].isin(focuscrimes)) &\n",
    "    (dataframe['Date'] >= start) &\n",
    "    (dataframe['Date'] <= end)\n",
    "]"
   ]
  },
  {
   "cell_type": "code",
   "execution_count": 5,
   "metadata": {},
   "outputs": [],
   "source": [
    "dataframe['Hour'] = dataframe['Time'].apply(lambda x: int(x.split(':')[0]))"
   ]
  },
  {
   "cell_type": "markdown",
   "metadata": {},
   "source": [
    "## Data preprocessing"
   ]
  },
  {
   "cell_type": "markdown",
   "metadata": {},
   "source": [
    "In order to create a required dataframe, the aggregation should be used for calculating the number of crimes occurrences per hour. To do that, a group by method with count aggregate was used on _Hour, Category_ and any other column which was used for calulcuating the count, in this case _IncidntNum_."
   ]
  },
  {
   "cell_type": "code",
   "execution_count": 6,
   "metadata": {},
   "outputs": [],
   "source": [
    "crimes = dataframe[['Category', 'Hour', 'IncidntNum']]\n",
    "crimes = crimes.groupby(['Hour', 'Category']).count().reset_index()"
   ]
  },
  {
   "cell_type": "markdown",
   "metadata": {},
   "source": [
    "Afterward, the _Normalisation_ was calculated by dividing the number of occurrences of crimes per hour by the sum of the total sum of occurrences of a given crime. Then, the _IncidntNum_ column is not needed anymore."
   ]
  },
  {
   "cell_type": "code",
   "execution_count": 7,
   "metadata": {},
   "outputs": [],
   "source": [
    "crimes['Normalisation'] = crimes.reset_index().apply(\n",
    "    lambda x: x['IncidntNum'] / crimes.groupby('Category').sum().loc[x['Category'], 'IncidntNum'],\n",
    "    axis=1\n",
    ")\n",
    "crimes = crimes.drop(['IncidntNum'], axis=1)"
   ]
  },
  {
   "cell_type": "markdown",
   "metadata": {},
   "source": [
    "Each row of the dataframe should represent the hour of the day and columns showing the categories of crimes. To rearrange the frame, a _pivot_table_ method was used, where the _Hour_ column becomes an index and the columns stand for categories."
   ]
  },
  {
   "cell_type": "code",
   "execution_count": 8,
   "metadata": {},
   "outputs": [],
   "source": [
    "crimes_pivot = pd.pivot_table(crimes, index='Hour', columns='Category')"
   ]
  },
  {
   "cell_type": "markdown",
   "metadata": {},
   "source": [
    "After pivoting the table, the MultiIndex was created. It would be easier for later analysis to transform the frame to its simple form. To do that, _droplevel_ method was used to get rid of _Distribution_ index. And then, to remove the _Category_ level, the columns were reassigned. Moreover, for the sake of categorical variables, the hours were cast to the string type."
   ]
  },
  {
   "cell_type": "code",
   "execution_count": 9,
   "metadata": {},
   "outputs": [],
   "source": [
    "crimes_pivot.columns = crimes_pivot.columns.droplevel(0)\n",
    "crimes_pivot.columns = ['ASSAULT', 'BURGLARY', 'DISORDERLY CONDUCT',\n",
    "       'DRIVING UNDER THE INFLUENCE', 'DRUG/NARCOTIC', 'DRUNKENNESS',\n",
    "       'LARCENY/THEFT', 'PROSTITUTION', 'ROBBERY', 'STOLEN PROPERTY',\n",
    "       'TRESPASS', 'VANDALISM', 'VEHICLE THEFT', 'WEAPON LAWS']\n",
    "\n",
    "crimes_pivot.index = crimes_pivot.index.map(str)"
   ]
  },
  {
   "cell_type": "markdown",
   "metadata": {},
   "source": [
    "## Data visualisation"
   ]
  },
  {
   "cell_type": "markdown",
   "metadata": {},
   "source": [
    "To create a bar chart using _bokeh_ and _pandas_ libraries, the _ColumnDatatSource_ class was used with the preprocessed frame. Then, the _figure_ object was created, containing the hours in a form of categorical variables. The bokeh toolbar was turned off and the labelling of axes and title was generated."
   ]
  },
  {
   "cell_type": "code",
   "execution_count": 10,
   "metadata": {},
   "outputs": [],
   "source": [
    "source = ColumnDataSource(crimes_pivot)\n",
    "p = figure(\n",
    "    x_range=FactorRange(factors=crimes_pivot.index),\n",
    "    plot_width=1500, toolbar_location=None,\n",
    "    title='Crimes per hour', x_axis_label='Hour of the day', y_axis_label='Relative frequency')"
   ]
  },
  {
   "cell_type": "markdown",
   "metadata": {},
   "source": [
    "Lastly, categories are plotted iteratively in one figure, in order to layer the bars. For each focuscrime, a value per hour is taken. Additional parameters were provided:\n",
    "* _width_ — the width of the bar,\n",
    "* _color_ — colouring lines, bars and muted bars at the same time,\n",
    "* _fill_alpha_ — opacity of the bar filling,\n",
    "* _muted_ — mute (turn off visibility) of all features,\n",
    "* _muted_alpha_ — opacity of muted bars.\n",
    "\n",
    "Moreover, during the itetrations, additional object (_bar, items_) were used to create a better legend than the default one. The legend was created manually by passing _items_ object containing categories names and corresponding _vbar_ objects. The legend position was established and clicking policy to muting was established. "
   ]
  },
  {
   "cell_type": "code",
   "execution_count": 11,
   "metadata": {},
   "outputs": [
    {
     "data": {
      "text/html": [
       "\n",
       "\n",
       "\n",
       "\n",
       "\n",
       "\n",
       "  <div class=\"bk-root\" id=\"1db4513c-4c9c-4a89-bbd1-cd803789748c\" data-root-id=\"1004\"></div>\n"
      ]
     },
     "metadata": {},
     "output_type": "display_data"
    },
    {
     "data": {
      "application/javascript": [
       "(function(root) {\n",
       "  function embed_document(root) {\n",
       "    \n",
       "  var docs_json = {\"e6a45b69-8cc0-43d6-b2f2-9662169ea7d6\":{\"roots\":{\"references\":[{\"attributes\":{\"below\":[{\"id\":\"1014\"}],\"center\":[{\"id\":\"1016\"},{\"id\":\"1020\"}],\"left\":[{\"id\":\"1017\"},{\"id\":\"1118\"}],\"plot_width\":1500,\"renderers\":[{\"id\":\"1038\"},{\"id\":\"1044\"},{\"id\":\"1050\"},{\"id\":\"1056\"},{\"id\":\"1062\"},{\"id\":\"1068\"},{\"id\":\"1074\"},{\"id\":\"1080\"},{\"id\":\"1086\"},{\"id\":\"1092\"},{\"id\":\"1098\"},{\"id\":\"1104\"},{\"id\":\"1110\"},{\"id\":\"1116\"}],\"title\":{\"id\":\"1005\"},\"toolbar\":{\"id\":\"1027\"},\"toolbar_location\":null,\"x_range\":{\"id\":\"1003\"},\"x_scale\":{\"id\":\"1010\"},\"y_range\":{\"id\":\"1008\"},\"y_scale\":{\"id\":\"1012\"}},\"id\":\"1004\",\"subtype\":\"Figure\",\"type\":\"Plot\"},{\"attributes\":{\"fill_alpha\":{\"value\":0.1},\"fill_color\":{\"value\":\"#c69432\"},\"line_alpha\":{\"value\":0.1},\"line_color\":{\"value\":\"#c69432\"},\"top\":{\"field\":\"LARCENY/THEFT\"},\"width\":{\"value\":0.6},\"x\":{\"field\":\"Hour\"}},\"id\":\"1048\",\"type\":\"VBar\"},{\"attributes\":{\"fill_alpha\":{\"value\":0.5},\"fill_color\":{\"value\":\"#f669ba\"},\"line_color\":{\"value\":\"#f669ba\"},\"top\":{\"field\":\"ROBBERY\"},\"width\":{\"value\":0.6},\"x\":{\"field\":\"Hour\"}},\"id\":\"1113\",\"type\":\"VBar\"},{\"attributes\":{},\"id\":\"1022\",\"type\":\"WheelZoomTool\"},{\"attributes\":{\"fill_alpha\":{\"value\":0.1},\"fill_color\":{\"value\":\"#37aabb\"},\"line_alpha\":{\"value\":0.1},\"line_color\":{\"value\":\"#37aabb\"},\"top\":{\"field\":\"VEHICLE THEFT\"},\"width\":{\"value\":0.6},\"x\":{\"field\":\"Hour\"}},\"id\":\"1084\",\"type\":\"VBar\"},{\"attributes\":{\"fill_alpha\":{\"value\":0.5},\"fill_color\":{\"value\":\"#82a931\"},\"line_color\":{\"value\":\"#82a931\"},\"top\":{\"field\":\"WEAPON LAWS\"},\"width\":{\"value\":0.6},\"x\":{\"field\":\"Hour\"}},\"id\":\"1059\",\"type\":\"VBar\"},{\"attributes\":{\"label\":{\"value\":\"DRIVING UNDER THE INFLUENCE\"},\"renderers\":[{\"id\":\"1044\"}]},\"id\":\"1120\",\"type\":\"LegendItem\"},{\"attributes\":{\"fill_alpha\":{\"value\":0.1},\"fill_color\":{\"value\":\"#8197f4\"},\"line_alpha\":{\"value\":0.1},\"line_color\":{\"value\":\"#8197f4\"},\"top\":{\"field\":\"DRUNKENNESS\"},\"width\":{\"value\":0.6},\"x\":{\"field\":\"Hour\"}},\"id\":\"1096\",\"type\":\"VBar\"},{\"attributes\":{\"source\":{\"id\":\"1002\"}},\"id\":\"1087\",\"type\":\"CDSView\"},{\"attributes\":{\"label\":{\"value\":\"VANDALISM\"},\"renderers\":[{\"id\":\"1110\"}]},\"id\":\"1131\",\"type\":\"LegendItem\"},{\"attributes\":{\"fill_alpha\":{\"value\":0.05},\"fill_color\":{\"value\":\"#8197f4\"},\"line_alpha\":{\"value\":0.05},\"line_color\":{\"value\":\"#8197f4\"},\"top\":{\"field\":\"DRUNKENNESS\"},\"width\":{\"value\":0.6},\"x\":{\"field\":\"Hour\"}},\"id\":\"1097\",\"type\":\"VBar\"},{\"attributes\":{\"label\":{\"value\":\"DISORDERLY CONDUCT\"},\"renderers\":[{\"id\":\"1104\"}]},\"id\":\"1130\",\"type\":\"LegendItem\"},{\"attributes\":{\"source\":{\"id\":\"1002\"}},\"id\":\"1045\",\"type\":\"CDSView\"},{\"attributes\":{\"label\":{\"value\":\"TRESPASS\"},\"renderers\":[{\"id\":\"1068\"}]},\"id\":\"1124\",\"type\":\"LegendItem\"},{\"attributes\":{},\"id\":\"1024\",\"type\":\"SaveTool\"},{\"attributes\":{\"source\":{\"id\":\"1002\"}},\"id\":\"1081\",\"type\":\"CDSView\"},{\"attributes\":{\"data_source\":{\"id\":\"1002\"},\"glyph\":{\"id\":\"1113\"},\"hover_glyph\":null,\"muted\":true,\"muted_glyph\":{\"id\":\"1115\"},\"nonselection_glyph\":{\"id\":\"1114\"},\"selection_glyph\":null,\"view\":{\"id\":\"1117\"}},\"id\":\"1116\",\"type\":\"GlyphRenderer\"},{\"attributes\":{},\"id\":\"1139\",\"type\":\"Selection\"},{\"attributes\":{\"fill_alpha\":{\"value\":0.1},\"fill_color\":{\"value\":\"#34af8a\"},\"line_alpha\":{\"value\":0.1},\"line_color\":{\"value\":\"#34af8a\"},\"top\":{\"field\":\"PROSTITUTION\"},\"width\":{\"value\":0.6},\"x\":{\"field\":\"Hour\"}},\"id\":\"1072\",\"type\":\"VBar\"},{\"attributes\":{\"fill_alpha\":{\"value\":0.05},\"fill_color\":{\"value\":\"#37aabb\"},\"line_alpha\":{\"value\":0.05},\"line_color\":{\"value\":\"#37aabb\"},\"top\":{\"field\":\"VEHICLE THEFT\"},\"width\":{\"value\":0.6},\"x\":{\"field\":\"Hour\"}},\"id\":\"1085\",\"type\":\"VBar\"},{\"attributes\":{\"label\":{\"value\":\"LARCENY/THEFT\"},\"renderers\":[{\"id\":\"1050\"}]},\"id\":\"1121\",\"type\":\"LegendItem\"},{\"attributes\":{\"label\":{\"value\":\"DRUNKENNESS\"},\"renderers\":[{\"id\":\"1098\"}]},\"id\":\"1129\",\"type\":\"LegendItem\"},{\"attributes\":{\"fill_alpha\":{\"value\":0.5},\"fill_color\":{\"value\":\"#c69432\"},\"line_color\":{\"value\":\"#c69432\"},\"top\":{\"field\":\"LARCENY/THEFT\"},\"width\":{\"value\":0.6},\"x\":{\"field\":\"Hour\"}},\"id\":\"1047\",\"type\":\"VBar\"},{\"attributes\":{\"data_source\":{\"id\":\"1002\"},\"glyph\":{\"id\":\"1035\"},\"hover_glyph\":null,\"muted\":true,\"muted_glyph\":{\"id\":\"1037\"},\"nonselection_glyph\":{\"id\":\"1036\"},\"selection_glyph\":null,\"view\":{\"id\":\"1039\"}},\"id\":\"1038\",\"type\":\"GlyphRenderer\"},{\"attributes\":{\"source\":{\"id\":\"1002\"}},\"id\":\"1093\",\"type\":\"CDSView\"},{\"attributes\":{\"label\":{\"value\":\"VEHICLE THEFT\"},\"renderers\":[{\"id\":\"1086\"}]},\"id\":\"1127\",\"type\":\"LegendItem\"},{\"attributes\":{},\"id\":\"1021\",\"type\":\"PanTool\"},{\"attributes\":{\"fill_alpha\":{\"value\":0.5},\"fill_color\":{\"value\":\"#37aabb\"},\"line_color\":{\"value\":\"#37aabb\"},\"top\":{\"field\":\"VEHICLE THEFT\"},\"width\":{\"value\":0.6},\"x\":{\"field\":\"Hour\"}},\"id\":\"1083\",\"type\":\"VBar\"},{\"attributes\":{\"source\":{\"id\":\"1002\"}},\"id\":\"1051\",\"type\":\"CDSView\"},{\"attributes\":{},\"id\":\"1025\",\"type\":\"ResetTool\"},{\"attributes\":{\"data_source\":{\"id\":\"1002\"},\"glyph\":{\"id\":\"1041\"},\"hover_glyph\":null,\"muted\":true,\"muted_glyph\":{\"id\":\"1043\"},\"nonselection_glyph\":{\"id\":\"1042\"},\"selection_glyph\":null,\"view\":{\"id\":\"1045\"}},\"id\":\"1044\",\"type\":\"GlyphRenderer\"},{\"attributes\":{\"fill_alpha\":{\"value\":0.05},\"fill_color\":{\"value\":\"#c69432\"},\"line_alpha\":{\"value\":0.05},\"line_color\":{\"value\":\"#c69432\"},\"top\":{\"field\":\"LARCENY/THEFT\"},\"width\":{\"value\":0.6},\"x\":{\"field\":\"Hour\"}},\"id\":\"1049\",\"type\":\"VBar\"},{\"attributes\":{\"label\":{\"value\":\"BURGLARY\"},\"renderers\":[{\"id\":\"1080\"}]},\"id\":\"1126\",\"type\":\"LegendItem\"},{\"attributes\":{\"axis_label\":\"Hour of the day\",\"formatter\":{\"id\":\"1134\"},\"ticker\":{\"id\":\"1015\"}},\"id\":\"1014\",\"type\":\"CategoricalAxis\"},{\"attributes\":{\"label\":{\"value\":\"STOLEN PROPERTY\"},\"renderers\":[{\"id\":\"1056\"}]},\"id\":\"1122\",\"type\":\"LegendItem\"},{\"attributes\":{\"label\":{\"value\":\"DRUG/NARCOTIC\"},\"renderers\":[{\"id\":\"1092\"}]},\"id\":\"1128\",\"type\":\"LegendItem\"},{\"attributes\":{\"label\":{\"value\":\"ROBBERY\"},\"renderers\":[{\"id\":\"1116\"}]},\"id\":\"1132\",\"type\":\"LegendItem\"},{\"attributes\":{\"fill_alpha\":{\"value\":0.5},\"fill_color\":{\"value\":\"#3aa6da\"},\"line_color\":{\"value\":\"#3aa6da\"},\"top\":{\"field\":\"DRUG/NARCOTIC\"},\"width\":{\"value\":0.6},\"x\":{\"field\":\"Hour\"}},\"id\":\"1089\",\"type\":\"VBar\"},{\"attributes\":{\"label\":{\"value\":\"ASSAULT\"},\"renderers\":[{\"id\":\"1038\"}]},\"id\":\"1119\",\"type\":\"LegendItem\"},{\"attributes\":{\"data_source\":{\"id\":\"1002\"},\"glyph\":{\"id\":\"1083\"},\"hover_glyph\":null,\"muted\":true,\"muted_glyph\":{\"id\":\"1085\"},\"nonselection_glyph\":{\"id\":\"1084\"},\"selection_glyph\":null,\"view\":{\"id\":\"1087\"}},\"id\":\"1086\",\"type\":\"GlyphRenderer\"},{\"attributes\":{\"fill_alpha\":{\"value\":0.05},\"fill_color\":{\"value\":\"#f669ba\"},\"line_alpha\":{\"value\":0.05},\"line_color\":{\"value\":\"#f669ba\"},\"top\":{\"field\":\"ROBBERY\"},\"width\":{\"value\":0.6},\"x\":{\"field\":\"Hour\"}},\"id\":\"1115\",\"type\":\"VBar\"},{\"attributes\":{},\"id\":\"1015\",\"type\":\"CategoricalTicker\"},{\"attributes\":{\"label\":{\"value\":\"WEAPON LAWS\"},\"renderers\":[{\"id\":\"1062\"}]},\"id\":\"1123\",\"type\":\"LegendItem\"},{\"attributes\":{\"fill_alpha\":{\"value\":0.1},\"fill_color\":{\"value\":\"#f77189\"},\"line_alpha\":{\"value\":0.1},\"line_color\":{\"value\":\"#f77189\"},\"top\":{\"field\":\"ASSAULT\"},\"width\":{\"value\":0.6},\"x\":{\"field\":\"Hour\"}},\"id\":\"1036\",\"type\":\"VBar\"},{\"attributes\":{\"overlay\":{\"id\":\"1138\"}},\"id\":\"1023\",\"type\":\"BoxZoomTool\"},{\"attributes\":{\"label\":{\"value\":\"PROSTITUTION\"},\"renderers\":[{\"id\":\"1074\"}]},\"id\":\"1125\",\"type\":\"LegendItem\"},{\"attributes\":{\"data_source\":{\"id\":\"1002\"},\"glyph\":{\"id\":\"1047\"},\"hover_glyph\":null,\"muted\":true,\"muted_glyph\":{\"id\":\"1049\"},\"nonselection_glyph\":{\"id\":\"1048\"},\"selection_glyph\":null,\"view\":{\"id\":\"1051\"}},\"id\":\"1050\",\"type\":\"GlyphRenderer\"},{\"attributes\":{\"source\":{\"id\":\"1002\"}},\"id\":\"1039\",\"type\":\"CDSView\"},{\"attributes\":{\"fill_alpha\":{\"value\":0.1},\"fill_color\":{\"value\":\"#f669ba\"},\"line_alpha\":{\"value\":0.1},\"line_color\":{\"value\":\"#f669ba\"},\"top\":{\"field\":\"ROBBERY\"},\"width\":{\"value\":0.6},\"x\":{\"field\":\"Hour\"}},\"id\":\"1114\",\"type\":\"VBar\"},{\"attributes\":{\"fill_alpha\":{\"value\":0.1},\"fill_color\":{\"value\":\"#82a931\"},\"line_alpha\":{\"value\":0.1},\"line_color\":{\"value\":\"#82a931\"},\"top\":{\"field\":\"WEAPON LAWS\"},\"width\":{\"value\":0.6},\"x\":{\"field\":\"Hour\"}},\"id\":\"1060\",\"type\":\"VBar\"},{\"attributes\":{},\"id\":\"1012\",\"type\":\"LinearScale\"},{\"attributes\":{\"fill_alpha\":{\"value\":0.05},\"fill_color\":{\"value\":\"#ef7d32\"},\"line_alpha\":{\"value\":0.05},\"line_color\":{\"value\":\"#ef7d32\"},\"top\":{\"field\":\"DRIVING UNDER THE INFLUENCE\"},\"width\":{\"value\":0.6},\"x\":{\"field\":\"Hour\"}},\"id\":\"1043\",\"type\":\"VBar\"},{\"attributes\":{\"data_source\":{\"id\":\"1002\"},\"glyph\":{\"id\":\"1077\"},\"hover_glyph\":null,\"muted\":true,\"muted_glyph\":{\"id\":\"1079\"},\"nonselection_glyph\":{\"id\":\"1078\"},\"selection_glyph\":null,\"view\":{\"id\":\"1081\"}},\"id\":\"1080\",\"type\":\"GlyphRenderer\"},{\"attributes\":{\"fill_alpha\":{\"value\":0.5},\"fill_color\":{\"value\":\"#f45deb\"},\"line_color\":{\"value\":\"#f45deb\"},\"top\":{\"field\":\"VANDALISM\"},\"width\":{\"value\":0.6},\"x\":{\"field\":\"Hour\"}},\"id\":\"1107\",\"type\":\"VBar\"},{\"attributes\":{\"data\":{\"ASSAULT\":{\"__ndarray__\":\"jYaryamurD+jd4iLXF+oP19yLfAYHKY/Rx4oz+i6lz9+dsYDKXmNPzj8Sc5yaIk//uwZwMERkD8DKIwYL0CXP6Bvx41jM6E/2yFD6W2Coj97X0YhpoSkP9xycg32FaY/UdQvbp9fqz8MjWSTXVGnP2HnToqL6ac/2EtGQaCHqj9PgMbzq3eqP+w2r1Z8j6s/WhhQyU6Lqj8AE1mHzs6qP93kWVH9jqo/UKF+Eytdqz+Y7r2aQxSqP1sJkeTEwqg/\",\"dtype\":\"float64\",\"shape\":[24]},\"BURGLARY\":{\"__ndarray__\":\"EmOLMzirpD8WAYsRQZScP84s0+MqKaA/1oRf7MwNoT9ZrZhsS3OeP+vSd9sZwJo/SRVxdlLWlz+rhX6u/lGgP6YQR/7mp6g/lWAu7aLepj8vDcxcbCilP1ixNJ6QWaQ/qWu/+pAyqj+xx+c0eP2gPwf126htjaM/5dcxaERZpj/A05adSwSqPxzTCFclvLA/daKY2mgbsT+dcZfioH6rP2jV1CGvjKg/bLzFq36tpz+TSgtreqWmP1zdeqLhy6Q/\",\"dtype\":\"float64\",\"shape\":[24]},\"DISORDERLY CONDUCT\":{\"__ndarray__\":\"/ibGFN+Gqj/j21Cj4X6jP7Vrz5eFnqA/0wt7n22Jkj/rAbp6gK6OPztnHSSvXK4/4xnPeMYzvj8sLciDmdW5P8B872htH7M/eNN1+jsPqz9R4V9U+BelP2gvob2E9qI/Or8fsigWoD9R4V9U+BelP/aoWq/GnZ0/IEipeW4xoD9tLNXF9R+cP67BYmuw2Jo/tWvPl4WeoD/uVvAQa5GZP9td5T3JlZY/cIELXOAClz8+6FSBVhyiP7mUBGezpKI/\",\"dtype\":\"float64\",\"shape\":[24]},\"DRIVING UNDER THE INFLUENCE\":{\"__ndarray__\":\"EwAv1OHtvj9i8C1CR5S8P1GhsMYzZbk/g7PAsupoqD8VCms8U5aRP6CRrzSZC4c/QzK5hdwTij8VCms8U5aBP6GWzejRX4A/cV8lg57liz+4qnSNlp50P4l9CJDUzII/cmRDN9c5hT8UBU2IGkKIP3FfJYOe5Ys//fCl41UDlD+rFuXSwtafP2EVxrvDCqI/QzfXORVooz/DNMjf+L2mPw47Basw3q0/W1CckhL7sD+RIrjzQbq3P+XSwtYfHL0/\",\"dtype\":\"float64\",\"shape\":[24]},\"DRUG/NARCOTIC\":{\"__ndarray__\":\"GQcSbHO9oT8BokHQ0gKVPyttDgJt65A/aHB+f2YEiT+iOtNd7pSCPznVvN+7DXU/N2/OQ6wIhj+qcLZnDqiZP9cG2oPLGaE/R25W8Jmwoz9hOyHDQnKkP4YJJoou0Kc/iqQXj75Zqz+dDCDAsImvP6k/yzR/J68//NNY/br2sT96bi2IKTK0P9pu1LrTILU/hDpkE+xJsj9yDFAllhyvP8ai6YjK7aY/q9SYaCWroz9sPFu3hQ6nP/fUhPcTaqQ/\",\"dtype\":\"float64\",\"shape\":[24]},\"DRUNKENNESS\":{\"__ndarray__\":\"9Umf9EmftD8kPMIjPMKzP+Ie7uEe7rE/27Zt27Ztmz+dzdmczdmMPxRFURRFUXQ/EyuxEiuxgj8URVEURVGUP9IardEarZE/Fl/xFV/xlT8XbMEWbMGWP1AHdVAHdaA/3t3d3d3dnT9e5EVe5EWeP3EP93AP96A/9Umf9EmfpD8XbMEWbMGmPxiGYRiGYag/vLu7u7u7qz8aoAEaoAGqP7/v+77v+64/oAEaoAEasD9DN3RDN3SzP3M2Z3M2Z7M/\",\"dtype\":\"float64\",\"shape\":[24]},\"Hour\":[\"0\",\"1\",\"2\",\"3\",\"4\",\"5\",\"6\",\"7\",\"8\",\"9\",\"10\",\"11\",\"12\",\"13\",\"14\",\"15\",\"16\",\"17\",\"18\",\"19\",\"20\",\"21\",\"22\",\"23\"],\"LARCENY/THEFT\":{\"__ndarray__\":\"htlwuw4gpD8y1F2UJceZPzTJ68kph48/IYs+mJlQhD/bp3ikqsV6P/1bHX+iEns/At1a5JVzhD8f5neiv7iOP4aW+TaRh5o/swUw7XRaoD+3mIS41BWlP08UhpCcv6c/kyBB+yPKrD/un5EnguepP/SUNWQ+oqo/Ht59xgx3rD8EWbuXEQ+uPy26NktOMLE/JHhd9UZMtT/QG4MutS60P5/0dKBWxLE//F1WNGHkrD92WUaBNfaqP4Lu/w/EeKc/\",\"dtype\":\"float64\",\"shape\":[24]},\"PROSTITUTION\":{\"__ndarray__\":\"0BOyZdbWwD91g1rIj7K4PyIxfN1vha8/MGoMSgKUoj/Az/cVW22UP/SZYWGEx4Q/uenVI77ngD8oZMusrSF1Pyhky6ytIXU/x7UZCPjyZz9fIUZxpT53P2IUV+pzAYk/l/7f4FRIoz9p+njcEIeMP8e1GQj48pc/eQb7Frprlz/gms6tDCCYP/5ylMzvD5o/9JlhYYTHpD/LyEksfqKzP2w6tzKAYLA/vq/YaqOAqj/6f4NTIU24P2/1j5Z8nsA/\",\"dtype\":\"float64\",\"shape\":[24]},\"ROBBERY\":{\"__ndarray__\":\"UVhb5+n2qz8bfmje10CuPxt+aN7XQK4/CtmZ05K9oj/+Fj42tIqXP0SYxGgCe5M/C+qIrWEjkj/grxOOkNSQPx9lZYks/5M/OQk2WZB5lj+UhDbYLeqaP1x3dkGvAp8/eFDZvXZloj8YPHGVk2CjP4WR0svZPKQ/OholM1/fpT/1uny0rrqoP+6AmeZGtqg/m74ZppXuqj/OQ2FtnaerP7x674/Doa4/BMGUuciEsT/9l6DFL+awP64qzMaIG7A/\",\"dtype\":\"float64\",\"shape\":[24]},\"STOLEN PROPERTY\":{\"__ndarray__\":\"YWMx4BU2pj+jD1F4KfqgP47aoUzmqJ0/yHfhIHp8lz/zP6HbMf+TP0QKgftEpJA/2xIBkLItkT9BjSEUDNSYPzvHgb6vc5w/mwBxtKkJoD+NK/GazbiiP2FjMeAVNqY/8qURHydfqj9OyBFx3YSsP0PWYYIvZK0/tNzBsUHLrT8Q/8ED+PCvP7sJOSKum7A/ARUh9Q1QsT/wwkH0+C6sP/2XwQ3Vf6k/qoShf55KqD/teQGG1Z6nPz9E4aXoQ6Q/\",\"dtype\":\"float64\",\"shape\":[24]},\"TRESPASS\":{\"__ndarray__\":\"o1FOfogKnT96itiPle2UPwlPaW1HF5o/IMsR1GWqlT993vntGWmQP0Ex7Q+Pi6M/pYT3z4vasj92asc8caWyP3gU2GszY7A/o1FOfogKrT+1rkxL37ipP++xSPqn2Kg/AzC/038yqz9Xeuwkqk6pPwyjisvLkqU/9dDyk2+9pz9p1+rxAP2lP7Ljww+cT6Y/zSr1sf1LpT+6rH7YJfKiP8DLKHLt1qE/OEe6OoQ9oT9Ec90okeKeP7JaK+1aPZ4/\",\"dtype\":\"float64\",\"shape\":[24]},\"VANDALISM\":{\"__ndarray__\":\"OCpqWU3Eqz94+ne7MnKjP53ZGoAhGKI/0IcBnWlKmj8hQce3Lw6SP2/yvXmGtY0/BqijATtTkT/s4lgpegyWPzShpQ/uIqA/B2870hS4nj8kA/QwtUqgP84vwRL+x54/Mf5eq9pipD9vdiyDVI6gPypbJgH0N6I/f52wZRmdpT8rL//eJ6ynP7bCtsSoA68/vLTngFCqsj+LWlYT8YaxP9twzmwNwLA/CFRAmCWvsD9O78LrOqCwP1ABYZa8Qq4/\",\"dtype\":\"float64\",\"shape\":[24]},\"VEHICLE THEFT\":{\"__ndarray__\":\"TCtNeI1voj/2U1M6NMeYP9OAe5gzrpI/EaKNp6iiiD9TO0uf1a2EP48QNI+CjoQ/aeDkIfJnjz8kr9TrNDWXP0vYgnCb6qA/jebfdQz1oD+A8DdB8hGgPzfXT03p0Jw/8vgJHx4jpj+2kR9Ui9CeP5Un0570PaI/vhFKUGcGpj/BjmhxzySrPzIOCA25nrE/6zvW/8dptT8o7+npItCyP7QOdyK2dbQ/HX0Bv5p8sj/YStqwIBW0PzwtJjBPbbA/\",\"dtype\":\"float64\",\"shape\":[24]},\"WEAPON LAWS\":{\"__ndarray__\":\"ePLT8urwqj9srsFdTGGjP22WvN28tqA/ctBKqBsplz+oGykXeoSPPyCSqPR8PIA/3cxkuzvDhj+Nww7tW7qVP6rrHhdbL5o/ppmLzGwSoT9tlrzdvLagP46rCW3MD6M/ZtmJeMsnqD9H4YNO6wepP77UXpFbo6c/yPspwcr5qz/1Hz0Auv6vP3MdnA1qt68/eBmAzVQNsT+HFYPiRJ2wP67wYPz6vao/rvBg/Pq9qj/tFbk1euGuP67wYPz6vao/\",\"dtype\":\"float64\",\"shape\":[24]}},\"selected\":{\"id\":\"1139\"},\"selection_policy\":{\"id\":\"1140\"}},\"id\":\"1002\",\"type\":\"ColumnDataSource\"},{\"attributes\":{\"fill_alpha\":{\"value\":0.05},\"fill_color\":{\"value\":\"#36ada4\"},\"line_alpha\":{\"value\":0.05},\"line_color\":{\"value\":\"#36ada4\"},\"top\":{\"field\":\"BURGLARY\"},\"width\":{\"value\":0.6},\"x\":{\"field\":\"Hour\"}},\"id\":\"1079\",\"type\":\"VBar\"},{\"attributes\":{\"fill_alpha\":{\"value\":0.05},\"fill_color\":{\"value\":\"#f77189\"},\"line_alpha\":{\"value\":0.05},\"line_color\":{\"value\":\"#f77189\"},\"top\":{\"field\":\"ASSAULT\"},\"width\":{\"value\":0.6},\"x\":{\"field\":\"Hour\"}},\"id\":\"1037\",\"type\":\"VBar\"},{\"attributes\":{\"fill_alpha\":{\"value\":0.1},\"fill_color\":{\"value\":\"#36ada4\"},\"line_alpha\":{\"value\":0.1},\"line_color\":{\"value\":\"#36ada4\"},\"top\":{\"field\":\"BURGLARY\"},\"width\":{\"value\":0.6},\"x\":{\"field\":\"Hour\"}},\"id\":\"1078\",\"type\":\"VBar\"},{\"attributes\":{\"fill_alpha\":{\"value\":0.5},\"fill_color\":{\"value\":\"#8197f4\"},\"line_color\":{\"value\":\"#8197f4\"},\"top\":{\"field\":\"DRUNKENNESS\"},\"width\":{\"value\":0.6},\"x\":{\"field\":\"Hour\"}},\"id\":\"1095\",\"type\":\"VBar\"},{\"attributes\":{\"fill_alpha\":{\"value\":0.5},\"fill_color\":{\"value\":\"#34af8a\"},\"line_color\":{\"value\":\"#34af8a\"},\"top\":{\"field\":\"PROSTITUTION\"},\"width\":{\"value\":0.6},\"x\":{\"field\":\"Hour\"}},\"id\":\"1071\",\"type\":\"VBar\"},{\"attributes\":{\"data_source\":{\"id\":\"1002\"},\"glyph\":{\"id\":\"1053\"},\"hover_glyph\":null,\"muted\":true,\"muted_glyph\":{\"id\":\"1055\"},\"nonselection_glyph\":{\"id\":\"1054\"},\"selection_glyph\":null,\"view\":{\"id\":\"1057\"}},\"id\":\"1056\",\"type\":\"GlyphRenderer\"},{\"attributes\":{\"source\":{\"id\":\"1002\"}},\"id\":\"1063\",\"type\":\"CDSView\"},{\"attributes\":{\"fill_alpha\":{\"value\":0.1},\"fill_color\":{\"value\":\"#f45deb\"},\"line_alpha\":{\"value\":0.1},\"line_color\":{\"value\":\"#f45deb\"},\"top\":{\"field\":\"VANDALISM\"},\"width\":{\"value\":0.6},\"x\":{\"field\":\"Hour\"}},\"id\":\"1108\",\"type\":\"VBar\"},{\"attributes\":{\"source\":{\"id\":\"1002\"}},\"id\":\"1117\",\"type\":\"CDSView\"},{\"attributes\":{\"active_drag\":\"auto\",\"active_inspect\":\"auto\",\"active_multi\":null,\"active_scroll\":\"auto\",\"active_tap\":\"auto\",\"tools\":[{\"id\":\"1021\"},{\"id\":\"1022\"},{\"id\":\"1023\"},{\"id\":\"1024\"},{\"id\":\"1025\"},{\"id\":\"1026\"}]},\"id\":\"1027\",\"type\":\"Toolbar\"},{\"attributes\":{\"data_source\":{\"id\":\"1002\"},\"glyph\":{\"id\":\"1089\"},\"hover_glyph\":null,\"muted\":true,\"muted_glyph\":{\"id\":\"1091\"},\"nonselection_glyph\":{\"id\":\"1090\"},\"selection_glyph\":null,\"view\":{\"id\":\"1093\"}},\"id\":\"1092\",\"type\":\"GlyphRenderer\"},{\"attributes\":{\"source\":{\"id\":\"1002\"}},\"id\":\"1099\",\"type\":\"CDSView\"},{\"attributes\":{\"click_policy\":\"mute\",\"items\":[{\"id\":\"1119\"},{\"id\":\"1120\"},{\"id\":\"1121\"},{\"id\":\"1122\"},{\"id\":\"1123\"},{\"id\":\"1124\"},{\"id\":\"1125\"},{\"id\":\"1126\"},{\"id\":\"1127\"},{\"id\":\"1128\"},{\"id\":\"1129\"},{\"id\":\"1130\"},{\"id\":\"1131\"},{\"id\":\"1132\"}]},\"id\":\"1118\",\"type\":\"Legend\"},{\"attributes\":{\"fill_alpha\":{\"value\":0.05},\"fill_color\":{\"value\":\"#32b24e\"},\"line_alpha\":{\"value\":0.05},\"line_color\":{\"value\":\"#32b24e\"},\"top\":{\"field\":\"TRESPASS\"},\"width\":{\"value\":0.6},\"x\":{\"field\":\"Hour\"}},\"id\":\"1067\",\"type\":\"VBar\"},{\"attributes\":{\"fill_alpha\":{\"value\":0.5},\"fill_color\":{\"value\":\"#36ada4\"},\"line_color\":{\"value\":\"#36ada4\"},\"top\":{\"field\":\"BURGLARY\"},\"width\":{\"value\":0.6},\"x\":{\"field\":\"Hour\"}},\"id\":\"1077\",\"type\":\"VBar\"},{\"attributes\":{},\"id\":\"1026\",\"type\":\"HelpTool\"},{\"attributes\":{\"fill_alpha\":{\"value\":0.5},\"fill_color\":{\"value\":\"#c180f4\"},\"line_color\":{\"value\":\"#c180f4\"},\"top\":{\"field\":\"DISORDERLY CONDUCT\"},\"width\":{\"value\":0.6},\"x\":{\"field\":\"Hour\"}},\"id\":\"1101\",\"type\":\"VBar\"},{\"attributes\":{\"data_source\":{\"id\":\"1002\"},\"glyph\":{\"id\":\"1071\"},\"hover_glyph\":null,\"muted\":true,\"muted_glyph\":{\"id\":\"1073\"},\"nonselection_glyph\":{\"id\":\"1072\"},\"selection_glyph\":null,\"view\":{\"id\":\"1075\"}},\"id\":\"1074\",\"type\":\"GlyphRenderer\"},{\"attributes\":{\"axis_label\":\"Relative frequency\",\"formatter\":{\"id\":\"1136\"},\"ticker\":{\"id\":\"1018\"}},\"id\":\"1017\",\"type\":\"LinearAxis\"},{\"attributes\":{\"data_source\":{\"id\":\"1002\"},\"glyph\":{\"id\":\"1101\"},\"hover_glyph\":null,\"muted\":true,\"muted_glyph\":{\"id\":\"1103\"},\"nonselection_glyph\":{\"id\":\"1102\"},\"selection_glyph\":null,\"view\":{\"id\":\"1105\"}},\"id\":\"1104\",\"type\":\"GlyphRenderer\"},{\"attributes\":{\"fill_alpha\":{\"value\":0.1},\"fill_color\":{\"value\":\"#a79f31\"},\"line_alpha\":{\"value\":0.1},\"line_color\":{\"value\":\"#a79f31\"},\"top\":{\"field\":\"STOLEN PROPERTY\"},\"width\":{\"value\":0.6},\"x\":{\"field\":\"Hour\"}},\"id\":\"1054\",\"type\":\"VBar\"},{\"attributes\":{\"fill_alpha\":{\"value\":0.05},\"fill_color\":{\"value\":\"#f45deb\"},\"line_alpha\":{\"value\":0.05},\"line_color\":{\"value\":\"#f45deb\"},\"top\":{\"field\":\"VANDALISM\"},\"width\":{\"value\":0.6},\"x\":{\"field\":\"Hour\"}},\"id\":\"1109\",\"type\":\"VBar\"},{\"attributes\":{\"data_source\":{\"id\":\"1002\"},\"glyph\":{\"id\":\"1095\"},\"hover_glyph\":null,\"muted\":true,\"muted_glyph\":{\"id\":\"1097\"},\"nonselection_glyph\":{\"id\":\"1096\"},\"selection_glyph\":null,\"view\":{\"id\":\"1099\"}},\"id\":\"1098\",\"type\":\"GlyphRenderer\"},{\"attributes\":{\"fill_alpha\":{\"value\":0.05},\"fill_color\":{\"value\":\"#c180f4\"},\"line_alpha\":{\"value\":0.05},\"line_color\":{\"value\":\"#c180f4\"},\"top\":{\"field\":\"DISORDERLY CONDUCT\"},\"width\":{\"value\":0.6},\"x\":{\"field\":\"Hour\"}},\"id\":\"1103\",\"type\":\"VBar\"},{\"attributes\":{\"fill_alpha\":{\"value\":0.5},\"fill_color\":{\"value\":\"#f77189\"},\"line_color\":{\"value\":\"#f77189\"},\"top\":{\"field\":\"ASSAULT\"},\"width\":{\"value\":0.6},\"x\":{\"field\":\"Hour\"}},\"id\":\"1035\",\"type\":\"VBar\"},{\"attributes\":{\"fill_alpha\":{\"value\":0.1},\"fill_color\":{\"value\":\"#32b24e\"},\"line_alpha\":{\"value\":0.1},\"line_color\":{\"value\":\"#32b24e\"},\"top\":{\"field\":\"TRESPASS\"},\"width\":{\"value\":0.6},\"x\":{\"field\":\"Hour\"}},\"id\":\"1066\",\"type\":\"VBar\"},{\"attributes\":{\"fill_alpha\":{\"value\":0.1},\"fill_color\":{\"value\":\"#ef7d32\"},\"line_alpha\":{\"value\":0.1},\"line_color\":{\"value\":\"#ef7d32\"},\"top\":{\"field\":\"DRIVING UNDER THE INFLUENCE\"},\"width\":{\"value\":0.6},\"x\":{\"field\":\"Hour\"}},\"id\":\"1042\",\"type\":\"VBar\"},{\"attributes\":{\"source\":{\"id\":\"1002\"}},\"id\":\"1057\",\"type\":\"CDSView\"},{\"attributes\":{},\"id\":\"1018\",\"type\":\"BasicTicker\"},{\"attributes\":{\"fill_alpha\":{\"value\":0.05},\"fill_color\":{\"value\":\"#3aa6da\"},\"line_alpha\":{\"value\":0.05},\"line_color\":{\"value\":\"#3aa6da\"},\"top\":{\"field\":\"DRUG/NARCOTIC\"},\"width\":{\"value\":0.6},\"x\":{\"field\":\"Hour\"}},\"id\":\"1091\",\"type\":\"VBar\"},{\"attributes\":{\"fill_alpha\":{\"value\":0.5},\"fill_color\":{\"value\":\"#ef7d32\"},\"line_color\":{\"value\":\"#ef7d32\"},\"top\":{\"field\":\"DRIVING UNDER THE INFLUENCE\"},\"width\":{\"value\":0.6},\"x\":{\"field\":\"Hour\"}},\"id\":\"1041\",\"type\":\"VBar\"},{\"attributes\":{},\"id\":\"1136\",\"type\":\"BasicTickFormatter\"},{\"attributes\":{},\"id\":\"1010\",\"type\":\"CategoricalScale\"},{\"attributes\":{\"axis\":{\"id\":\"1014\"},\"ticker\":null},\"id\":\"1016\",\"type\":\"Grid\"},{\"attributes\":{\"data_source\":{\"id\":\"1002\"},\"glyph\":{\"id\":\"1059\"},\"hover_glyph\":null,\"muted\":true,\"muted_glyph\":{\"id\":\"1061\"},\"nonselection_glyph\":{\"id\":\"1060\"},\"selection_glyph\":null,\"view\":{\"id\":\"1063\"}},\"id\":\"1062\",\"type\":\"GlyphRenderer\"},{\"attributes\":{\"source\":{\"id\":\"1002\"}},\"id\":\"1111\",\"type\":\"CDSView\"},{\"attributes\":{\"fill_alpha\":{\"value\":0.5},\"fill_color\":{\"value\":\"#a79f31\"},\"line_color\":{\"value\":\"#a79f31\"},\"top\":{\"field\":\"STOLEN PROPERTY\"},\"width\":{\"value\":0.6},\"x\":{\"field\":\"Hour\"}},\"id\":\"1053\",\"type\":\"VBar\"},{\"attributes\":{\"start\":0},\"id\":\"1008\",\"type\":\"DataRange1d\"},{\"attributes\":{\"fill_alpha\":{\"value\":0.5},\"fill_color\":{\"value\":\"#32b24e\"},\"line_color\":{\"value\":\"#32b24e\"},\"top\":{\"field\":\"TRESPASS\"},\"width\":{\"value\":0.6},\"x\":{\"field\":\"Hour\"}},\"id\":\"1065\",\"type\":\"VBar\"},{\"attributes\":{\"data_source\":{\"id\":\"1002\"},\"glyph\":{\"id\":\"1107\"},\"hover_glyph\":null,\"muted\":true,\"muted_glyph\":{\"id\":\"1109\"},\"nonselection_glyph\":{\"id\":\"1108\"},\"selection_glyph\":null,\"view\":{\"id\":\"1111\"}},\"id\":\"1110\",\"type\":\"GlyphRenderer\"},{\"attributes\":{\"source\":{\"id\":\"1002\"}},\"id\":\"1069\",\"type\":\"CDSView\"},{\"attributes\":{},\"id\":\"1140\",\"type\":\"UnionRenderers\"},{\"attributes\":{\"axis\":{\"id\":\"1017\"},\"dimension\":1,\"ticker\":null},\"id\":\"1020\",\"type\":\"Grid\"},{\"attributes\":{\"source\":{\"id\":\"1002\"}},\"id\":\"1105\",\"type\":\"CDSView\"},{\"attributes\":{},\"id\":\"1134\",\"type\":\"CategoricalTickFormatter\"},{\"attributes\":{\"fill_alpha\":{\"value\":0.05},\"fill_color\":{\"value\":\"#34af8a\"},\"line_alpha\":{\"value\":0.05},\"line_color\":{\"value\":\"#34af8a\"},\"top\":{\"field\":\"PROSTITUTION\"},\"width\":{\"value\":0.6},\"x\":{\"field\":\"Hour\"}},\"id\":\"1073\",\"type\":\"VBar\"},{\"attributes\":{\"fill_alpha\":{\"value\":0.1},\"fill_color\":{\"value\":\"#3aa6da\"},\"line_alpha\":{\"value\":0.1},\"line_color\":{\"value\":\"#3aa6da\"},\"top\":{\"field\":\"DRUG/NARCOTIC\"},\"width\":{\"value\":0.6},\"x\":{\"field\":\"Hour\"}},\"id\":\"1090\",\"type\":\"VBar\"},{\"attributes\":{\"fill_alpha\":{\"value\":0.1},\"fill_color\":{\"value\":\"#c180f4\"},\"line_alpha\":{\"value\":0.1},\"line_color\":{\"value\":\"#c180f4\"},\"top\":{\"field\":\"DISORDERLY CONDUCT\"},\"width\":{\"value\":0.6},\"x\":{\"field\":\"Hour\"}},\"id\":\"1102\",\"type\":\"VBar\"},{\"attributes\":{\"bottom_units\":\"screen\",\"fill_alpha\":0.5,\"fill_color\":\"lightgrey\",\"left_units\":\"screen\",\"level\":\"overlay\",\"line_alpha\":1.0,\"line_color\":\"black\",\"line_dash\":[4,4],\"line_width\":2,\"render_mode\":\"css\",\"right_units\":\"screen\",\"top_units\":\"screen\"},\"id\":\"1138\",\"type\":\"BoxAnnotation\"},{\"attributes\":{\"data_source\":{\"id\":\"1002\"},\"glyph\":{\"id\":\"1065\"},\"hover_glyph\":null,\"muted\":true,\"muted_glyph\":{\"id\":\"1067\"},\"nonselection_glyph\":{\"id\":\"1066\"},\"selection_glyph\":null,\"view\":{\"id\":\"1069\"}},\"id\":\"1068\",\"type\":\"GlyphRenderer\"},{\"attributes\":{\"factors\":[\"0\",\"1\",\"2\",\"3\",\"4\",\"5\",\"6\",\"7\",\"8\",\"9\",\"10\",\"11\",\"12\",\"13\",\"14\",\"15\",\"16\",\"17\",\"18\",\"19\",\"20\",\"21\",\"22\",\"23\"]},\"id\":\"1003\",\"type\":\"FactorRange\"},{\"attributes\":{\"fill_alpha\":{\"value\":0.05},\"fill_color\":{\"value\":\"#a79f31\"},\"line_alpha\":{\"value\":0.05},\"line_color\":{\"value\":\"#a79f31\"},\"top\":{\"field\":\"STOLEN PROPERTY\"},\"width\":{\"value\":0.6},\"x\":{\"field\":\"Hour\"}},\"id\":\"1055\",\"type\":\"VBar\"},{\"attributes\":{\"source\":{\"id\":\"1002\"}},\"id\":\"1075\",\"type\":\"CDSView\"},{\"attributes\":{\"fill_alpha\":{\"value\":0.05},\"fill_color\":{\"value\":\"#82a931\"},\"line_alpha\":{\"value\":0.05},\"line_color\":{\"value\":\"#82a931\"},\"top\":{\"field\":\"WEAPON LAWS\"},\"width\":{\"value\":0.6},\"x\":{\"field\":\"Hour\"}},\"id\":\"1061\",\"type\":\"VBar\"},{\"attributes\":{\"text\":\"Crimes per hour\"},\"id\":\"1005\",\"type\":\"Title\"}],\"root_ids\":[\"1004\"]},\"title\":\"Bokeh Application\",\"version\":\"2.0.0\"}};\n",
       "  var render_items = [{\"docid\":\"e6a45b69-8cc0-43d6-b2f2-9662169ea7d6\",\"root_ids\":[\"1004\"],\"roots\":{\"1004\":\"1db4513c-4c9c-4a89-bbd1-cd803789748c\"}}];\n",
       "  root.Bokeh.embed.embed_items_notebook(docs_json, render_items);\n",
       "\n",
       "  }\n",
       "  if (root.Bokeh !== undefined) {\n",
       "    embed_document(root);\n",
       "  } else {\n",
       "    var attempts = 0;\n",
       "    var timer = setInterval(function(root) {\n",
       "      if (root.Bokeh !== undefined) {\n",
       "        clearInterval(timer);\n",
       "        embed_document(root);\n",
       "      } else {\n",
       "        attempts++;\n",
       "        if (attempts > 100) {\n",
       "          clearInterval(timer);\n",
       "          console.log(\"Bokeh: ERROR: Unable to run BokehJS code because BokehJS library is missing\");\n",
       "        }\n",
       "      }\n",
       "    }, 10, root)\n",
       "  }\n",
       "})(window);"
      ],
      "application/vnd.bokehjs_exec.v0+json": ""
     },
     "metadata": {
      "application/vnd.bokehjs_exec.v0+json": {
       "id": "1004"
      }
     },
     "output_type": "display_data"
    }
   ],
   "source": [
    "# Using seaborn colour palette in the Hex format for colouring each category of the crime in each iteration.\n",
    "cmap = sns.color_palette('husl', len(crimes_pivot.columns)).as_hex()\n",
    "\n",
    "bar = {}\n",
    "items = list()\n",
    "\n",
    "for index, crime in enumerate(focuscrimes):\n",
    "    bar[crime] = p.vbar(\n",
    "        x='Hour', top=crime, source=source,\n",
    "        width=0.6,\n",
    "        color=cmap[index], fill_alpha=0.5,\n",
    "        muted=True, muted_alpha=0.05)\n",
    "    items.append((crime, [bar[crime]]))\n",
    "    \n",
    "# \"Sticking\" the bars to the x-axis\n",
    "p.y_range.start = 0\n",
    "\n",
    "legend = Legend(items=items)\n",
    "p.add_layout(legend, 'left')\n",
    "p.legend.click_policy = 'mute'\n",
    "show(p)"
   ]
  },
  {
   "cell_type": "markdown",
   "metadata": {},
   "source": [
    "The plot visualised in the GIF file:\n",
    "![caption](https://github.com/pdarulewski/social_data_analysis_and_visualisation/blob/master/week_8/Screen%20Recording%202020-03-24%20at%2018.45.57.gif?raw=true)"
   ]
  }
 ],
 "metadata": {
  "kernelspec": {
   "display_name": "Python 3.7.1 64-bit ('venv': virtualenv)",
   "language": "python",
   "name": "python37164bitvenvvirtualenv84dc0c145867431db14750c6d0cbc978"
  },
  "language_info": {
   "codemirror_mode": {
    "name": "ipython",
    "version": 3
   },
   "file_extension": ".py",
   "mimetype": "text/x-python",
   "name": "python",
   "nbconvert_exporter": "python",
   "pygments_lexer": "ipython3",
   "version": "3.7.1"
  }
 },
 "nbformat": 4,
 "nbformat_minor": 4
}
