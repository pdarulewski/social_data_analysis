{
 "cells": [
  {
   "cell_type": "code",
   "execution_count": 64,
   "metadata": {},
   "outputs": [],
   "source": [
    "import pandas as pd\n",
    "import numpy as np\n",
    "from scipy import stats\n",
    "import matplotlib.pyplot as plt"
   ]
  },
  {
   "cell_type": "code",
   "execution_count": 15,
   "metadata": {},
   "outputs": [],
   "source": [
    "tsv_1_path = 'https://raw.githubusercontent.com/suneman/socialdataanalysis2020/master/files/data1.tsv'\n",
    "tsv_2_path = 'https://raw.githubusercontent.com/suneman/socialdataanalysis2020/master/files/data2.tsv'\n",
    "tsv_3_path = 'https://raw.githubusercontent.com/suneman/socialdataanalysis2020/master/files/data3.tsv'\n",
    "tsv_4_path = 'https://raw.githubusercontent.com/suneman/socialdataanalysis2020/master/files/data4.tsv'\n",
    "\n",
    "def read_tsv(url):\n",
    "    return pd.read_csv(url, sep='\\t', names=['x', 'y'])\n",
    "\n",
    "data_1 = read_tsv(tsv_1_path)\n",
    "data_2 = read_tsv(tsv_2_path)\n",
    "data_3 = read_tsv(tsv_3_path)\n",
    "data_4 = read_tsv(tsv_4_path)\n",
    "\n",
    "data_list = [data_1, data_2, data_3, data_4]"
   ]
  },
  {
   "cell_type": "code",
   "execution_count": 49,
   "metadata": {},
   "outputs": [],
   "source": [
    "def calculate_statistic(data_list, function, precision):\n",
    "    for index, dataframe in enumerate(data_list):\n",
    "        for column in dataframe.columns:\n",
    "            print(\"dataframe_{index}['{column}'] — {value:10.{precision}f}\".format(\n",
    "                index=index, column=column, value=function(dataframe[column]), precision=precision))"
   ]
  },
  {
   "cell_type": "code",
   "execution_count": 50,
   "metadata": {},
   "outputs": [
    {
     "name": "stdout",
     "output_type": "stream",
     "text": [
      "dataframe_0['x'] —       9.00\n",
      "dataframe_0['y'] —       7.50\n",
      "dataframe_1['x'] —       9.00\n",
      "dataframe_1['y'] —       7.50\n",
      "dataframe_2['x'] —       9.00\n",
      "dataframe_2['y'] —       7.50\n",
      "dataframe_3['x'] —       9.00\n",
      "dataframe_3['y'] —       7.50\n"
     ]
    }
   ],
   "source": [
    "calculate_statistic(data_list, np.mean, 2)"
   ]
  },
  {
   "cell_type": "code",
   "execution_count": 51,
   "metadata": {},
   "outputs": [
    {
     "name": "stdout",
     "output_type": "stream",
     "text": [
      "dataframe_0['x'] —     10.000\n",
      "dataframe_0['y'] —      3.752\n",
      "dataframe_1['x'] —     10.000\n",
      "dataframe_1['y'] —      3.752\n",
      "dataframe_2['x'] —     10.000\n",
      "dataframe_2['y'] —      3.748\n",
      "dataframe_3['x'] —     10.000\n",
      "dataframe_3['y'] —      3.748\n"
     ]
    }
   ],
   "source": [
    "calculate_statistic(data_list, np.var, 3)"
   ]
  },
  {
   "cell_type": "code",
   "execution_count": 55,
   "metadata": {},
   "outputs": [
    {
     "name": "stdout",
     "output_type": "stream",
     "text": [
      "dataframe_0 –      0.816      0.002\n",
      "dataframe_1 –      0.816      0.002\n",
      "dataframe_2 –      0.816      0.002\n",
      "dataframe_3 –      0.817      0.002\n"
     ]
    }
   ],
   "source": [
    "def calculate_pearson(data_list):\n",
    "    for index, dataframe in enumerate(data_list):\n",
    "        tup = stats.pearsonr(dataframe['x'], dataframe['y'])\n",
    "        print('dataframe_{} – {:10.3f} {:10.3f}'.format(index, tup[0], tup[1]))\n",
    "        \n",
    "calculate_pearson(data_list)"
   ]
  },
  {
   "cell_type": "code",
   "execution_count": 71,
   "metadata": {},
   "outputs": [
    {
     "name": "stdout",
     "output_type": "stream",
     "text": [
      "dataframe_0 – a =       0.50, b =       3.00\n",
      "dataframe_1 – a =       0.50, b =       3.00\n",
      "dataframe_2 – a =       0.50, b =       3.00\n",
      "dataframe_3 – a =       0.50, b =       3.00\n"
     ]
    }
   ],
   "source": [
    "def calculate_linear_regression(data_list):\n",
    "    results = []\n",
    "    for index, dataframe in enumerate(data_list):\n",
    "        slope, intercept, r_value, p_value, std_err = stats.linregress(dataframe['x'], dataframe['y'])\n",
    "        print('dataframe_{} – a = {:10.2f}, b = {:10.2f}'.format(index, slope, intercept))\n",
    "        results.append((slope, intercept))\n",
    "    return results\n",
    "        \n",
    "linear_regression_results = calculate_linear_regression(data_list)"
   ]
  },
  {
   "cell_type": "code",
   "execution_count": 83,
   "metadata": {},
   "outputs": [],
   "source": [
    "def calculate_polyval(linear_regression_results, x):\n",
    "    m, b = linear_regression_results[0]\n",
    "    yp = np.polyval([m, b], x)\n",
    "    return yp"
   ]
  },
  {
   "cell_type": "code",
   "execution_count": 89,
   "metadata": {},
   "outputs": [
    {
     "data": {
      "image/png": "[encoded data removed]",
      "text/plain": [
       "<Figure size 1332x756 with 4 Axes>"
      ]
     },
     "metadata": {
      "needs_background": "light"
     },
     "output_type": "display_data"
    }
   ],
   "source": [
    "def plot_plots(data_list, linear_regression_results):\n",
    "    fig, ax = plt.subplots(nrows=2, ncols=2, sharex=True)\n",
    "    fig.set_size_inches(18.5, 10.5)\n",
    "    order = [(0, 0), (0, 1), (1, 0), (1, 1)]\n",
    "    \n",
    "    for index, loc in enumerate(order):\n",
    "        ax[loc[0], loc[1]].plot(data_list[index]['x'], data_list[index]['y'], '.')\n",
    "        yp = calculate_polyval(linear_regression_results, data_list[index]['x'])\n",
    "        ax[loc[0], loc[1]].plot(data_list[index]['x'], yp)\n",
    "\n",
    "    plt.show()\n",
    "    \n",
    "plot_plots(data_list, linear_regression_results)"
   ]
  },
  {
   "cell_type": "code",
   "execution_count": null,
   "metadata": {},
   "outputs": [],
   "source": []
  }
 ],
 "metadata": {
  "kernelspec": {
   "display_name": "Python 3.7.1 64-bit ('venv': virtualenv)",
   "language": "python",
   "name": "python37164bitvenvvirtualenv84dc0c145867431db14750c6d0cbc978"
  },
  "language_info": {
   "codemirror_mode": {
    "name": "ipython",
    "version": 3
   },
   "file_extension": ".py",
   "mimetype": "text/x-python",
   "name": "python",
   "nbconvert_exporter": "python",
   "pygments_lexer": "ipython3",
   "version": "3.7.1"
  }
 },
 "nbformat": 4,
 "nbformat_minor": 4
}
