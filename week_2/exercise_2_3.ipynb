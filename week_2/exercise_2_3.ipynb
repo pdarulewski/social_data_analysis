{
 "cells": [
  {
   "cell_type": "code",
   "execution_count": 33,
   "metadata": {},
   "outputs": [
    {
     "data": {
      "text/html": [
       "        <script type=\"text/javascript\">\n",
       "        window.PlotlyConfig = {MathJaxConfig: 'local'};\n",
       "        if (window.MathJax) {MathJax.Hub.Config({SVG: {font: \"STIX-Web\"}});}\n",
       "        if (typeof require !== 'undefined') {\n",
       "        require.undef(\"plotly\");\n",
       "        requirejs.config({\n",
       "            paths: {\n",
       "                'plotly': ['https://cdn.plot.ly/plotly-latest.min']\n",
       "            }\n",
       "        });\n",
       "        require(['plotly'], function(Plotly) {\n",
       "            window._Plotly = Plotly;\n",
       "        });\n",
       "        }\n",
       "        </script>\n",
       "        "
      ]
     },
     "metadata": {},
     "output_type": "display_data"
    }
   ],
   "source": [
    "import pandas as pd\n",
    "import plotly.express as px\n",
    "from plotly.offline import init_notebook_mode, iplot\n",
    "import matplotlib.pyplot as plt\n",
    "from plotly.subplots import make_subplots\n",
    "import plotly.graph_objects as go\n",
    "import numpy as np\n",
    "\n",
    "init_notebook_mode(connected=True)"
   ]
  },
  {
   "cell_type": "code",
   "execution_count": 37,
   "metadata": {},
   "outputs": [],
   "source": [
    "dataframe = pd.read_csv(\n",
    "    '/Users/paweldarulewski/Documents/DTU/1_sem/02806 Social data analysis and visualization/data/Police_Department_Incident_Reports__Historical_2003_to_May_2018.csv')\n",
    "# dataframe = dataframe.loc[pd.to_datetime(dataframe['Date']) >= '2013-01-01']"
   ]
  },
  {
   "cell_type": "code",
   "execution_count": 36,
   "metadata": {},
   "outputs": [
    {
     "data": {
      "text/html": [
       "<div>\n",
       "<style scoped>\n",
       "    .dataframe tbody tr th:only-of-type {\n",
       "        vertical-align: middle;\n",
       "    }\n",
       "\n",
       "    .dataframe tbody tr th {\n",
       "        vertical-align: top;\n",
       "    }\n",
       "\n",
       "    .dataframe thead th {\n",
       "        text-align: right;\n",
       "    }\n",
       "</style>\n",
       "<table border=\"1\" class=\"dataframe\">\n",
       "  <thead>\n",
       "    <tr style=\"text-align: right;\">\n",
       "      <th></th>\n",
       "      <th>IncidntNum</th>\n",
       "      <th>Category</th>\n",
       "      <th>Descript</th>\n",
       "      <th>DayOfWeek</th>\n",
       "      <th>Date</th>\n",
       "      <th>Time</th>\n",
       "      <th>PdDistrict</th>\n",
       "      <th>Resolution</th>\n",
       "      <th>Address</th>\n",
       "      <th>X</th>\n",
       "      <th>Y</th>\n",
       "      <th>Location</th>\n",
       "      <th>PdId</th>\n",
       "      <th>datetime</th>\n",
       "    </tr>\n",
       "  </thead>\n",
       "  <tbody>\n",
       "    <tr>\n",
       "      <th>0</th>\n",
       "      <td>146196161</td>\n",
       "      <td>NON-CRIMINAL</td>\n",
       "      <td>LOST PROPERTY</td>\n",
       "      <td>Tuesday</td>\n",
       "      <td>09/23/2014</td>\n",
       "      <td>01:00</td>\n",
       "      <td>SOUTHERN</td>\n",
       "      <td>NONE</td>\n",
       "      <td>800 Block of BRYANT ST</td>\n",
       "      <td>-122.403405</td>\n",
       "      <td>37.775421</td>\n",
       "      <td>POINT (-122.403404791479 37.775420706711)</td>\n",
       "      <td>14619616171000</td>\n",
       "      <td>09/23/2014 01:00</td>\n",
       "    </tr>\n",
       "    <tr>\n",
       "      <th>1</th>\n",
       "      <td>150045675</td>\n",
       "      <td>ASSAULT</td>\n",
       "      <td>BATTERY</td>\n",
       "      <td>Thursday</td>\n",
       "      <td>01/15/2015</td>\n",
       "      <td>17:00</td>\n",
       "      <td>TARAVAL</td>\n",
       "      <td>NONE</td>\n",
       "      <td>1800 Block of VICENTE ST</td>\n",
       "      <td>-122.485604</td>\n",
       "      <td>37.738821</td>\n",
       "      <td>POINT (-122.48560378101 37.7388214326705)</td>\n",
       "      <td>15004567504134</td>\n",
       "      <td>01/15/2015 17:00</td>\n",
       "    </tr>\n",
       "    <tr>\n",
       "      <th>2</th>\n",
       "      <td>140632022</td>\n",
       "      <td>SUSPICIOUS OCC</td>\n",
       "      <td>INVESTIGATIVE DETENTION</td>\n",
       "      <td>Wednesday</td>\n",
       "      <td>07/30/2014</td>\n",
       "      <td>09:32</td>\n",
       "      <td>BAYVIEW</td>\n",
       "      <td>NONE</td>\n",
       "      <td>100 Block of GILLETTE AV</td>\n",
       "      <td>-122.396535</td>\n",
       "      <td>37.710660</td>\n",
       "      <td>POINT (-122.396535107224 37.7106603302503)</td>\n",
       "      <td>14063202264085</td>\n",
       "      <td>07/30/2014 09:32</td>\n",
       "    </tr>\n",
       "    <tr>\n",
       "      <th>3</th>\n",
       "      <td>150383259</td>\n",
       "      <td>ASSAULT</td>\n",
       "      <td>BATTERY</td>\n",
       "      <td>Saturday</td>\n",
       "      <td>05/02/2015</td>\n",
       "      <td>23:10</td>\n",
       "      <td>BAYVIEW</td>\n",
       "      <td>ARREST, BOOKED</td>\n",
       "      <td>2400 Block of PHELPS ST</td>\n",
       "      <td>-122.400131</td>\n",
       "      <td>37.730093</td>\n",
       "      <td>POINT (-122.400130573297 37.7300925390327)</td>\n",
       "      <td>15038325904134</td>\n",
       "      <td>05/02/2015 23:10</td>\n",
       "    </tr>\n",
       "    <tr>\n",
       "      <th>4</th>\n",
       "      <td>40753980</td>\n",
       "      <td>OTHER OFFENSES</td>\n",
       "      <td>RECKLESS DRIVING</td>\n",
       "      <td>Friday</td>\n",
       "      <td>07/02/2004</td>\n",
       "      <td>13:43</td>\n",
       "      <td>BAYVIEW</td>\n",
       "      <td>NONE</td>\n",
       "      <td>I-280 / CESAR CHAVEZ ST</td>\n",
       "      <td>-120.500000</td>\n",
       "      <td>90.000000</td>\n",
       "      <td>POINT (-120.5 90)</td>\n",
       "      <td>4075398065020</td>\n",
       "      <td>07/02/2004 13:43</td>\n",
       "    </tr>\n",
       "    <tr>\n",
       "      <th>...</th>\n",
       "      <td>...</td>\n",
       "      <td>...</td>\n",
       "      <td>...</td>\n",
       "      <td>...</td>\n",
       "      <td>...</td>\n",
       "      <td>...</td>\n",
       "      <td>...</td>\n",
       "      <td>...</td>\n",
       "      <td>...</td>\n",
       "      <td>...</td>\n",
       "      <td>...</td>\n",
       "      <td>...</td>\n",
       "      <td>...</td>\n",
       "      <td>...</td>\n",
       "    </tr>\n",
       "    <tr>\n",
       "      <th>2215019</th>\n",
       "      <td>160648742</td>\n",
       "      <td>NON-CRIMINAL</td>\n",
       "      <td>AIDED CASE</td>\n",
       "      <td>Thursday</td>\n",
       "      <td>08/11/2016</td>\n",
       "      <td>18:36</td>\n",
       "      <td>SOUTHERN</td>\n",
       "      <td>NONE</td>\n",
       "      <td>0 Block of WASHBURN ST</td>\n",
       "      <td>-122.414406</td>\n",
       "      <td>37.775236</td>\n",
       "      <td>POINT (-122.41440629479061 37.77523622314656)</td>\n",
       "      <td>16064874251040</td>\n",
       "      <td>08/11/2016 18:36</td>\n",
       "    </tr>\n",
       "    <tr>\n",
       "      <th>2215020</th>\n",
       "      <td>160659761</td>\n",
       "      <td>OTHER OFFENSES</td>\n",
       "      <td>DRIVERS LICENSE, SUSPENDED OR REVOKED</td>\n",
       "      <td>Monday</td>\n",
       "      <td>08/15/2016</td>\n",
       "      <td>19:06</td>\n",
       "      <td>BAYVIEW</td>\n",
       "      <td>ARREST, BOOKED</td>\n",
       "      <td>16TH ST / 3RD ST</td>\n",
       "      <td>-122.389103</td>\n",
       "      <td>37.766904</td>\n",
       "      <td>POINT (-122.38910303281254 37.76690372519212)</td>\n",
       "      <td>16065976165016</td>\n",
       "      <td>08/15/2016 19:06</td>\n",
       "    </tr>\n",
       "    <tr>\n",
       "      <th>2215021</th>\n",
       "      <td>170285083</td>\n",
       "      <td>VEHICLE THEFT</td>\n",
       "      <td>STOLEN TRUCK</td>\n",
       "      <td>Thursday</td>\n",
       "      <td>04/06/2017</td>\n",
       "      <td>23:30</td>\n",
       "      <td>PARK</td>\n",
       "      <td>NONE</td>\n",
       "      <td>800 Block of HAIGHT ST</td>\n",
       "      <td>-122.436214</td>\n",
       "      <td>37.771317</td>\n",
       "      <td>POINT (-122.43621442698411 37.77131718410027)</td>\n",
       "      <td>17028508307025</td>\n",
       "      <td>04/06/2017 23:30</td>\n",
       "    </tr>\n",
       "    <tr>\n",
       "      <th>2215022</th>\n",
       "      <td>160684605</td>\n",
       "      <td>LOITERING</td>\n",
       "      <td>LODGING IN PARK</td>\n",
       "      <td>Wednesday</td>\n",
       "      <td>08/24/2016</td>\n",
       "      <td>07:33</td>\n",
       "      <td>NORTHERN</td>\n",
       "      <td>NONE</td>\n",
       "      <td>1600 Block of BAY ST</td>\n",
       "      <td>-122.434155</td>\n",
       "      <td>37.802896</td>\n",
       "      <td>POINT (-122.43415507683311 37.80289596016211)</td>\n",
       "      <td>16068460519062</td>\n",
       "      <td>08/24/2016 07:33</td>\n",
       "    </tr>\n",
       "    <tr>\n",
       "      <th>2215023</th>\n",
       "      <td>160469758</td>\n",
       "      <td>OTHER OFFENSES</td>\n",
       "      <td>DRIVERS LICENSE, SUSPENDED OR REVOKED</td>\n",
       "      <td>Thursday</td>\n",
       "      <td>06/09/2016</td>\n",
       "      <td>13:40</td>\n",
       "      <td>INGLESIDE</td>\n",
       "      <td>ARREST, BOOKED</td>\n",
       "      <td>MISSION ST / COLLEGE AV</td>\n",
       "      <td>-122.424702</td>\n",
       "      <td>37.735370</td>\n",
       "      <td>POINT (-122.4247020793315 37.73536990908727)</td>\n",
       "      <td>16046975865016</td>\n",
       "      <td>06/09/2016 13:40</td>\n",
       "    </tr>\n",
       "  </tbody>\n",
       "</table>\n",
       "<p>2215024 rows × 14 columns</p>\n",
       "</div>"
      ],
      "text/plain": [
       "         IncidntNum        Category                               Descript  \\\n",
       "0         146196161    NON-CRIMINAL                          LOST PROPERTY   \n",
       "1         150045675         ASSAULT                                BATTERY   \n",
       "2         140632022  SUSPICIOUS OCC                INVESTIGATIVE DETENTION   \n",
       "3         150383259         ASSAULT                                BATTERY   \n",
       "4          40753980  OTHER OFFENSES                       RECKLESS DRIVING   \n",
       "...             ...             ...                                    ...   \n",
       "2215019   160648742    NON-CRIMINAL                             AIDED CASE   \n",
       "2215020   160659761  OTHER OFFENSES  DRIVERS LICENSE, SUSPENDED OR REVOKED   \n",
       "2215021   170285083   VEHICLE THEFT                           STOLEN TRUCK   \n",
       "2215022   160684605       LOITERING                        LODGING IN PARK   \n",
       "2215023   160469758  OTHER OFFENSES  DRIVERS LICENSE, SUSPENDED OR REVOKED   \n",
       "\n",
       "         DayOfWeek        Date   Time PdDistrict      Resolution  \\\n",
       "0          Tuesday  09/23/2014  01:00   SOUTHERN            NONE   \n",
       "1         Thursday  01/15/2015  17:00    TARAVAL            NONE   \n",
       "2        Wednesday  07/30/2014  09:32    BAYVIEW            NONE   \n",
       "3         Saturday  05/02/2015  23:10    BAYVIEW  ARREST, BOOKED   \n",
       "4           Friday  07/02/2004  13:43    BAYVIEW            NONE   \n",
       "...            ...         ...    ...        ...             ...   \n",
       "2215019   Thursday  08/11/2016  18:36   SOUTHERN            NONE   \n",
       "2215020     Monday  08/15/2016  19:06    BAYVIEW  ARREST, BOOKED   \n",
       "2215021   Thursday  04/06/2017  23:30       PARK            NONE   \n",
       "2215022  Wednesday  08/24/2016  07:33   NORTHERN            NONE   \n",
       "2215023   Thursday  06/09/2016  13:40  INGLESIDE  ARREST, BOOKED   \n",
       "\n",
       "                          Address           X          Y  \\\n",
       "0          800 Block of BRYANT ST -122.403405  37.775421   \n",
       "1        1800 Block of VICENTE ST -122.485604  37.738821   \n",
       "2        100 Block of GILLETTE AV -122.396535  37.710660   \n",
       "3         2400 Block of PHELPS ST -122.400131  37.730093   \n",
       "4         I-280 / CESAR CHAVEZ ST -120.500000  90.000000   \n",
       "...                           ...         ...        ...   \n",
       "2215019    0 Block of WASHBURN ST -122.414406  37.775236   \n",
       "2215020          16TH ST / 3RD ST -122.389103  37.766904   \n",
       "2215021    800 Block of HAIGHT ST -122.436214  37.771317   \n",
       "2215022      1600 Block of BAY ST -122.434155  37.802896   \n",
       "2215023   MISSION ST / COLLEGE AV -122.424702  37.735370   \n",
       "\n",
       "                                              Location            PdId  \\\n",
       "0            POINT (-122.403404791479 37.775420706711)  14619616171000   \n",
       "1            POINT (-122.48560378101 37.7388214326705)  15004567504134   \n",
       "2           POINT (-122.396535107224 37.7106603302503)  14063202264085   \n",
       "3           POINT (-122.400130573297 37.7300925390327)  15038325904134   \n",
       "4                                    POINT (-120.5 90)   4075398065020   \n",
       "...                                                ...             ...   \n",
       "2215019  POINT (-122.41440629479061 37.77523622314656)  16064874251040   \n",
       "2215020  POINT (-122.38910303281254 37.76690372519212)  16065976165016   \n",
       "2215021  POINT (-122.43621442698411 37.77131718410027)  17028508307025   \n",
       "2215022  POINT (-122.43415507683311 37.80289596016211)  16068460519062   \n",
       "2215023   POINT (-122.4247020793315 37.73536990908727)  16046975865016   \n",
       "\n",
       "                 datetime  \n",
       "0        09/23/2014 01:00  \n",
       "1        01/15/2015 17:00  \n",
       "2        07/30/2014 09:32  \n",
       "3        05/02/2015 23:10  \n",
       "4        07/02/2004 13:43  \n",
       "...                   ...  \n",
       "2215019  08/11/2016 18:36  \n",
       "2215020  08/15/2016 19:06  \n",
       "2215021  04/06/2017 23:30  \n",
       "2215022  08/24/2016 07:33  \n",
       "2215023  06/09/2016 13:40  \n",
       "\n",
       "[2215024 rows x 14 columns]"
      ]
     },
     "execution_count": 36,
     "metadata": {},
     "output_type": "execute_result"
    }
   ],
   "source": [
    "dataframe['datetime'] = dataframe['Date'] + ' ' + dataframe['Time']\n",
    "dataframe"
   ]
  },
  {
   "cell_type": "code",
   "execution_count": null,
   "metadata": {},
   "outputs": [],
   "source": [
    "dataframe = dataframe.set_index(pd.to_datetime(dataframe['Date'] + ' ' + dataframe['Time']))\n",
    "dataframe = dataframe.drop(columns=['Date', 'Time'])"
   ]
  },
  {
   "cell_type": "code",
   "execution_count": 3,
   "metadata": {},
   "outputs": [],
   "source": [
    "focuscrimes = {\n",
    "    'WEAPON LAWS': [1, 1],\n",
    "    'PROSTITUTION': [1, 2],\n",
    "    'DRIVING UNDER THE INFLUENCE': [2, 1],\n",
    "    'ROBBERY': [2, 2],\n",
    "    'BURGLARY': [3, 1],\n",
    "    'ASSAULT': [3, 2],\n",
    "    'DRUNKENNESS': [4, 1],\n",
    "    'DRUG/NARCOTIC': [4, 2],\n",
    "    'TRESPASS': [5, 1],\n",
    "    'LARCENY/THEFT': [5, 2],\n",
    "    'VANDALISM': [6, 1],\n",
    "    'VEHICLE THEFT': [6, 2],\n",
    "    'STOLEN PROPERTY': [7, 1],\n",
    "    'DISORDERLY CONDUCT': [7, 2]\n",
    "}"
   ]
  },
  {
   "cell_type": "code",
   "execution_count": 7,
   "metadata": {},
   "outputs": [
    {
     "data": {
      "text/html": [
       "<div>\n",
       "<style scoped>\n",
       "    .dataframe tbody tr th:only-of-type {\n",
       "        vertical-align: middle;\n",
       "    }\n",
       "\n",
       "    .dataframe tbody tr th {\n",
       "        vertical-align: top;\n",
       "    }\n",
       "\n",
       "    .dataframe thead th {\n",
       "        text-align: right;\n",
       "    }\n",
       "</style>\n",
       "<table border=\"1\" class=\"dataframe\">\n",
       "  <thead>\n",
       "    <tr style=\"text-align: right;\">\n",
       "      <th></th>\n",
       "      <th>Category</th>\n",
       "      <th>datetime</th>\n",
       "    </tr>\n",
       "  </thead>\n",
       "  <tbody>\n",
       "    <tr>\n",
       "      <th>0</th>\n",
       "      <td>NON-CRIMINAL</td>\n",
       "      <td>09/23/2014 01:00</td>\n",
       "    </tr>\n",
       "    <tr>\n",
       "      <th>1</th>\n",
       "      <td>ASSAULT</td>\n",
       "      <td>01/15/2015 17:00</td>\n",
       "    </tr>\n",
       "    <tr>\n",
       "      <th>2</th>\n",
       "      <td>SUSPICIOUS OCC</td>\n",
       "      <td>07/30/2014 09:32</td>\n",
       "    </tr>\n",
       "    <tr>\n",
       "      <th>3</th>\n",
       "      <td>ASSAULT</td>\n",
       "      <td>05/02/2015 23:10</td>\n",
       "    </tr>\n",
       "    <tr>\n",
       "      <th>4</th>\n",
       "      <td>OTHER OFFENSES</td>\n",
       "      <td>07/02/2004 13:43</td>\n",
       "    </tr>\n",
       "    <tr>\n",
       "      <th>...</th>\n",
       "      <td>...</td>\n",
       "      <td>...</td>\n",
       "    </tr>\n",
       "    <tr>\n",
       "      <th>2215019</th>\n",
       "      <td>NON-CRIMINAL</td>\n",
       "      <td>08/11/2016 18:36</td>\n",
       "    </tr>\n",
       "    <tr>\n",
       "      <th>2215020</th>\n",
       "      <td>OTHER OFFENSES</td>\n",
       "      <td>08/15/2016 19:06</td>\n",
       "    </tr>\n",
       "    <tr>\n",
       "      <th>2215021</th>\n",
       "      <td>VEHICLE THEFT</td>\n",
       "      <td>04/06/2017 23:30</td>\n",
       "    </tr>\n",
       "    <tr>\n",
       "      <th>2215022</th>\n",
       "      <td>LOITERING</td>\n",
       "      <td>08/24/2016 07:33</td>\n",
       "    </tr>\n",
       "    <tr>\n",
       "      <th>2215023</th>\n",
       "      <td>OTHER OFFENSES</td>\n",
       "      <td>06/09/2016 13:40</td>\n",
       "    </tr>\n",
       "  </tbody>\n",
       "</table>\n",
       "<p>2215024 rows × 2 columns</p>\n",
       "</div>"
      ],
      "text/plain": [
       "               Category          datetime\n",
       "0          NON-CRIMINAL  09/23/2014 01:00\n",
       "1               ASSAULT  01/15/2015 17:00\n",
       "2        SUSPICIOUS OCC  07/30/2014 09:32\n",
       "3               ASSAULT  05/02/2015 23:10\n",
       "4        OTHER OFFENSES  07/02/2004 13:43\n",
       "...                 ...               ...\n",
       "2215019    NON-CRIMINAL  08/11/2016 18:36\n",
       "2215020  OTHER OFFENSES  08/15/2016 19:06\n",
       "2215021   VEHICLE THEFT  04/06/2017 23:30\n",
       "2215022       LOITERING  08/24/2016 07:33\n",
       "2215023  OTHER OFFENSES  06/09/2016 13:40\n",
       "\n",
       "[2215024 rows x 2 columns]"
      ]
     },
     "execution_count": 7,
     "metadata": {},
     "output_type": "execute_result"
    }
   ],
   "source": [
    "crimes = pd.DataFrame(dataframe[['Category', 'datetime']])\n",
    "crimes"
   ]
  },
  {
   "cell_type": "code",
   "execution_count": 8,
   "metadata": {
    "scrolled": true
   },
   "outputs": [
    {
     "data": {
      "text/html": [
       "<div>\n",
       "<style scoped>\n",
       "    .dataframe tbody tr th:only-of-type {\n",
       "        vertical-align: middle;\n",
       "    }\n",
       "\n",
       "    .dataframe tbody tr th {\n",
       "        vertical-align: top;\n",
       "    }\n",
       "\n",
       "    .dataframe thead th {\n",
       "        text-align: right;\n",
       "    }\n",
       "</style>\n",
       "<table border=\"1\" class=\"dataframe\">\n",
       "  <thead>\n",
       "    <tr style=\"text-align: right;\">\n",
       "      <th>Category</th>\n",
       "      <th>ARSON</th>\n",
       "      <th>ASSAULT</th>\n",
       "      <th>BAD CHECKS</th>\n",
       "      <th>BRIBERY</th>\n",
       "      <th>BURGLARY</th>\n",
       "      <th>DISORDERLY CONDUCT</th>\n",
       "      <th>DRIVING UNDER THE INFLUENCE</th>\n",
       "      <th>DRUG/NARCOTIC</th>\n",
       "      <th>DRUNKENNESS</th>\n",
       "      <th>EMBEZZLEMENT</th>\n",
       "      <th>...</th>\n",
       "      <th>SEX OFFENSES, NON FORCIBLE</th>\n",
       "      <th>STOLEN PROPERTY</th>\n",
       "      <th>SUICIDE</th>\n",
       "      <th>SUSPICIOUS OCC</th>\n",
       "      <th>TREA</th>\n",
       "      <th>TRESPASS</th>\n",
       "      <th>VANDALISM</th>\n",
       "      <th>VEHICLE THEFT</th>\n",
       "      <th>WARRANTS</th>\n",
       "      <th>WEAPON LAWS</th>\n",
       "    </tr>\n",
       "    <tr>\n",
       "      <th>weekday</th>\n",
       "      <th></th>\n",
       "      <th></th>\n",
       "      <th></th>\n",
       "      <th></th>\n",
       "      <th></th>\n",
       "      <th></th>\n",
       "      <th></th>\n",
       "      <th></th>\n",
       "      <th></th>\n",
       "      <th></th>\n",
       "      <th></th>\n",
       "      <th></th>\n",
       "      <th></th>\n",
       "      <th></th>\n",
       "      <th></th>\n",
       "      <th></th>\n",
       "      <th></th>\n",
       "      <th></th>\n",
       "      <th></th>\n",
       "      <th></th>\n",
       "      <th></th>\n",
       "    </tr>\n",
       "  </thead>\n",
       "  <tbody>\n",
       "    <tr>\n",
       "      <th>Monday</th>\n",
       "      <td>574.0</td>\n",
       "      <td>26656.0</td>\n",
       "      <td>152.0</td>\n",
       "      <td>114.0</td>\n",
       "      <td>13084.0</td>\n",
       "      <td>1491.0</td>\n",
       "      <td>649.0</td>\n",
       "      <td>16906.0</td>\n",
       "      <td>1192.0</td>\n",
       "      <td>513.0</td>\n",
       "      <td>...</td>\n",
       "      <td>65.0</td>\n",
       "      <td>1711.0</td>\n",
       "      <td>205.0</td>\n",
       "      <td>11534.0</td>\n",
       "      <td>5.0</td>\n",
       "      <td>2842.0</td>\n",
       "      <td>15390.0</td>\n",
       "      <td>17283.0</td>\n",
       "      <td>14060.0</td>\n",
       "      <td>3095.0</td>\n",
       "    </tr>\n",
       "    <tr>\n",
       "      <th>Tuesday</th>\n",
       "      <td>591.0</td>\n",
       "      <td>26333.0</td>\n",
       "      <td>166.0</td>\n",
       "      <td>107.0</td>\n",
       "      <td>13158.0</td>\n",
       "      <td>1577.0</td>\n",
       "      <td>587.0</td>\n",
       "      <td>19114.0</td>\n",
       "      <td>1106.0</td>\n",
       "      <td>432.0</td>\n",
       "      <td>...</td>\n",
       "      <td>73.0</td>\n",
       "      <td>1809.0</td>\n",
       "      <td>183.0</td>\n",
       "      <td>11515.0</td>\n",
       "      <td>2.0</td>\n",
       "      <td>3020.0</td>\n",
       "      <td>15150.0</td>\n",
       "      <td>17223.0</td>\n",
       "      <td>15670.0</td>\n",
       "      <td>3145.0</td>\n",
       "    </tr>\n",
       "    <tr>\n",
       "      <th>Wednesday</th>\n",
       "      <td>526.0</td>\n",
       "      <td>26531.0</td>\n",
       "      <td>157.0</td>\n",
       "      <td>114.0</td>\n",
       "      <td>13463.0</td>\n",
       "      <td>1606.0</td>\n",
       "      <td>587.0</td>\n",
       "      <td>20675.0</td>\n",
       "      <td>1182.0</td>\n",
       "      <td>441.0</td>\n",
       "      <td>...</td>\n",
       "      <td>55.0</td>\n",
       "      <td>1829.0</td>\n",
       "      <td>174.0</td>\n",
       "      <td>12105.0</td>\n",
       "      <td>1.0</td>\n",
       "      <td>3082.0</td>\n",
       "      <td>15537.0</td>\n",
       "      <td>17744.0</td>\n",
       "      <td>16658.0</td>\n",
       "      <td>3344.0</td>\n",
       "    </tr>\n",
       "    <tr>\n",
       "      <th>Thursday</th>\n",
       "      <td>568.0</td>\n",
       "      <td>26021.0</td>\n",
       "      <td>157.0</td>\n",
       "      <td>117.0</td>\n",
       "      <td>13518.0</td>\n",
       "      <td>1452.0</td>\n",
       "      <td>693.0</td>\n",
       "      <td>18555.0</td>\n",
       "      <td>1153.0</td>\n",
       "      <td>432.0</td>\n",
       "      <td>...</td>\n",
       "      <td>77.0</td>\n",
       "      <td>1701.0</td>\n",
       "      <td>179.0</td>\n",
       "      <td>11730.0</td>\n",
       "      <td>2.0</td>\n",
       "      <td>2820.0</td>\n",
       "      <td>15409.0</td>\n",
       "      <td>17616.0</td>\n",
       "      <td>15358.0</td>\n",
       "      <td>3138.0</td>\n",
       "    </tr>\n",
       "    <tr>\n",
       "      <th>Friday</th>\n",
       "      <td>564.0</td>\n",
       "      <td>28396.0</td>\n",
       "      <td>143.0</td>\n",
       "      <td>119.0</td>\n",
       "      <td>15586.0</td>\n",
       "      <td>1227.0</td>\n",
       "      <td>876.0</td>\n",
       "      <td>16479.0</td>\n",
       "      <td>1436.0</td>\n",
       "      <td>508.0</td>\n",
       "      <td>...</td>\n",
       "      <td>54.0</td>\n",
       "      <td>1649.0</td>\n",
       "      <td>179.0</td>\n",
       "      <td>12372.0</td>\n",
       "      <td>2.0</td>\n",
       "      <td>2790.0</td>\n",
       "      <td>18486.0</td>\n",
       "      <td>20112.0</td>\n",
       "      <td>14243.0</td>\n",
       "      <td>3378.0</td>\n",
       "    </tr>\n",
       "    <tr>\n",
       "      <th>Saturday</th>\n",
       "      <td>549.0</td>\n",
       "      <td>30377.0</td>\n",
       "      <td>97.0</td>\n",
       "      <td>116.0</td>\n",
       "      <td>11948.0</td>\n",
       "      <td>1393.0</td>\n",
       "      <td>1155.0</td>\n",
       "      <td>14338.0</td>\n",
       "      <td>1853.0</td>\n",
       "      <td>375.0</td>\n",
       "      <td>...</td>\n",
       "      <td>58.0</td>\n",
       "      <td>1590.0</td>\n",
       "      <td>200.0</td>\n",
       "      <td>10776.0</td>\n",
       "      <td>2.0</td>\n",
       "      <td>2476.0</td>\n",
       "      <td>18861.0</td>\n",
       "      <td>18930.0</td>\n",
       "      <td>12812.0</td>\n",
       "      <td>3197.0</td>\n",
       "    </tr>\n",
       "    <tr>\n",
       "      <th>Sunday</th>\n",
       "      <td>559.0</td>\n",
       "      <td>30380.0</td>\n",
       "      <td>53.0</td>\n",
       "      <td>126.0</td>\n",
       "      <td>10786.0</td>\n",
       "      <td>1294.0</td>\n",
       "      <td>1125.0</td>\n",
       "      <td>13561.0</td>\n",
       "      <td>1904.0</td>\n",
       "      <td>287.0</td>\n",
       "      <td>...</td>\n",
       "      <td>49.0</td>\n",
       "      <td>1602.0</td>\n",
       "      <td>172.0</td>\n",
       "      <td>10412.0</td>\n",
       "      <td>NaN</td>\n",
       "      <td>2419.0</td>\n",
       "      <td>17226.0</td>\n",
       "      <td>17694.0</td>\n",
       "      <td>12578.0</td>\n",
       "      <td>2937.0</td>\n",
       "    </tr>\n",
       "  </tbody>\n",
       "</table>\n",
       "<p>7 rows × 39 columns</p>\n",
       "</div>"
      ],
      "text/plain": [
       "Category   ARSON  ASSAULT  BAD CHECKS  BRIBERY  BURGLARY  DISORDERLY CONDUCT  \\\n",
       "weekday                                                                        \n",
       "Monday     574.0  26656.0       152.0    114.0   13084.0              1491.0   \n",
       "Tuesday    591.0  26333.0       166.0    107.0   13158.0              1577.0   \n",
       "Wednesday  526.0  26531.0       157.0    114.0   13463.0              1606.0   \n",
       "Thursday   568.0  26021.0       157.0    117.0   13518.0              1452.0   \n",
       "Friday     564.0  28396.0       143.0    119.0   15586.0              1227.0   \n",
       "Saturday   549.0  30377.0        97.0    116.0   11948.0              1393.0   \n",
       "Sunday     559.0  30380.0        53.0    126.0   10786.0              1294.0   \n",
       "\n",
       "Category   DRIVING UNDER THE INFLUENCE  DRUG/NARCOTIC  DRUNKENNESS  \\\n",
       "weekday                                                              \n",
       "Monday                           649.0        16906.0       1192.0   \n",
       "Tuesday                          587.0        19114.0       1106.0   \n",
       "Wednesday                        587.0        20675.0       1182.0   \n",
       "Thursday                         693.0        18555.0       1153.0   \n",
       "Friday                           876.0        16479.0       1436.0   \n",
       "Saturday                        1155.0        14338.0       1853.0   \n",
       "Sunday                          1125.0        13561.0       1904.0   \n",
       "\n",
       "Category   EMBEZZLEMENT  ...  SEX OFFENSES, NON FORCIBLE  STOLEN PROPERTY  \\\n",
       "weekday                  ...                                                \n",
       "Monday            513.0  ...                        65.0           1711.0   \n",
       "Tuesday           432.0  ...                        73.0           1809.0   \n",
       "Wednesday         441.0  ...                        55.0           1829.0   \n",
       "Thursday          432.0  ...                        77.0           1701.0   \n",
       "Friday            508.0  ...                        54.0           1649.0   \n",
       "Saturday          375.0  ...                        58.0           1590.0   \n",
       "Sunday            287.0  ...                        49.0           1602.0   \n",
       "\n",
       "Category   SUICIDE  SUSPICIOUS OCC  TREA  TRESPASS  VANDALISM  VEHICLE THEFT  \\\n",
       "weekday                                                                        \n",
       "Monday       205.0         11534.0   5.0    2842.0    15390.0        17283.0   \n",
       "Tuesday      183.0         11515.0   2.0    3020.0    15150.0        17223.0   \n",
       "Wednesday    174.0         12105.0   1.0    3082.0    15537.0        17744.0   \n",
       "Thursday     179.0         11730.0   2.0    2820.0    15409.0        17616.0   \n",
       "Friday       179.0         12372.0   2.0    2790.0    18486.0        20112.0   \n",
       "Saturday     200.0         10776.0   2.0    2476.0    18861.0        18930.0   \n",
       "Sunday       172.0         10412.0   NaN    2419.0    17226.0        17694.0   \n",
       "\n",
       "Category   WARRANTS  WEAPON LAWS  \n",
       "weekday                           \n",
       "Monday      14060.0       3095.0  \n",
       "Tuesday     15670.0       3145.0  \n",
       "Wednesday   16658.0       3344.0  \n",
       "Thursday    15358.0       3138.0  \n",
       "Friday      14243.0       3378.0  \n",
       "Saturday    12812.0       3197.0  \n",
       "Sunday      12578.0       2937.0  \n",
       "\n",
       "[7 rows x 39 columns]"
      ]
     },
     "execution_count": 8,
     "metadata": {},
     "output_type": "execute_result"
    }
   ],
   "source": [
    "# crimes = pd.DataFrame(dataframe.loc[dataframe.index <= '2017-12-31', 'Category'])\n",
    "crimes = pd.DataFrame(dataframe[['Category', 'datetime']])\n",
    "crimes = crimes.set_index(pd.to_datetime(crimes['datetime']))\n",
    "crimes['weekday'] = crimes.index.day_name()\n",
    "# crimes = crimes.reset_index()\n",
    "crimes = crimes.groupby(['weekday', 'Category']).size().unstack()\n",
    "crimes = crimes.reindex(['Monday', 'Tuesday', 'Wednesday', 'Thursday', 'Friday', 'Saturday', 'Sunday'])\n",
    "crimes"
   ]
  },
  {
   "cell_type": "code",
   "execution_count": 9,
   "metadata": {},
   "outputs": [
    {
     "data": {
      "application/vnd.plotly.v1+json": {
       "config": {
        "plotlyServerURL": "https://plot.ly"
       },
       "data": [
        {
         "type": "bar",
         "x": [
          "Monday",
          "Tuesday",
          "Wednesday",
          "Thursday",
          "Friday",
          "Saturday",
          "Sunday"
         ],
         "xaxis": "x",
         "y": [
          3095,
          3145,
          3344,
          3138,
          3378,
          3197,
          2937
         ],
         "yaxis": "y"
        },
        {
         "type": "bar",
         "x": [
          "Monday",
          "Tuesday",
          "Wednesday",
          "Thursday",
          "Friday",
          "Saturday",
          "Sunday"
         ],
         "xaxis": "x2",
         "y": [
          1143,
          3054,
          3332,
          3680,
          2803,
          1598,
          1091
         ],
         "yaxis": "y2"
        },
        {
         "type": "bar",
         "x": [
          "Monday",
          "Tuesday",
          "Wednesday",
          "Thursday",
          "Friday",
          "Saturday",
          "Sunday"
         ],
         "xaxis": "x3",
         "y": [
          649,
          587,
          587,
          693,
          876,
          1155,
          1125
         ],
         "yaxis": "y3"
        },
        {
         "type": "bar",
         "x": [
          "Monday",
          "Tuesday",
          "Wednesday",
          "Thursday",
          "Friday",
          "Saturday",
          "Sunday"
         ],
         "xaxis": "x4",
         "y": [
          7972,
          7769,
          7804,
          7732,
          8033,
          8411,
          8146
         ],
         "yaxis": "y4"
        },
        {
         "type": "bar",
         "x": [
          "Monday",
          "Tuesday",
          "Wednesday",
          "Thursday",
          "Friday",
          "Saturday",
          "Sunday"
         ],
         "xaxis": "x5",
         "y": [
          13084,
          13158,
          13463,
          13518,
          15586,
          11948,
          10786
         ],
         "yaxis": "y5"
        },
        {
         "type": "bar",
         "x": [
          "Monday",
          "Tuesday",
          "Wednesday",
          "Thursday",
          "Friday",
          "Saturday",
          "Sunday"
         ],
         "xaxis": "x6",
         "y": [
          26656,
          26333,
          26531,
          26021,
          28396,
          30377,
          30380
         ],
         "yaxis": "y6"
        },
        {
         "type": "bar",
         "x": [
          "Monday",
          "Tuesday",
          "Wednesday",
          "Thursday",
          "Friday",
          "Saturday",
          "Sunday"
         ],
         "xaxis": "x7",
         "y": [
          1192,
          1106,
          1182,
          1153,
          1436,
          1853,
          1904
         ],
         "yaxis": "y7"
        },
        {
         "type": "bar",
         "x": [
          "Monday",
          "Tuesday",
          "Wednesday",
          "Thursday",
          "Friday",
          "Saturday",
          "Sunday"
         ],
         "xaxis": "x8",
         "y": [
          16906,
          19114,
          20675,
          18555,
          16479,
          14338,
          13561
         ],
         "yaxis": "y8"
        },
        {
         "type": "bar",
         "x": [
          "Monday",
          "Tuesday",
          "Wednesday",
          "Thursday",
          "Friday",
          "Saturday",
          "Sunday"
         ],
         "xaxis": "x9",
         "y": [
          2842,
          3020,
          3082,
          2820,
          2790,
          2476,
          2419
         ],
         "yaxis": "y9"
        },
        {
         "type": "bar",
         "x": [
          "Monday",
          "Tuesday",
          "Wednesday",
          "Thursday",
          "Friday",
          "Saturday",
          "Sunday"
         ],
         "xaxis": "x10",
         "y": [
          64228,
          65788,
          67247,
          67685,
          74746,
          74565,
          66189
         ],
         "yaxis": "y10"
        },
        {
         "type": "bar",
         "x": [
          "Monday",
          "Tuesday",
          "Wednesday",
          "Thursday",
          "Friday",
          "Saturday",
          "Sunday"
         ],
         "xaxis": "x11",
         "y": [
          15390,
          15150,
          15537,
          15409,
          18486,
          18861,
          17226
         ],
         "yaxis": "y11"
        },
        {
         "type": "bar",
         "x": [
          "Monday",
          "Tuesday",
          "Wednesday",
          "Thursday",
          "Friday",
          "Saturday",
          "Sunday"
         ],
         "xaxis": "x12",
         "y": [
          17283,
          17223,
          17744,
          17616,
          20112,
          18930,
          17694
         ],
         "yaxis": "y12"
        },
        {
         "type": "bar",
         "x": [
          "Monday",
          "Tuesday",
          "Wednesday",
          "Thursday",
          "Friday",
          "Saturday",
          "Sunday"
         ],
         "xaxis": "x13",
         "y": [
          1711,
          1809,
          1829,
          1701,
          1649,
          1590,
          1602
         ],
         "yaxis": "y13"
        },
        {
         "type": "bar",
         "x": [
          "Monday",
          "Tuesday",
          "Wednesday",
          "Thursday",
          "Friday",
          "Saturday",
          "Sunday"
         ],
         "xaxis": "x14",
         "y": [
          1491,
          1577,
          1606,
          1452,
          1227,
          1393,
          1294
         ],
         "yaxis": "y14"
        }
       ],
       "layout": {
        "annotations": [
         {
          "font": {
           "size": 16
          },
          "showarrow": false,
          "text": "WEAPON LAWS",
          "x": 0.225,
          "xanchor": "center",
          "xref": "paper",
          "y": 0.9999999999999999,
          "yanchor": "bottom",
          "yref": "paper"
         },
         {
          "font": {
           "size": 16
          },
          "showarrow": false,
          "text": "PROSTITUTION",
          "x": 0.775,
          "xanchor": "center",
          "xref": "paper",
          "y": 0.9999999999999999,
          "yanchor": "bottom",
          "yref": "paper"
         },
         {
          "font": {
           "size": 16
          },
          "showarrow": false,
          "text": "DRIVING UNDER THE INFLUENCE",
          "x": 0.225,
          "xanchor": "center",
          "xref": "paper",
          "y": 0.8528571428571429,
          "yanchor": "bottom",
          "yref": "paper"
         },
         {
          "font": {
           "size": 16
          },
          "showarrow": false,
          "text": "ROBBERY",
          "x": 0.775,
          "xanchor": "center",
          "xref": "paper",
          "y": 0.8528571428571429,
          "yanchor": "bottom",
          "yref": "paper"
         },
         {
          "font": {
           "size": 16
          },
          "showarrow": false,
          "text": "BURGLARY",
          "x": 0.225,
          "xanchor": "center",
          "xref": "paper",
          "y": 0.7057142857142856,
          "yanchor": "bottom",
          "yref": "paper"
         },
         {
          "font": {
           "size": 16
          },
          "showarrow": false,
          "text": "ASSAULT",
          "x": 0.775,
          "xanchor": "center",
          "xref": "paper",
          "y": 0.7057142857142856,
          "yanchor": "bottom",
          "yref": "paper"
         },
         {
          "font": {
           "size": 16
          },
          "showarrow": false,
          "text": "DRUNKENNESS",
          "x": 0.225,
          "xanchor": "center",
          "xref": "paper",
          "y": 0.5585714285714285,
          "yanchor": "bottom",
          "yref": "paper"
         },
         {
          "font": {
           "size": 16
          },
          "showarrow": false,
          "text": "DRUG/NARCOTIC",
          "x": 0.775,
          "xanchor": "center",
          "xref": "paper",
          "y": 0.5585714285714285,
          "yanchor": "bottom",
          "yref": "paper"
         },
         {
          "font": {
           "size": 16
          },
          "showarrow": false,
          "text": "TRESPASS",
          "x": 0.225,
          "xanchor": "center",
          "xref": "paper",
          "y": 0.4114285714285714,
          "yanchor": "bottom",
          "yref": "paper"
         },
         {
          "font": {
           "size": 16
          },
          "showarrow": false,
          "text": "LARCENY/THEFT",
          "x": 0.775,
          "xanchor": "center",
          "xref": "paper",
          "y": 0.4114285714285714,
          "yanchor": "bottom",
          "yref": "paper"
         },
         {
          "font": {
           "size": 16
          },
          "showarrow": false,
          "text": "VANDALISM",
          "x": 0.225,
          "xanchor": "center",
          "xref": "paper",
          "y": 0.2642857142857143,
          "yanchor": "bottom",
          "yref": "paper"
         },
         {
          "font": {
           "size": 16
          },
          "showarrow": false,
          "text": "VEHICLE THEFT",
          "x": 0.775,
          "xanchor": "center",
          "xref": "paper",
          "y": 0.2642857142857143,
          "yanchor": "bottom",
          "yref": "paper"
         },
         {
          "font": {
           "size": 16
          },
          "showarrow": false,
          "text": "STOLEN PROPERTY",
          "x": 0.225,
          "xanchor": "center",
          "xref": "paper",
          "y": 0.11714285714285715,
          "yanchor": "bottom",
          "yref": "paper"
         },
         {
          "font": {
           "size": 16
          },
          "showarrow": false,
          "text": "DISORDERLY CONDUCT",
          "x": 0.775,
          "xanchor": "center",
          "xref": "paper",
          "y": 0.11714285714285715,
          "yanchor": "bottom",
          "yref": "paper"
         }
        ],
        "height": 2000,
        "showlegend": false,
        "template": {
         "data": {
          "bar": [
           {
            "error_x": {
             "color": "#2a3f5f"
            },
            "error_y": {
             "color": "#2a3f5f"
            },
            "marker": {
             "line": {
              "color": "#E5ECF6",
              "width": 0.5
             }
            },
            "type": "bar"
           }
          ],
          "barpolar": [
           {
            "marker": {
             "line": {
              "color": "#E5ECF6",
              "width": 0.5
             }
            },
            "type": "barpolar"
           }
          ],
          "carpet": [
           {
            "aaxis": {
             "endlinecolor": "#2a3f5f",
             "gridcolor": "white",
             "linecolor": "white",
             "minorgridcolor": "white",
             "startlinecolor": "#2a3f5f"
            },
            "baxis": {
             "endlinecolor": "#2a3f5f",
             "gridcolor": "white",
             "linecolor": "white",
             "minorgridcolor": "white",
             "startlinecolor": "#2a3f5f"
            },
            "type": "carpet"
           }
          ],
          "choropleth": [
           {
            "colorbar": {
             "outlinewidth": 0,
             "ticks": ""
            },
            "type": "choropleth"
           }
          ],
          "contour": [
           {
            "colorbar": {
             "outlinewidth": 0,
             "ticks": ""
            },
            "colorscale": [
             [
              0,
              "#0d0887"
             ],
             [
              0.1111111111111111,
              "#46039f"
             ],
             [
              0.2222222222222222,
              "#7201a8"
             ],
             [
              0.3333333333333333,
              "#9c179e"
             ],
             [
              0.4444444444444444,
              "#bd3786"
             ],
             [
              0.5555555555555556,
              "#d8576b"
             ],
             [
              0.6666666666666666,
              "#ed7953"
             ],
             [
              0.7777777777777778,
              "#fb9f3a"
             ],
             [
              0.8888888888888888,
              "#fdca26"
             ],
             [
              1,
              "#f0f921"
             ]
            ],
            "type": "contour"
           }
          ],
          "contourcarpet": [
           {
            "colorbar": {
             "outlinewidth": 0,
             "ticks": ""
            },
            "type": "contourcarpet"
           }
          ],
          "heatmap": [
           {
            "colorbar": {
             "outlinewidth": 0,
             "ticks": ""
            },
            "colorscale": [
             [
              0,
              "#0d0887"
             ],
             [
              0.1111111111111111,
              "#46039f"
             ],
             [
              0.2222222222222222,
              "#7201a8"
             ],
             [
              0.3333333333333333,
              "#9c179e"
             ],
             [
              0.4444444444444444,
              "#bd3786"
             ],
             [
              0.5555555555555556,
              "#d8576b"
             ],
             [
              0.6666666666666666,
              "#ed7953"
             ],
             [
              0.7777777777777778,
              "#fb9f3a"
             ],
             [
              0.8888888888888888,
              "#fdca26"
             ],
             [
              1,
              "#f0f921"
             ]
            ],
            "type": "heatmap"
           }
          ],
          "heatmapgl": [
           {
            "colorbar": {
             "outlinewidth": 0,
             "ticks": ""
            },
            "colorscale": [
             [
              0,
              "#0d0887"
             ],
             [
              0.1111111111111111,
              "#46039f"
             ],
             [
              0.2222222222222222,
              "#7201a8"
             ],
             [
              0.3333333333333333,
              "#9c179e"
             ],
             [
              0.4444444444444444,
              "#bd3786"
             ],
             [
              0.5555555555555556,
              "#d8576b"
             ],
             [
              0.6666666666666666,
              "#ed7953"
             ],
             [
              0.7777777777777778,
              "#fb9f3a"
             ],
             [
              0.8888888888888888,
              "#fdca26"
             ],
             [
              1,
              "#f0f921"
             ]
            ],
            "type": "heatmapgl"
           }
          ],
          "histogram": [
           {
            "marker": {
             "colorbar": {
              "outlinewidth": 0,
              "ticks": ""
             }
            },
            "type": "histogram"
           }
          ],
          "histogram2d": [
           {
            "colorbar": {
             "outlinewidth": 0,
             "ticks": ""
            },
            "colorscale": [
             [
              0,
              "#0d0887"
             ],
             [
              0.1111111111111111,
              "#46039f"
             ],
             [
              0.2222222222222222,
              "#7201a8"
             ],
             [
              0.3333333333333333,
              "#9c179e"
             ],
             [
              0.4444444444444444,
              "#bd3786"
             ],
             [
              0.5555555555555556,
              "#d8576b"
             ],
             [
              0.6666666666666666,
              "#ed7953"
             ],
             [
              0.7777777777777778,
              "#fb9f3a"
             ],
             [
              0.8888888888888888,
              "#fdca26"
             ],
             [
              1,
              "#f0f921"
             ]
            ],
            "type": "histogram2d"
           }
          ],
          "histogram2dcontour": [
           {
            "colorbar": {
             "outlinewidth": 0,
             "ticks": ""
            },
            "colorscale": [
             [
              0,
              "#0d0887"
             ],
             [
              0.1111111111111111,
              "#46039f"
             ],
             [
              0.2222222222222222,
              "#7201a8"
             ],
             [
              0.3333333333333333,
              "#9c179e"
             ],
             [
              0.4444444444444444,
              "#bd3786"
             ],
             [
              0.5555555555555556,
              "#d8576b"
             ],
             [
              0.6666666666666666,
              "#ed7953"
             ],
             [
              0.7777777777777778,
              "#fb9f3a"
             ],
             [
              0.8888888888888888,
              "#fdca26"
             ],
             [
              1,
              "#f0f921"
             ]
            ],
            "type": "histogram2dcontour"
           }
          ],
          "mesh3d": [
           {
            "colorbar": {
             "outlinewidth": 0,
             "ticks": ""
            },
            "type": "mesh3d"
           }
          ],
          "parcoords": [
           {
            "line": {
             "colorbar": {
              "outlinewidth": 0,
              "ticks": ""
             }
            },
            "type": "parcoords"
           }
          ],
          "pie": [
           {
            "automargin": true,
            "type": "pie"
           }
          ],
          "scatter": [
           {
            "marker": {
             "colorbar": {
              "outlinewidth": 0,
              "ticks": ""
             }
            },
            "type": "scatter"
           }
          ],
          "scatter3d": [
           {
            "line": {
             "colorbar": {
              "outlinewidth": 0,
              "ticks": ""
             }
            },
            "marker": {
             "colorbar": {
              "outlinewidth": 0,
              "ticks": ""
             }
            },
            "type": "scatter3d"
           }
          ],
          "scattercarpet": [
           {
            "marker": {
             "colorbar": {
              "outlinewidth": 0,
              "ticks": ""
             }
            },
            "type": "scattercarpet"
           }
          ],
          "scattergeo": [
           {
            "marker": {
             "colorbar": {
              "outlinewidth": 0,
              "ticks": ""
             }
            },
            "type": "scattergeo"
           }
          ],
          "scattergl": [
           {
            "marker": {
             "colorbar": {
              "outlinewidth": 0,
              "ticks": ""
             }
            },
            "type": "scattergl"
           }
          ],
          "scattermapbox": [
           {
            "marker": {
             "colorbar": {
              "outlinewidth": 0,
              "ticks": ""
             }
            },
            "type": "scattermapbox"
           }
          ],
          "scatterpolar": [
           {
            "marker": {
             "colorbar": {
              "outlinewidth": 0,
              "ticks": ""
             }
            },
            "type": "scatterpolar"
           }
          ],
          "scatterpolargl": [
           {
            "marker": {
             "colorbar": {
              "outlinewidth": 0,
              "ticks": ""
             }
            },
            "type": "scatterpolargl"
           }
          ],
          "scatterternary": [
           {
            "marker": {
             "colorbar": {
              "outlinewidth": 0,
              "ticks": ""
             }
            },
            "type": "scatterternary"
           }
          ],
          "surface": [
           {
            "colorbar": {
             "outlinewidth": 0,
             "ticks": ""
            },
            "colorscale": [
             [
              0,
              "#0d0887"
             ],
             [
              0.1111111111111111,
              "#46039f"
             ],
             [
              0.2222222222222222,
              "#7201a8"
             ],
             [
              0.3333333333333333,
              "#9c179e"
             ],
             [
              0.4444444444444444,
              "#bd3786"
             ],
             [
              0.5555555555555556,
              "#d8576b"
             ],
             [
              0.6666666666666666,
              "#ed7953"
             ],
             [
              0.7777777777777778,
              "#fb9f3a"
             ],
             [
              0.8888888888888888,
              "#fdca26"
             ],
             [
              1,
              "#f0f921"
             ]
            ],
            "type": "surface"
           }
          ],
          "table": [
           {
            "cells": {
             "fill": {
              "color": "#EBF0F8"
             },
             "line": {
              "color": "white"
             }
            },
            "header": {
             "fill": {
              "color": "#C8D4E3"
             },
             "line": {
              "color": "white"
             }
            },
            "type": "table"
           }
          ]
         },
         "layout": {
          "annotationdefaults": {
           "arrowcolor": "#2a3f5f",
           "arrowhead": 0,
           "arrowwidth": 1
          },
          "coloraxis": {
           "colorbar": {
            "outlinewidth": 0,
            "ticks": ""
           }
          },
          "colorscale": {
           "diverging": [
            [
             0,
             "#8e0152"
            ],
            [
             0.1,
             "#c51b7d"
            ],
            [
             0.2,
             "#de77ae"
            ],
            [
             0.3,
             "#f1b6da"
            ],
            [
             0.4,
             "#fde0ef"
            ],
            [
             0.5,
             "#f7f7f7"
            ],
            [
             0.6,
             "#e6f5d0"
            ],
            [
             0.7,
             "#b8e186"
            ],
            [
             0.8,
             "#7fbc41"
            ],
            [
             0.9,
             "#4d9221"
            ],
            [
             1,
             "#276419"
            ]
           ],
           "sequential": [
            [
             0,
             "#0d0887"
            ],
            [
             0.1111111111111111,
             "#46039f"
            ],
            [
             0.2222222222222222,
             "#7201a8"
            ],
            [
             0.3333333333333333,
             "#9c179e"
            ],
            [
             0.4444444444444444,
             "#bd3786"
            ],
            [
             0.5555555555555556,
             "#d8576b"
            ],
            [
             0.6666666666666666,
             "#ed7953"
            ],
            [
             0.7777777777777778,
             "#fb9f3a"
            ],
            [
             0.8888888888888888,
             "#fdca26"
            ],
            [
             1,
             "#f0f921"
            ]
           ],
           "sequentialminus": [
            [
             0,
             "#0d0887"
            ],
            [
             0.1111111111111111,
             "#46039f"
            ],
            [
             0.2222222222222222,
             "#7201a8"
            ],
            [
             0.3333333333333333,
             "#9c179e"
            ],
            [
             0.4444444444444444,
             "#bd3786"
            ],
            [
             0.5555555555555556,
             "#d8576b"
            ],
            [
             0.6666666666666666,
             "#ed7953"
            ],
            [
             0.7777777777777778,
             "#fb9f3a"
            ],
            [
             0.8888888888888888,
             "#fdca26"
            ],
            [
             1,
             "#f0f921"
            ]
           ]
          },
          "colorway": [
           "#636efa",
           "#EF553B",
           "#00cc96",
           "#ab63fa",
           "#FFA15A",
           "#19d3f3",
           "#FF6692",
           "#B6E880",
           "#FF97FF",
           "#FECB52"
          ],
          "font": {
           "color": "#2a3f5f"
          },
          "geo": {
           "bgcolor": "white",
           "lakecolor": "white",
           "landcolor": "#E5ECF6",
           "showlakes": true,
           "showland": true,
           "subunitcolor": "white"
          },
          "hoverlabel": {
           "align": "left"
          },
          "hovermode": "closest",
          "mapbox": {
           "style": "light"
          },
          "paper_bgcolor": "white",
          "plot_bgcolor": "#E5ECF6",
          "polar": {
           "angularaxis": {
            "gridcolor": "white",
            "linecolor": "white",
            "ticks": ""
           },
           "bgcolor": "#E5ECF6",
           "radialaxis": {
            "gridcolor": "white",
            "linecolor": "white",
            "ticks": ""
           }
          },
          "scene": {
           "xaxis": {
            "backgroundcolor": "#E5ECF6",
            "gridcolor": "white",
            "gridwidth": 2,
            "linecolor": "white",
            "showbackground": true,
            "ticks": "",
            "zerolinecolor": "white"
           },
           "yaxis": {
            "backgroundcolor": "#E5ECF6",
            "gridcolor": "white",
            "gridwidth": 2,
            "linecolor": "white",
            "showbackground": true,
            "ticks": "",
            "zerolinecolor": "white"
           },
           "zaxis": {
            "backgroundcolor": "#E5ECF6",
            "gridcolor": "white",
            "gridwidth": 2,
            "linecolor": "white",
            "showbackground": true,
            "ticks": "",
            "zerolinecolor": "white"
           }
          },
          "shapedefaults": {
           "line": {
            "color": "#2a3f5f"
           }
          },
          "ternary": {
           "aaxis": {
            "gridcolor": "white",
            "linecolor": "white",
            "ticks": ""
           },
           "baxis": {
            "gridcolor": "white",
            "linecolor": "white",
            "ticks": ""
           },
           "bgcolor": "#E5ECF6",
           "caxis": {
            "gridcolor": "white",
            "linecolor": "white",
            "ticks": ""
           }
          },
          "title": {
           "x": 0.05
          },
          "xaxis": {
           "automargin": true,
           "gridcolor": "white",
           "linecolor": "white",
           "ticks": "",
           "title": {
            "standoff": 15
           },
           "zerolinecolor": "white",
           "zerolinewidth": 2
          },
          "yaxis": {
           "automargin": true,
           "gridcolor": "white",
           "linecolor": "white",
           "ticks": "",
           "title": {
            "standoff": 15
           },
           "zerolinecolor": "white",
           "zerolinewidth": 2
          }
         }
        },
        "width": 1500,
        "xaxis": {
         "anchor": "y",
         "domain": [
          0,
          0.45
         ],
         "matches": "x13",
         "showticklabels": false
        },
        "xaxis10": {
         "anchor": "y10",
         "domain": [
          0.55,
          1
         ],
         "matches": "x14",
         "showticklabels": false
        },
        "xaxis11": {
         "anchor": "y11",
         "domain": [
          0,
          0.45
         ],
         "matches": "x13",
         "showticklabels": false
        },
        "xaxis12": {
         "anchor": "y12",
         "domain": [
          0.55,
          1
         ],
         "matches": "x14",
         "showticklabels": false
        },
        "xaxis13": {
         "anchor": "y13",
         "domain": [
          0,
          0.45
         ]
        },
        "xaxis14": {
         "anchor": "y14",
         "domain": [
          0.55,
          1
         ]
        },
        "xaxis2": {
         "anchor": "y2",
         "domain": [
          0.55,
          1
         ],
         "matches": "x14",
         "showticklabels": false
        },
        "xaxis3": {
         "anchor": "y3",
         "domain": [
          0,
          0.45
         ],
         "matches": "x13",
         "showticklabels": false
        },
        "xaxis4": {
         "anchor": "y4",
         "domain": [
          0.55,
          1
         ],
         "matches": "x14",
         "showticklabels": false
        },
        "xaxis5": {
         "anchor": "y5",
         "domain": [
          0,
          0.45
         ],
         "matches": "x13",
         "showticklabels": false
        },
        "xaxis6": {
         "anchor": "y6",
         "domain": [
          0.55,
          1
         ],
         "matches": "x14",
         "showticklabels": false
        },
        "xaxis7": {
         "anchor": "y7",
         "domain": [
          0,
          0.45
         ],
         "matches": "x13",
         "showticklabels": false
        },
        "xaxis8": {
         "anchor": "y8",
         "domain": [
          0.55,
          1
         ],
         "matches": "x14",
         "showticklabels": false
        },
        "xaxis9": {
         "anchor": "y9",
         "domain": [
          0,
          0.45
         ],
         "matches": "x13",
         "showticklabels": false
        },
        "yaxis": {
         "anchor": "x",
         "domain": [
          0.8828571428571428,
          0.9999999999999999
         ]
        },
        "yaxis10": {
         "anchor": "x10",
         "domain": [
          0.29428571428571426,
          0.4114285714285714
         ]
        },
        "yaxis11": {
         "anchor": "x11",
         "domain": [
          0.14714285714285713,
          0.2642857142857143
         ]
        },
        "yaxis12": {
         "anchor": "x12",
         "domain": [
          0.14714285714285713,
          0.2642857142857143
         ]
        },
        "yaxis13": {
         "anchor": "x13",
         "domain": [
          0,
          0.11714285714285715
         ]
        },
        "yaxis14": {
         "anchor": "x14",
         "domain": [
          0,
          0.11714285714285715
         ]
        },
        "yaxis2": {
         "anchor": "x2",
         "domain": [
          0.8828571428571428,
          0.9999999999999999
         ]
        },
        "yaxis3": {
         "anchor": "x3",
         "domain": [
          0.7357142857142858,
          0.8528571428571429
         ]
        },
        "yaxis4": {
         "anchor": "x4",
         "domain": [
          0.7357142857142858,
          0.8528571428571429
         ]
        },
        "yaxis5": {
         "anchor": "x5",
         "domain": [
          0.5885714285714285,
          0.7057142857142856
         ]
        },
        "yaxis6": {
         "anchor": "x6",
         "domain": [
          0.5885714285714285,
          0.7057142857142856
         ]
        },
        "yaxis7": {
         "anchor": "x7",
         "domain": [
          0.4414285714285714,
          0.5585714285714285
         ]
        },
        "yaxis8": {
         "anchor": "x8",
         "domain": [
          0.4414285714285714,
          0.5585714285714285
         ]
        },
        "yaxis9": {
         "anchor": "x9",
         "domain": [
          0.29428571428571426,
          0.4114285714285714
         ]
        }
       }
      },
      "text/html": [
       "<div>\n",
       "        \n",
       "        \n",
       "            <div id=\"0b9f7585-9aaa-44ad-9c38-aa1a8bd2854f\" class=\"plotly-graph-div\" style=\"height:2000px; width:1500px;\"></div>\n",
       "            <script type=\"text/javascript\">\n",
       "                require([\"plotly\"], function(Plotly) {\n",
       "                    window.PLOTLYENV=window.PLOTLYENV || {};\n",
       "                    \n",
       "                if (document.getElementById(\"0b9f7585-9aaa-44ad-9c38-aa1a8bd2854f\")) {\n",
       "                    Plotly.newPlot(\n",
       "                        '0b9f7585-9aaa-44ad-9c38-aa1a8bd2854f',\n",
       "                        [{\"type\": \"bar\", \"x\": [\"Monday\", \"Tuesday\", \"Wednesday\", \"Thursday\", \"Friday\", \"Saturday\", \"Sunday\"], \"xaxis\": \"x\", \"y\": [3095.0, 3145.0, 3344.0, 3138.0, 3378.0, 3197.0, 2937.0], \"yaxis\": \"y\"}, {\"type\": \"bar\", \"x\": [\"Monday\", \"Tuesday\", \"Wednesday\", \"Thursday\", \"Friday\", \"Saturday\", \"Sunday\"], \"xaxis\": \"x2\", \"y\": [1143.0, 3054.0, 3332.0, 3680.0, 2803.0, 1598.0, 1091.0], \"yaxis\": \"y2\"}, {\"type\": \"bar\", \"x\": [\"Monday\", \"Tuesday\", \"Wednesday\", \"Thursday\", \"Friday\", \"Saturday\", \"Sunday\"], \"xaxis\": \"x3\", \"y\": [649.0, 587.0, 587.0, 693.0, 876.0, 1155.0, 1125.0], \"yaxis\": \"y3\"}, {\"type\": \"bar\", \"x\": [\"Monday\", \"Tuesday\", \"Wednesday\", \"Thursday\", \"Friday\", \"Saturday\", \"Sunday\"], \"xaxis\": \"x4\", \"y\": [7972.0, 7769.0, 7804.0, 7732.0, 8033.0, 8411.0, 8146.0], \"yaxis\": \"y4\"}, {\"type\": \"bar\", \"x\": [\"Monday\", \"Tuesday\", \"Wednesday\", \"Thursday\", \"Friday\", \"Saturday\", \"Sunday\"], \"xaxis\": \"x5\", \"y\": [13084.0, 13158.0, 13463.0, 13518.0, 15586.0, 11948.0, 10786.0], \"yaxis\": \"y5\"}, {\"type\": \"bar\", \"x\": [\"Monday\", \"Tuesday\", \"Wednesday\", \"Thursday\", \"Friday\", \"Saturday\", \"Sunday\"], \"xaxis\": \"x6\", \"y\": [26656.0, 26333.0, 26531.0, 26021.0, 28396.0, 30377.0, 30380.0], \"yaxis\": \"y6\"}, {\"type\": \"bar\", \"x\": [\"Monday\", \"Tuesday\", \"Wednesday\", \"Thursday\", \"Friday\", \"Saturday\", \"Sunday\"], \"xaxis\": \"x7\", \"y\": [1192.0, 1106.0, 1182.0, 1153.0, 1436.0, 1853.0, 1904.0], \"yaxis\": \"y7\"}, {\"type\": \"bar\", \"x\": [\"Monday\", \"Tuesday\", \"Wednesday\", \"Thursday\", \"Friday\", \"Saturday\", \"Sunday\"], \"xaxis\": \"x8\", \"y\": [16906.0, 19114.0, 20675.0, 18555.0, 16479.0, 14338.0, 13561.0], \"yaxis\": \"y8\"}, {\"type\": \"bar\", \"x\": [\"Monday\", \"Tuesday\", \"Wednesday\", \"Thursday\", \"Friday\", \"Saturday\", \"Sunday\"], \"xaxis\": \"x9\", \"y\": [2842.0, 3020.0, 3082.0, 2820.0, 2790.0, 2476.0, 2419.0], \"yaxis\": \"y9\"}, {\"type\": \"bar\", \"x\": [\"Monday\", \"Tuesday\", \"Wednesday\", \"Thursday\", \"Friday\", \"Saturday\", \"Sunday\"], \"xaxis\": \"x10\", \"y\": [64228.0, 65788.0, 67247.0, 67685.0, 74746.0, 74565.0, 66189.0], \"yaxis\": \"y10\"}, {\"type\": \"bar\", \"x\": [\"Monday\", \"Tuesday\", \"Wednesday\", \"Thursday\", \"Friday\", \"Saturday\", \"Sunday\"], \"xaxis\": \"x11\", \"y\": [15390.0, 15150.0, 15537.0, 15409.0, 18486.0, 18861.0, 17226.0], \"yaxis\": \"y11\"}, {\"type\": \"bar\", \"x\": [\"Monday\", \"Tuesday\", \"Wednesday\", \"Thursday\", \"Friday\", \"Saturday\", \"Sunday\"], \"xaxis\": \"x12\", \"y\": [17283.0, 17223.0, 17744.0, 17616.0, 20112.0, 18930.0, 17694.0], \"yaxis\": \"y12\"}, {\"type\": \"bar\", \"x\": [\"Monday\", \"Tuesday\", \"Wednesday\", \"Thursday\", \"Friday\", \"Saturday\", \"Sunday\"], \"xaxis\": \"x13\", \"y\": [1711.0, 1809.0, 1829.0, 1701.0, 1649.0, 1590.0, 1602.0], \"yaxis\": \"y13\"}, {\"type\": \"bar\", \"x\": [\"Monday\", \"Tuesday\", \"Wednesday\", \"Thursday\", \"Friday\", \"Saturday\", \"Sunday\"], \"xaxis\": \"x14\", \"y\": [1491.0, 1577.0, 1606.0, 1452.0, 1227.0, 1393.0, 1294.0], \"yaxis\": \"y14\"}],\n",
       "                        {\"annotations\": [{\"font\": {\"size\": 16}, \"showarrow\": false, \"text\": \"WEAPON LAWS\", \"x\": 0.225, \"xanchor\": \"center\", \"xref\": \"paper\", \"y\": 0.9999999999999999, \"yanchor\": \"bottom\", \"yref\": \"paper\"}, {\"font\": {\"size\": 16}, \"showarrow\": false, \"text\": \"PROSTITUTION\", \"x\": 0.775, \"xanchor\": \"center\", \"xref\": \"paper\", \"y\": 0.9999999999999999, \"yanchor\": \"bottom\", \"yref\": \"paper\"}, {\"font\": {\"size\": 16}, \"showarrow\": false, \"text\": \"DRIVING UNDER THE INFLUENCE\", \"x\": 0.225, \"xanchor\": \"center\", \"xref\": \"paper\", \"y\": 0.8528571428571429, \"yanchor\": \"bottom\", \"yref\": \"paper\"}, {\"font\": {\"size\": 16}, \"showarrow\": false, \"text\": \"ROBBERY\", \"x\": 0.775, \"xanchor\": \"center\", \"xref\": \"paper\", \"y\": 0.8528571428571429, \"yanchor\": \"bottom\", \"yref\": \"paper\"}, {\"font\": {\"size\": 16}, \"showarrow\": false, \"text\": \"BURGLARY\", \"x\": 0.225, \"xanchor\": \"center\", \"xref\": \"paper\", \"y\": 0.7057142857142856, \"yanchor\": \"bottom\", \"yref\": \"paper\"}, {\"font\": {\"size\": 16}, \"showarrow\": false, \"text\": \"ASSAULT\", \"x\": 0.775, \"xanchor\": \"center\", \"xref\": \"paper\", \"y\": 0.7057142857142856, \"yanchor\": \"bottom\", \"yref\": \"paper\"}, {\"font\": {\"size\": 16}, \"showarrow\": false, \"text\": \"DRUNKENNESS\", \"x\": 0.225, \"xanchor\": \"center\", \"xref\": \"paper\", \"y\": 0.5585714285714285, \"yanchor\": \"bottom\", \"yref\": \"paper\"}, {\"font\": {\"size\": 16}, \"showarrow\": false, \"text\": \"DRUG/NARCOTIC\", \"x\": 0.775, \"xanchor\": \"center\", \"xref\": \"paper\", \"y\": 0.5585714285714285, \"yanchor\": \"bottom\", \"yref\": \"paper\"}, {\"font\": {\"size\": 16}, \"showarrow\": false, \"text\": \"TRESPASS\", \"x\": 0.225, \"xanchor\": \"center\", \"xref\": \"paper\", \"y\": 0.4114285714285714, \"yanchor\": \"bottom\", \"yref\": \"paper\"}, {\"font\": {\"size\": 16}, \"showarrow\": false, \"text\": \"LARCENY/THEFT\", \"x\": 0.775, \"xanchor\": \"center\", \"xref\": \"paper\", \"y\": 0.4114285714285714, \"yanchor\": \"bottom\", \"yref\": \"paper\"}, {\"font\": {\"size\": 16}, \"showarrow\": false, \"text\": \"VANDALISM\", \"x\": 0.225, \"xanchor\": \"center\", \"xref\": \"paper\", \"y\": 0.2642857142857143, \"yanchor\": \"bottom\", \"yref\": \"paper\"}, {\"font\": {\"size\": 16}, \"showarrow\": false, \"text\": \"VEHICLE THEFT\", \"x\": 0.775, \"xanchor\": \"center\", \"xref\": \"paper\", \"y\": 0.2642857142857143, \"yanchor\": \"bottom\", \"yref\": \"paper\"}, {\"font\": {\"size\": 16}, \"showarrow\": false, \"text\": \"STOLEN PROPERTY\", \"x\": 0.225, \"xanchor\": \"center\", \"xref\": \"paper\", \"y\": 0.11714285714285715, \"yanchor\": \"bottom\", \"yref\": \"paper\"}, {\"font\": {\"size\": 16}, \"showarrow\": false, \"text\": \"DISORDERLY CONDUCT\", \"x\": 0.775, \"xanchor\": \"center\", \"xref\": \"paper\", \"y\": 0.11714285714285715, \"yanchor\": \"bottom\", \"yref\": \"paper\"}], \"height\": 2000, \"showlegend\": false, \"template\": {\"data\": {\"bar\": [{\"error_x\": {\"color\": \"#2a3f5f\"}, \"error_y\": {\"color\": \"#2a3f5f\"}, \"marker\": {\"line\": {\"color\": \"#E5ECF6\", \"width\": 0.5}}, \"type\": \"bar\"}], \"barpolar\": [{\"marker\": {\"line\": {\"color\": \"#E5ECF6\", \"width\": 0.5}}, \"type\": \"barpolar\"}], \"carpet\": [{\"aaxis\": {\"endlinecolor\": \"#2a3f5f\", \"gridcolor\": \"white\", \"linecolor\": \"white\", \"minorgridcolor\": \"white\", \"startlinecolor\": \"#2a3f5f\"}, \"baxis\": {\"endlinecolor\": \"#2a3f5f\", \"gridcolor\": \"white\", \"linecolor\": \"white\", \"minorgridcolor\": \"white\", \"startlinecolor\": \"#2a3f5f\"}, \"type\": \"carpet\"}], \"choropleth\": [{\"colorbar\": {\"outlinewidth\": 0, \"ticks\": \"\"}, \"type\": \"choropleth\"}], \"contour\": [{\"colorbar\": {\"outlinewidth\": 0, \"ticks\": \"\"}, \"colorscale\": [[0.0, \"#0d0887\"], [0.1111111111111111, \"#46039f\"], [0.2222222222222222, \"#7201a8\"], [0.3333333333333333, \"#9c179e\"], [0.4444444444444444, \"#bd3786\"], [0.5555555555555556, \"#d8576b\"], [0.6666666666666666, \"#ed7953\"], [0.7777777777777778, \"#fb9f3a\"], [0.8888888888888888, \"#fdca26\"], [1.0, \"#f0f921\"]], \"type\": \"contour\"}], \"contourcarpet\": [{\"colorbar\": {\"outlinewidth\": 0, \"ticks\": \"\"}, \"type\": \"contourcarpet\"}], \"heatmap\": [{\"colorbar\": {\"outlinewidth\": 0, \"ticks\": \"\"}, \"colorscale\": [[0.0, \"#0d0887\"], [0.1111111111111111, \"#46039f\"], [0.2222222222222222, \"#7201a8\"], [0.3333333333333333, \"#9c179e\"], [0.4444444444444444, \"#bd3786\"], [0.5555555555555556, \"#d8576b\"], [0.6666666666666666, \"#ed7953\"], [0.7777777777777778, \"#fb9f3a\"], [0.8888888888888888, \"#fdca26\"], [1.0, \"#f0f921\"]], \"type\": \"heatmap\"}], \"heatmapgl\": [{\"colorbar\": {\"outlinewidth\": 0, \"ticks\": \"\"}, \"colorscale\": [[0.0, \"#0d0887\"], [0.1111111111111111, \"#46039f\"], [0.2222222222222222, \"#7201a8\"], [0.3333333333333333, \"#9c179e\"], [0.4444444444444444, \"#bd3786\"], [0.5555555555555556, \"#d8576b\"], [0.6666666666666666, \"#ed7953\"], [0.7777777777777778, \"#fb9f3a\"], [0.8888888888888888, \"#fdca26\"], [1.0, \"#f0f921\"]], \"type\": \"heatmapgl\"}], \"histogram\": [{\"marker\": {\"colorbar\": {\"outlinewidth\": 0, \"ticks\": \"\"}}, \"type\": \"histogram\"}], \"histogram2d\": [{\"colorbar\": {\"outlinewidth\": 0, \"ticks\": \"\"}, \"colorscale\": [[0.0, \"#0d0887\"], [0.1111111111111111, \"#46039f\"], [0.2222222222222222, \"#7201a8\"], [0.3333333333333333, \"#9c179e\"], [0.4444444444444444, \"#bd3786\"], [0.5555555555555556, \"#d8576b\"], [0.6666666666666666, \"#ed7953\"], [0.7777777777777778, \"#fb9f3a\"], [0.8888888888888888, \"#fdca26\"], [1.0, \"#f0f921\"]], \"type\": \"histogram2d\"}], \"histogram2dcontour\": [{\"colorbar\": {\"outlinewidth\": 0, \"ticks\": \"\"}, \"colorscale\": [[0.0, \"#0d0887\"], [0.1111111111111111, \"#46039f\"], [0.2222222222222222, \"#7201a8\"], [0.3333333333333333, \"#9c179e\"], [0.4444444444444444, \"#bd3786\"], [0.5555555555555556, \"#d8576b\"], [0.6666666666666666, \"#ed7953\"], [0.7777777777777778, \"#fb9f3a\"], [0.8888888888888888, \"#fdca26\"], [1.0, \"#f0f921\"]], \"type\": \"histogram2dcontour\"}], \"mesh3d\": [{\"colorbar\": {\"outlinewidth\": 0, \"ticks\": \"\"}, \"type\": \"mesh3d\"}], \"parcoords\": [{\"line\": {\"colorbar\": {\"outlinewidth\": 0, \"ticks\": \"\"}}, \"type\": \"parcoords\"}], \"pie\": [{\"automargin\": true, \"type\": \"pie\"}], \"scatter\": [{\"marker\": {\"colorbar\": {\"outlinewidth\": 0, \"ticks\": \"\"}}, \"type\": \"scatter\"}], \"scatter3d\": [{\"line\": {\"colorbar\": {\"outlinewidth\": 0, \"ticks\": \"\"}}, \"marker\": {\"colorbar\": {\"outlinewidth\": 0, \"ticks\": \"\"}}, \"type\": \"scatter3d\"}], \"scattercarpet\": [{\"marker\": {\"colorbar\": {\"outlinewidth\": 0, \"ticks\": \"\"}}, \"type\": \"scattercarpet\"}], \"scattergeo\": [{\"marker\": {\"colorbar\": {\"outlinewidth\": 0, \"ticks\": \"\"}}, \"type\": \"scattergeo\"}], \"scattergl\": [{\"marker\": {\"colorbar\": {\"outlinewidth\": 0, \"ticks\": \"\"}}, \"type\": \"scattergl\"}], \"scattermapbox\": [{\"marker\": {\"colorbar\": {\"outlinewidth\": 0, \"ticks\": \"\"}}, \"type\": \"scattermapbox\"}], \"scatterpolar\": [{\"marker\": {\"colorbar\": {\"outlinewidth\": 0, \"ticks\": \"\"}}, \"type\": \"scatterpolar\"}], \"scatterpolargl\": [{\"marker\": {\"colorbar\": {\"outlinewidth\": 0, \"ticks\": \"\"}}, \"type\": \"scatterpolargl\"}], \"scatterternary\": [{\"marker\": {\"colorbar\": {\"outlinewidth\": 0, \"ticks\": \"\"}}, \"type\": \"scatterternary\"}], \"surface\": [{\"colorbar\": {\"outlinewidth\": 0, \"ticks\": \"\"}, \"colorscale\": [[0.0, \"#0d0887\"], [0.1111111111111111, \"#46039f\"], [0.2222222222222222, \"#7201a8\"], [0.3333333333333333, \"#9c179e\"], [0.4444444444444444, \"#bd3786\"], [0.5555555555555556, \"#d8576b\"], [0.6666666666666666, \"#ed7953\"], [0.7777777777777778, \"#fb9f3a\"], [0.8888888888888888, \"#fdca26\"], [1.0, \"#f0f921\"]], \"type\": \"surface\"}], \"table\": [{\"cells\": {\"fill\": {\"color\": \"#EBF0F8\"}, \"line\": {\"color\": \"white\"}}, \"header\": {\"fill\": {\"color\": \"#C8D4E3\"}, \"line\": {\"color\": \"white\"}}, \"type\": \"table\"}]}, \"layout\": {\"annotationdefaults\": {\"arrowcolor\": \"#2a3f5f\", \"arrowhead\": 0, \"arrowwidth\": 1}, \"coloraxis\": {\"colorbar\": {\"outlinewidth\": 0, \"ticks\": \"\"}}, \"colorscale\": {\"diverging\": [[0, \"#8e0152\"], [0.1, \"#c51b7d\"], [0.2, \"#de77ae\"], [0.3, \"#f1b6da\"], [0.4, \"#fde0ef\"], [0.5, \"#f7f7f7\"], [0.6, \"#e6f5d0\"], [0.7, \"#b8e186\"], [0.8, \"#7fbc41\"], [0.9, \"#4d9221\"], [1, \"#276419\"]], \"sequential\": [[0.0, \"#0d0887\"], [0.1111111111111111, \"#46039f\"], [0.2222222222222222, \"#7201a8\"], [0.3333333333333333, \"#9c179e\"], [0.4444444444444444, \"#bd3786\"], [0.5555555555555556, \"#d8576b\"], [0.6666666666666666, \"#ed7953\"], [0.7777777777777778, \"#fb9f3a\"], [0.8888888888888888, \"#fdca26\"], [1.0, \"#f0f921\"]], \"sequentialminus\": [[0.0, \"#0d0887\"], [0.1111111111111111, \"#46039f\"], [0.2222222222222222, \"#7201a8\"], [0.3333333333333333, \"#9c179e\"], [0.4444444444444444, \"#bd3786\"], [0.5555555555555556, \"#d8576b\"], [0.6666666666666666, \"#ed7953\"], [0.7777777777777778, \"#fb9f3a\"], [0.8888888888888888, \"#fdca26\"], [1.0, \"#f0f921\"]]}, \"colorway\": [\"#636efa\", \"#EF553B\", \"#00cc96\", \"#ab63fa\", \"#FFA15A\", \"#19d3f3\", \"#FF6692\", \"#B6E880\", \"#FF97FF\", \"#FECB52\"], \"font\": {\"color\": \"#2a3f5f\"}, \"geo\": {\"bgcolor\": \"white\", \"lakecolor\": \"white\", \"landcolor\": \"#E5ECF6\", \"showlakes\": true, \"showland\": true, \"subunitcolor\": \"white\"}, \"hoverlabel\": {\"align\": \"left\"}, \"hovermode\": \"closest\", \"mapbox\": {\"style\": \"light\"}, \"paper_bgcolor\": \"white\", \"plot_bgcolor\": \"#E5ECF6\", \"polar\": {\"angularaxis\": {\"gridcolor\": \"white\", \"linecolor\": \"white\", \"ticks\": \"\"}, \"bgcolor\": \"#E5ECF6\", \"radialaxis\": {\"gridcolor\": \"white\", \"linecolor\": \"white\", \"ticks\": \"\"}}, \"scene\": {\"xaxis\": {\"backgroundcolor\": \"#E5ECF6\", \"gridcolor\": \"white\", \"gridwidth\": 2, \"linecolor\": \"white\", \"showbackground\": true, \"ticks\": \"\", \"zerolinecolor\": \"white\"}, \"yaxis\": {\"backgroundcolor\": \"#E5ECF6\", \"gridcolor\": \"white\", \"gridwidth\": 2, \"linecolor\": \"white\", \"showbackground\": true, \"ticks\": \"\", \"zerolinecolor\": \"white\"}, \"zaxis\": {\"backgroundcolor\": \"#E5ECF6\", \"gridcolor\": \"white\", \"gridwidth\": 2, \"linecolor\": \"white\", \"showbackground\": true, \"ticks\": \"\", \"zerolinecolor\": \"white\"}}, \"shapedefaults\": {\"line\": {\"color\": \"#2a3f5f\"}}, \"ternary\": {\"aaxis\": {\"gridcolor\": \"white\", \"linecolor\": \"white\", \"ticks\": \"\"}, \"baxis\": {\"gridcolor\": \"white\", \"linecolor\": \"white\", \"ticks\": \"\"}, \"bgcolor\": \"#E5ECF6\", \"caxis\": {\"gridcolor\": \"white\", \"linecolor\": \"white\", \"ticks\": \"\"}}, \"title\": {\"x\": 0.05}, \"xaxis\": {\"automargin\": true, \"gridcolor\": \"white\", \"linecolor\": \"white\", \"ticks\": \"\", \"title\": {\"standoff\": 15}, \"zerolinecolor\": \"white\", \"zerolinewidth\": 2}, \"yaxis\": {\"automargin\": true, \"gridcolor\": \"white\", \"linecolor\": \"white\", \"ticks\": \"\", \"title\": {\"standoff\": 15}, \"zerolinecolor\": \"white\", \"zerolinewidth\": 2}}}, \"width\": 1500, \"xaxis\": {\"anchor\": \"y\", \"domain\": [0.0, 0.45], \"matches\": \"x13\", \"showticklabels\": false}, \"xaxis10\": {\"anchor\": \"y10\", \"domain\": [0.55, 1.0], \"matches\": \"x14\", \"showticklabels\": false}, \"xaxis11\": {\"anchor\": \"y11\", \"domain\": [0.0, 0.45], \"matches\": \"x13\", \"showticklabels\": false}, \"xaxis12\": {\"anchor\": \"y12\", \"domain\": [0.55, 1.0], \"matches\": \"x14\", \"showticklabels\": false}, \"xaxis13\": {\"anchor\": \"y13\", \"domain\": [0.0, 0.45]}, \"xaxis14\": {\"anchor\": \"y14\", \"domain\": [0.55, 1.0]}, \"xaxis2\": {\"anchor\": \"y2\", \"domain\": [0.55, 1.0], \"matches\": \"x14\", \"showticklabels\": false}, \"xaxis3\": {\"anchor\": \"y3\", \"domain\": [0.0, 0.45], \"matches\": \"x13\", \"showticklabels\": false}, \"xaxis4\": {\"anchor\": \"y4\", \"domain\": [0.55, 1.0], \"matches\": \"x14\", \"showticklabels\": false}, \"xaxis5\": {\"anchor\": \"y5\", \"domain\": [0.0, 0.45], \"matches\": \"x13\", \"showticklabels\": false}, \"xaxis6\": {\"anchor\": \"y6\", \"domain\": [0.55, 1.0], \"matches\": \"x14\", \"showticklabels\": false}, \"xaxis7\": {\"anchor\": \"y7\", \"domain\": [0.0, 0.45], \"matches\": \"x13\", \"showticklabels\": false}, \"xaxis8\": {\"anchor\": \"y8\", \"domain\": [0.55, 1.0], \"matches\": \"x14\", \"showticklabels\": false}, \"xaxis9\": {\"anchor\": \"y9\", \"domain\": [0.0, 0.45], \"matches\": \"x13\", \"showticklabels\": false}, \"yaxis\": {\"anchor\": \"x\", \"domain\": [0.8828571428571428, 0.9999999999999999]}, \"yaxis10\": {\"anchor\": \"x10\", \"domain\": [0.29428571428571426, 0.4114285714285714]}, \"yaxis11\": {\"anchor\": \"x11\", \"domain\": [0.14714285714285713, 0.2642857142857143]}, \"yaxis12\": {\"anchor\": \"x12\", \"domain\": [0.14714285714285713, 0.2642857142857143]}, \"yaxis13\": {\"anchor\": \"x13\", \"domain\": [0.0, 0.11714285714285715]}, \"yaxis14\": {\"anchor\": \"x14\", \"domain\": [0.0, 0.11714285714285715]}, \"yaxis2\": {\"anchor\": \"x2\", \"domain\": [0.8828571428571428, 0.9999999999999999]}, \"yaxis3\": {\"anchor\": \"x3\", \"domain\": [0.7357142857142858, 0.8528571428571429]}, \"yaxis4\": {\"anchor\": \"x4\", \"domain\": [0.7357142857142858, 0.8528571428571429]}, \"yaxis5\": {\"anchor\": \"x5\", \"domain\": [0.5885714285714285, 0.7057142857142856]}, \"yaxis6\": {\"anchor\": \"x6\", \"domain\": [0.5885714285714285, 0.7057142857142856]}, \"yaxis7\": {\"anchor\": \"x7\", \"domain\": [0.4414285714285714, 0.5585714285714285]}, \"yaxis8\": {\"anchor\": \"x8\", \"domain\": [0.4414285714285714, 0.5585714285714285]}, \"yaxis9\": {\"anchor\": \"x9\", \"domain\": [0.29428571428571426, 0.4114285714285714]}},\n",
       "                        {\"responsive\": true}\n",
       "                    ).then(function(){\n",
       "                            \n",
       "var gd = document.getElementById('0b9f7585-9aaa-44ad-9c38-aa1a8bd2854f');\n",
       "var x = new MutationObserver(function (mutations, observer) {{\n",
       "        var display = window.getComputedStyle(gd).display;\n",
       "        if (!display || display === 'none') {{\n",
       "            console.log([gd, 'removed!']);\n",
       "            Plotly.purge(gd);\n",
       "            observer.disconnect();\n",
       "        }}\n",
       "}});\n",
       "\n",
       "// Listen for the removal of the full notebook cells\n",
       "var notebookContainer = gd.closest('#notebook-container');\n",
       "if (notebookContainer) {{\n",
       "    x.observe(notebookContainer, {childList: true});\n",
       "}}\n",
       "\n",
       "// Listen for the clearing of the current output cell\n",
       "var outputEl = gd.closest('.output');\n",
       "if (outputEl) {{\n",
       "    x.observe(outputEl, {childList: true});\n",
       "}}\n",
       "\n",
       "                        })\n",
       "                };\n",
       "                });\n",
       "            </script>\n",
       "        </div>"
      ]
     },
     "metadata": {},
     "output_type": "display_data"
    }
   ],
   "source": [
    "fig = make_subplots(rows=7, cols=2, shared_xaxes=True, vertical_spacing=0.03, subplot_titles=list(focuscrimes.keys()))\n",
    "for focuscrime, locations in focuscrimes.items():\n",
    "    fig.add_trace(\n",
    "        go.Bar(x=crimes.index, y=crimes[focuscrime]),\n",
    "        row=locations[0],\n",
    "        col=locations[1]\n",
    "    )\n",
    "    \n",
    "    fig.update_layout(\n",
    "        height=2000, width=1500,\n",
    "        showlegend=False)\n",
    "\n",
    "fig.show()"
   ]
  },
  {
   "cell_type": "code",
   "execution_count": 13,
   "metadata": {},
   "outputs": [
    {
     "data": {
      "text/plain": [
       "array(['SOUTHERN', 'TARAVAL', 'BAYVIEW', 'TENDERLOIN', 'NORTHERN',\n",
       "       'INGLESIDE', 'RICHMOND', 'MISSION', 'CENTRAL', 'PARK', nan],\n",
       "      dtype=object)"
      ]
     },
     "execution_count": 13,
     "metadata": {},
     "output_type": "execute_result"
    }
   ],
   "source": [
    "dataframe['PdDistrict'].value_counts()"
   ]
  },
  {
   "cell_type": "code",
   "execution_count": 44,
   "metadata": {},
   "outputs": [],
   "source": [
    "focuscrimes = ['WEAPON LAWS', 'PROSTITUTION', 'DRIVING UNDER THE INFLUENCE', 'ROBBERY', 'BURGLARY', 'ASSAULT', 'DRUNKENNESS', 'DRUG/NARCOTIC', 'TRESPASS', 'LARCENY/THEFT', 'VANDALISM', 'VEHICLE THEFT', 'STOLEN PROPERTY', 'DISORDERLY CONDUCT']"
   ]
  },
  {
   "cell_type": "code",
   "execution_count": 45,
   "metadata": {},
   "outputs": [
    {
     "data": {
      "text/plain": [
       "2215024"
      ]
     },
     "execution_count": 45,
     "metadata": {},
     "output_type": "execute_result"
    }
   ],
   "source": [
    "len(dataframe)"
   ]
  },
  {
   "cell_type": "code",
   "execution_count": 48,
   "metadata": {},
   "outputs": [
    {
     "data": {
      "text/plain": [
       "SOUTHERN      231125\n",
       "NORTHERN      175525\n",
       "MISSION       167757\n",
       "CENTRAL       142378\n",
       "BAYVIEW       118026\n",
       "TENDERLOIN    108085\n",
       "INGLESIDE     107654\n",
       "TARAVAL        92254\n",
       "PARK           69397\n",
       "RICHMOND       68452\n",
       "NaN                1\n",
       "Name: PdDistrict, dtype: int64"
      ]
     },
     "execution_count": 48,
     "metadata": {},
     "output_type": "execute_result"
    }
   ],
   "source": [
    "dataframe.loc[[x in focuscrimes for x in dataframe['Category']], 'PdDistrict'].value_counts(dropna=False)"
   ]
  },
  {
   "cell_type": "code",
   "execution_count": 54,
   "metadata": {},
   "outputs": [],
   "source": [
    "p_of_crime = dataframe.loc[:, 'Category'].value_counts(dropna=False) / len(dataframe)"
   ]
  },
  {
   "cell_type": "code",
   "execution_count": null,
   "metadata": {},
   "outputs": [],
   "source": [
    "f, axes = plt.subplots()\n",
    "for district, ax in zip(districts, np.ravel(axes)):"
   ]
  }
 ],
 "metadata": {
  "kernelspec": {
   "display_name": "Python 3.7.1 64-bit ('venv': virtualenv)",
   "language": "python",
   "name": "python37164bitvenvvirtualenv84dc0c145867431db14750c6d0cbc978"
  },
  "language_info": {
   "codemirror_mode": {
    "name": "ipython",
    "version": 3
   },
   "file_extension": ".py",
   "mimetype": "text/x-python",
   "name": "python",
   "nbconvert_exporter": "python",
   "pygments_lexer": "ipython3",
   "version": "3.7.1"
  }
 },
 "nbformat": 4,
 "nbformat_minor": 4
}
